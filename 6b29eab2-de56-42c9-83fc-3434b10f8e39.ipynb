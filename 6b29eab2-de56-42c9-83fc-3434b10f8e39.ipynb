{
 "cells": [
  {
   "cell_type": "markdown",
   "metadata": {
    "id": "sIfNaMOxgFyK"
   },
   "source": [
    "## Исследование данных о российском кинопрокате\n",
    "\n"
   ]
  },
  {
   "cell_type": "markdown",
   "metadata": {
    "id": "3bSlkCsbgFyL"
   },
   "source": [
    "## Исходные данные\n",
    "\n"
   ]
  },
  {
   "cell_type": "markdown",
   "metadata": {},
   "source": [
    "Откроем файлы с данными и объединим их в один датафрейм."
   ]
  },
  {
   "cell_type": "code",
   "execution_count": 1,
   "metadata": {
    "id": "dw87FlzMgFyM",
    "scrolled": true
   },
   "outputs": [
    {
     "data": {
      "text/html": [
       "<div>\n",
       "<style scoped>\n",
       "    .dataframe tbody tr th:only-of-type {\n",
       "        vertical-align: middle;\n",
       "    }\n",
       "\n",
       "    .dataframe tbody tr th {\n",
       "        vertical-align: top;\n",
       "    }\n",
       "\n",
       "    .dataframe thead th {\n",
       "        text-align: right;\n",
       "    }\n",
       "</style>\n",
       "<table border=\"1\" class=\"dataframe\">\n",
       "  <thead>\n",
       "    <tr style=\"text-align: right;\">\n",
       "      <th></th>\n",
       "      <th>title</th>\n",
       "      <th>puNumber</th>\n",
       "      <th>show_start_date</th>\n",
       "      <th>type</th>\n",
       "      <th>film_studio</th>\n",
       "      <th>production_country</th>\n",
       "      <th>director</th>\n",
       "      <th>producer</th>\n",
       "      <th>age_restriction</th>\n",
       "      <th>refundable_support</th>\n",
       "      <th>nonrefundable_support</th>\n",
       "      <th>budget</th>\n",
       "      <th>financing_source</th>\n",
       "      <th>ratings</th>\n",
       "      <th>genres</th>\n",
       "    </tr>\n",
       "  </thead>\n",
       "  <tbody>\n",
       "    <tr>\n",
       "      <th>0</th>\n",
       "      <td>Открытый простор</td>\n",
       "      <td>221048915</td>\n",
       "      <td>2015-11-27T12:00:00.000Z</td>\n",
       "      <td>Художественный</td>\n",
       "      <td>Тачстоун Пикчерз, Кобальт Пикчерз, Бикон Пикче...</td>\n",
       "      <td>США</td>\n",
       "      <td>Кевин Костнер</td>\n",
       "      <td>Дэвид Валдес, Кевин Костнер, Джейк Эбертс</td>\n",
       "      <td>«18+» - запрещено для детей</td>\n",
       "      <td>NaN</td>\n",
       "      <td>NaN</td>\n",
       "      <td>NaN</td>\n",
       "      <td>NaN</td>\n",
       "      <td>7.2</td>\n",
       "      <td>боевик,драма,мелодрама</td>\n",
       "    </tr>\n",
       "    <tr>\n",
       "      <th>1</th>\n",
       "      <td>Особо важное задание</td>\n",
       "      <td>111013716</td>\n",
       "      <td>2016-09-13T12:00:00.000Z</td>\n",
       "      <td>Художественный</td>\n",
       "      <td>Киностудия \"Мосфильм\"</td>\n",
       "      <td>СССР</td>\n",
       "      <td>Е.Матвеев</td>\n",
       "      <td>NaN</td>\n",
       "      <td>«6+» - для детей старше 6 лет</td>\n",
       "      <td>NaN</td>\n",
       "      <td>NaN</td>\n",
       "      <td>NaN</td>\n",
       "      <td>NaN</td>\n",
       "      <td>6.6</td>\n",
       "      <td>драма,военный</td>\n",
       "    </tr>\n",
       "    <tr>\n",
       "      <th>2</th>\n",
       "      <td>Особо опасен</td>\n",
       "      <td>221038416</td>\n",
       "      <td>2016-10-10T12:00:00.000Z</td>\n",
       "      <td>Художественный</td>\n",
       "      <td>Юниверсал Пикчерз, Кикстарт Продакшнз, Марк Пл...</td>\n",
       "      <td>США</td>\n",
       "      <td>Тимур Бекмамбетов</td>\n",
       "      <td>Джим Лемли, Джейсон Нетер, Марк Е.Платт, Яйн Смит</td>\n",
       "      <td>«18+» - запрещено для детей</td>\n",
       "      <td>NaN</td>\n",
       "      <td>NaN</td>\n",
       "      <td>NaN</td>\n",
       "      <td>NaN</td>\n",
       "      <td>6.8</td>\n",
       "      <td>фантастика,боевик,триллер</td>\n",
       "    </tr>\n",
       "    <tr>\n",
       "      <th>3</th>\n",
       "      <td>Особо опасен</td>\n",
       "      <td>221026916</td>\n",
       "      <td>2016-06-10T12:00:00.000Z</td>\n",
       "      <td>Художественный</td>\n",
       "      <td>Юниверсал Пикчерз, Кикстарт Продакшнз, Марк Пл...</td>\n",
       "      <td>США</td>\n",
       "      <td>Тимур Бекмамбетов</td>\n",
       "      <td>Джим Лемли, Джейсон Нетер, Марк Е.Платт, Яйн Смит</td>\n",
       "      <td>«18+» - запрещено для детей</td>\n",
       "      <td>NaN</td>\n",
       "      <td>NaN</td>\n",
       "      <td>NaN</td>\n",
       "      <td>NaN</td>\n",
       "      <td>6.8</td>\n",
       "      <td>фантастика,боевик,триллер</td>\n",
       "    </tr>\n",
       "    <tr>\n",
       "      <th>4</th>\n",
       "      <td>Особо опасен</td>\n",
       "      <td>221030815</td>\n",
       "      <td>2015-07-29T12:00:00.000Z</td>\n",
       "      <td>Художественный</td>\n",
       "      <td>Юниверсал Пикчерз, Кикстарт Продакшнз, Марк Пл...</td>\n",
       "      <td>США</td>\n",
       "      <td>Тимур Бекмамбетов</td>\n",
       "      <td>Джим Лемли, Джейсон Нетер, Марк Е.Платт, Яйн Смит</td>\n",
       "      <td>«18+» - запрещено для детей</td>\n",
       "      <td>NaN</td>\n",
       "      <td>NaN</td>\n",
       "      <td>NaN</td>\n",
       "      <td>NaN</td>\n",
       "      <td>6.8</td>\n",
       "      <td>фантастика,боевик,триллер</td>\n",
       "    </tr>\n",
       "  </tbody>\n",
       "</table>\n",
       "</div>"
      ],
      "text/plain": [
       "                  title   puNumber           show_start_date            type  \\\n",
       "0      Открытый простор  221048915  2015-11-27T12:00:00.000Z  Художественный   \n",
       "1  Особо важное задание  111013716  2016-09-13T12:00:00.000Z  Художественный   \n",
       "2          Особо опасен  221038416  2016-10-10T12:00:00.000Z  Художественный   \n",
       "3          Особо опасен  221026916  2016-06-10T12:00:00.000Z  Художественный   \n",
       "4          Особо опасен  221030815  2015-07-29T12:00:00.000Z  Художественный   \n",
       "\n",
       "                                         film_studio production_country  \\\n",
       "0  Тачстоун Пикчерз, Кобальт Пикчерз, Бикон Пикче...                США   \n",
       "1                              Киностудия \"Мосфильм\"               СССР   \n",
       "2  Юниверсал Пикчерз, Кикстарт Продакшнз, Марк Пл...                США   \n",
       "3  Юниверсал Пикчерз, Кикстарт Продакшнз, Марк Пл...                США   \n",
       "4  Юниверсал Пикчерз, Кикстарт Продакшнз, Марк Пл...                США   \n",
       "\n",
       "            director                                           producer  \\\n",
       "0      Кевин Костнер          Дэвид Валдес, Кевин Костнер, Джейк Эбертс   \n",
       "1          Е.Матвеев                                                NaN   \n",
       "2  Тимур Бекмамбетов  Джим Лемли, Джейсон Нетер, Марк Е.Платт, Яйн Смит   \n",
       "3  Тимур Бекмамбетов  Джим Лемли, Джейсон Нетер, Марк Е.Платт, Яйн Смит   \n",
       "4  Тимур Бекмамбетов  Джим Лемли, Джейсон Нетер, Марк Е.Платт, Яйн Смит   \n",
       "\n",
       "                 age_restriction  refundable_support  nonrefundable_support  \\\n",
       "0    «18+» - запрещено для детей                 NaN                    NaN   \n",
       "1  «6+» - для детей старше 6 лет                 NaN                    NaN   \n",
       "2    «18+» - запрещено для детей                 NaN                    NaN   \n",
       "3    «18+» - запрещено для детей                 NaN                    NaN   \n",
       "4    «18+» - запрещено для детей                 NaN                    NaN   \n",
       "\n",
       "   budget financing_source ratings                     genres  \n",
       "0     NaN              NaN     7.2     боевик,драма,мелодрама  \n",
       "1     NaN              NaN     6.6              драма,военный  \n",
       "2     NaN              NaN     6.8  фантастика,боевик,триллер  \n",
       "3     NaN              NaN     6.8  фантастика,боевик,триллер  \n",
       "4     NaN              NaN     6.8  фантастика,боевик,триллер  "
      ]
     },
     "metadata": {},
     "output_type": "display_data"
    },
    {
     "data": {
      "text/html": [
       "<div>\n",
       "<style scoped>\n",
       "    .dataframe tbody tr th:only-of-type {\n",
       "        vertical-align: middle;\n",
       "    }\n",
       "\n",
       "    .dataframe tbody tr th {\n",
       "        vertical-align: top;\n",
       "    }\n",
       "\n",
       "    .dataframe thead th {\n",
       "        text-align: right;\n",
       "    }\n",
       "</style>\n",
       "<table border=\"1\" class=\"dataframe\">\n",
       "  <thead>\n",
       "    <tr style=\"text-align: right;\">\n",
       "      <th></th>\n",
       "      <th>puNumber</th>\n",
       "      <th>box_office</th>\n",
       "    </tr>\n",
       "  </thead>\n",
       "  <tbody>\n",
       "    <tr>\n",
       "      <th>0</th>\n",
       "      <td>111000113</td>\n",
       "      <td>2.450000e+03</td>\n",
       "    </tr>\n",
       "    <tr>\n",
       "      <th>1</th>\n",
       "      <td>111000115</td>\n",
       "      <td>6.104000e+04</td>\n",
       "    </tr>\n",
       "    <tr>\n",
       "      <th>2</th>\n",
       "      <td>111000116</td>\n",
       "      <td>1.530300e+08</td>\n",
       "    </tr>\n",
       "    <tr>\n",
       "      <th>3</th>\n",
       "      <td>111000117</td>\n",
       "      <td>1.226096e+07</td>\n",
       "    </tr>\n",
       "    <tr>\n",
       "      <th>4</th>\n",
       "      <td>111000118</td>\n",
       "      <td>1.636841e+08</td>\n",
       "    </tr>\n",
       "  </tbody>\n",
       "</table>\n",
       "</div>"
      ],
      "text/plain": [
       "    puNumber    box_office\n",
       "0  111000113  2.450000e+03\n",
       "1  111000115  6.104000e+04\n",
       "2  111000116  1.530300e+08\n",
       "3  111000117  1.226096e+07\n",
       "4  111000118  1.636841e+08"
      ]
     },
     "metadata": {},
     "output_type": "display_data"
    }
   ],
   "source": [
    "# Импортируем библиотеки:\n",
    "import pandas as pd\n",
    "import numpy as np\n",
    "import seaborn as sns\n",
    "import matplotlib.pyplot as plt\n",
    "from datetime import datetime\n",
    "#устанавливает максимальное количество отображаемых столбцов в датафрейме\n",
    "pd.options.display.max_columns = None\n",
    "# Откроем файлы с данными и выведем первые 5 строк на экран:\n",
    "movies_df=pd.read_csv('/datasets/mkrf_movies.csv')\n",
    "shows_df=pd.read_csv('/datasets/mkrf_shows.csv')\n",
    "#для удобства выводим информацию с помощью команды display\n",
    "display(movies_df.head())\n",
    "display(shows_df.head())"
   ]
  },
  {
   "cell_type": "markdown",
   "metadata": {},
   "source": [
    "Cмотрим основную информацию об обоих датафреймах."
   ]
  },
  {
   "cell_type": "code",
   "execution_count": 3,
   "metadata": {
    "scrolled": false
   },
   "outputs": [
    {
     "name": "stdout",
     "output_type": "stream",
     "text": [
      "<class 'pandas.core.frame.DataFrame'>\n",
      "RangeIndex: 7486 entries, 0 to 7485\n",
      "Data columns (total 15 columns):\n",
      " #   Column                 Non-Null Count  Dtype  \n",
      "---  ------                 --------------  -----  \n",
      " 0   title                  7486 non-null   object \n",
      " 1   puNumber               7486 non-null   object \n",
      " 2   show_start_date        7486 non-null   object \n",
      " 3   type                   7486 non-null   object \n",
      " 4   film_studio            7468 non-null   object \n",
      " 5   production_country     7484 non-null   object \n",
      " 6   director               7477 non-null   object \n",
      " 7   producer               6918 non-null   object \n",
      " 8   age_restriction        7486 non-null   object \n",
      " 9   refundable_support     332 non-null    float64\n",
      " 10  nonrefundable_support  332 non-null    float64\n",
      " 11  budget                 332 non-null    float64\n",
      " 12  financing_source       332 non-null    object \n",
      " 13  ratings                6519 non-null   object \n",
      " 14  genres                 6510 non-null   object \n",
      "dtypes: float64(3), object(12)\n",
      "memory usage: 877.4+ KB\n",
      "\n",
      "<class 'pandas.core.frame.DataFrame'>\n",
      "RangeIndex: 3158 entries, 0 to 3157\n",
      "Data columns (total 2 columns):\n",
      " #   Column      Non-Null Count  Dtype  \n",
      "---  ------      --------------  -----  \n",
      " 0   puNumber    3158 non-null   int64  \n",
      " 1   box_office  3158 non-null   float64\n",
      "dtypes: float64(1), int64(1)\n",
      "memory usage: 49.5 KB\n"
     ]
    }
   ],
   "source": [
    "movies_df.info()\n",
    "print()\n",
    "shows_df.info()"
   ]
  },
  {
   "cell_type": "markdown",
   "metadata": {},
   "source": [
    "В таблице movies puNumber есть строковое значение, которое мешает приведению в целочисленное значение. Напишем функцию, чтобы найти его:"
   ]
  },
  {
   "cell_type": "code",
   "execution_count": 4,
   "metadata": {},
   "outputs": [
    {
     "name": "stdout",
     "output_type": "stream",
     "text": [
      "[' 111004112', 'нет']\n"
     ]
    }
   ],
   "source": [
    "def find_nonnumeric(df, column):\n",
    "    non_numeric = []\n",
    "    for value in df[column]:\n",
    "        if not str(value).isnumeric():\n",
    "            non_numeric.append(value)\n",
    "    return non_numeric\n",
    "\n",
    "non_numeric_puNumbers = find_nonnumeric(movies_df, 'puNumber')\n",
    "print(non_numeric_puNumbers)\n",
    "\n"
   ]
  },
  {
   "cell_type": "markdown",
   "metadata": {},
   "source": [
    "Из полученного списка видно, что первый элемент содержит пробел в начале строки. Для того, чтобы привести столбец `puNumber` к числовому типу, нужно избавиться от пробела в начале строки. Можно сделать это с помощью метода `strip()`, который убирает пробельные символы в начале и конце строки. \n",
    "\n"
   ]
  },
  {
   "cell_type": "code",
   "execution_count": 5,
   "metadata": {
    "scrolled": true
   },
   "outputs": [],
   "source": [
    "movies_df['puNumber'] = movies_df['puNumber'].str.strip()\n"
   ]
  },
  {
   "cell_type": "markdown",
   "metadata": {},
   "source": [
    "Пока что не буду удалять строку со значением \"нет\", поменяю его на другое, которое можно интерпретировать как отсутствие данных. Например, можно заменить его на значение 0."
   ]
  },
  {
   "cell_type": "code",
   "execution_count": 6,
   "metadata": {},
   "outputs": [],
   "source": [
    "movies_df['puNumber'] = movies_df['puNumber'].replace('нет', 0)\n"
   ]
  },
  {
   "cell_type": "markdown",
   "metadata": {},
   "source": [
    "После этого можно без ошибок преобразовать столбец puNumber к числовому типу данных:"
   ]
  },
  {
   "cell_type": "code",
   "execution_count": 7,
   "metadata": {},
   "outputs": [
    {
     "data": {
      "text/plain": [
       "dtype('int64')"
      ]
     },
     "execution_count": 7,
     "metadata": {},
     "output_type": "execute_result"
    }
   ],
   "source": [
    "#передаём параметр errors='coerce', который преобразует непреобразуемые значения в NaN.\n",
    "\n",
    "movies_df['puNumber'] = pd.to_numeric(movies_df['puNumber'], errors='coerce')\n",
    "\n",
    "movies_df['puNumber'].dtype"
   ]
  },
  {
   "cell_type": "markdown",
   "metadata": {},
   "source": [
    "Объединим два датафреймапо столбцу 'puNumber':"
   ]
  },
  {
   "cell_type": "code",
   "execution_count": 8,
   "metadata": {},
   "outputs": [],
   "source": [
    "data = movies_df.merge(shows_df, on='puNumber', how='left') \n",
    "\n"
   ]
  },
  {
   "cell_type": "markdown",
   "metadata": {},
   "source": [
    "Заменим название столбца"
   ]
  },
  {
   "cell_type": "code",
   "execution_count": 9,
   "metadata": {
    "scrolled": true
   },
   "outputs": [
    {
     "data": {
      "text/html": [
       "<div>\n",
       "<style scoped>\n",
       "    .dataframe tbody tr th:only-of-type {\n",
       "        vertical-align: middle;\n",
       "    }\n",
       "\n",
       "    .dataframe tbody tr th {\n",
       "        vertical-align: top;\n",
       "    }\n",
       "\n",
       "    .dataframe thead th {\n",
       "        text-align: right;\n",
       "    }\n",
       "</style>\n",
       "<table border=\"1\" class=\"dataframe\">\n",
       "  <thead>\n",
       "    <tr style=\"text-align: right;\">\n",
       "      <th></th>\n",
       "      <th>title</th>\n",
       "      <th>pu_number</th>\n",
       "      <th>show_start_date</th>\n",
       "      <th>type</th>\n",
       "      <th>film_studio</th>\n",
       "      <th>production_country</th>\n",
       "      <th>director</th>\n",
       "      <th>producer</th>\n",
       "      <th>age_restriction</th>\n",
       "      <th>refundable_support</th>\n",
       "      <th>nonrefundable_support</th>\n",
       "      <th>budget</th>\n",
       "      <th>financing_source</th>\n",
       "      <th>ratings</th>\n",
       "      <th>genres</th>\n",
       "      <th>box_office</th>\n",
       "    </tr>\n",
       "  </thead>\n",
       "  <tbody>\n",
       "    <tr>\n",
       "      <th>0</th>\n",
       "      <td>Открытый простор</td>\n",
       "      <td>221048915</td>\n",
       "      <td>2015-11-27T12:00:00.000Z</td>\n",
       "      <td>Художественный</td>\n",
       "      <td>Тачстоун Пикчерз, Кобальт Пикчерз, Бикон Пикче...</td>\n",
       "      <td>США</td>\n",
       "      <td>Кевин Костнер</td>\n",
       "      <td>Дэвид Валдес, Кевин Костнер, Джейк Эбертс</td>\n",
       "      <td>«18+» - запрещено для детей</td>\n",
       "      <td>NaN</td>\n",
       "      <td>NaN</td>\n",
       "      <td>NaN</td>\n",
       "      <td>NaN</td>\n",
       "      <td>7.2</td>\n",
       "      <td>боевик,драма,мелодрама</td>\n",
       "      <td>NaN</td>\n",
       "    </tr>\n",
       "    <tr>\n",
       "      <th>1</th>\n",
       "      <td>Особо важное задание</td>\n",
       "      <td>111013716</td>\n",
       "      <td>2016-09-13T12:00:00.000Z</td>\n",
       "      <td>Художественный</td>\n",
       "      <td>Киностудия \"Мосфильм\"</td>\n",
       "      <td>СССР</td>\n",
       "      <td>Е.Матвеев</td>\n",
       "      <td>NaN</td>\n",
       "      <td>«6+» - для детей старше 6 лет</td>\n",
       "      <td>NaN</td>\n",
       "      <td>NaN</td>\n",
       "      <td>NaN</td>\n",
       "      <td>NaN</td>\n",
       "      <td>6.6</td>\n",
       "      <td>драма,военный</td>\n",
       "      <td>NaN</td>\n",
       "    </tr>\n",
       "    <tr>\n",
       "      <th>2</th>\n",
       "      <td>Особо опасен</td>\n",
       "      <td>221038416</td>\n",
       "      <td>2016-10-10T12:00:00.000Z</td>\n",
       "      <td>Художественный</td>\n",
       "      <td>Юниверсал Пикчерз, Кикстарт Продакшнз, Марк Пл...</td>\n",
       "      <td>США</td>\n",
       "      <td>Тимур Бекмамбетов</td>\n",
       "      <td>Джим Лемли, Джейсон Нетер, Марк Е.Платт, Яйн Смит</td>\n",
       "      <td>«18+» - запрещено для детей</td>\n",
       "      <td>NaN</td>\n",
       "      <td>NaN</td>\n",
       "      <td>NaN</td>\n",
       "      <td>NaN</td>\n",
       "      <td>6.8</td>\n",
       "      <td>фантастика,боевик,триллер</td>\n",
       "      <td>NaN</td>\n",
       "    </tr>\n",
       "    <tr>\n",
       "      <th>3</th>\n",
       "      <td>Особо опасен</td>\n",
       "      <td>221026916</td>\n",
       "      <td>2016-06-10T12:00:00.000Z</td>\n",
       "      <td>Художественный</td>\n",
       "      <td>Юниверсал Пикчерз, Кикстарт Продакшнз, Марк Пл...</td>\n",
       "      <td>США</td>\n",
       "      <td>Тимур Бекмамбетов</td>\n",
       "      <td>Джим Лемли, Джейсон Нетер, Марк Е.Платт, Яйн Смит</td>\n",
       "      <td>«18+» - запрещено для детей</td>\n",
       "      <td>NaN</td>\n",
       "      <td>NaN</td>\n",
       "      <td>NaN</td>\n",
       "      <td>NaN</td>\n",
       "      <td>6.8</td>\n",
       "      <td>фантастика,боевик,триллер</td>\n",
       "      <td>NaN</td>\n",
       "    </tr>\n",
       "    <tr>\n",
       "      <th>4</th>\n",
       "      <td>Особо опасен</td>\n",
       "      <td>221030815</td>\n",
       "      <td>2015-07-29T12:00:00.000Z</td>\n",
       "      <td>Художественный</td>\n",
       "      <td>Юниверсал Пикчерз, Кикстарт Продакшнз, Марк Пл...</td>\n",
       "      <td>США</td>\n",
       "      <td>Тимур Бекмамбетов</td>\n",
       "      <td>Джим Лемли, Джейсон Нетер, Марк Е.Платт, Яйн Смит</td>\n",
       "      <td>«18+» - запрещено для детей</td>\n",
       "      <td>NaN</td>\n",
       "      <td>NaN</td>\n",
       "      <td>NaN</td>\n",
       "      <td>NaN</td>\n",
       "      <td>6.8</td>\n",
       "      <td>фантастика,боевик,триллер</td>\n",
       "      <td>NaN</td>\n",
       "    </tr>\n",
       "  </tbody>\n",
       "</table>\n",
       "</div>"
      ],
      "text/plain": [
       "                  title  pu_number           show_start_date            type  \\\n",
       "0      Открытый простор  221048915  2015-11-27T12:00:00.000Z  Художественный   \n",
       "1  Особо важное задание  111013716  2016-09-13T12:00:00.000Z  Художественный   \n",
       "2          Особо опасен  221038416  2016-10-10T12:00:00.000Z  Художественный   \n",
       "3          Особо опасен  221026916  2016-06-10T12:00:00.000Z  Художественный   \n",
       "4          Особо опасен  221030815  2015-07-29T12:00:00.000Z  Художественный   \n",
       "\n",
       "                                         film_studio production_country  \\\n",
       "0  Тачстоун Пикчерз, Кобальт Пикчерз, Бикон Пикче...                США   \n",
       "1                              Киностудия \"Мосфильм\"               СССР   \n",
       "2  Юниверсал Пикчерз, Кикстарт Продакшнз, Марк Пл...                США   \n",
       "3  Юниверсал Пикчерз, Кикстарт Продакшнз, Марк Пл...                США   \n",
       "4  Юниверсал Пикчерз, Кикстарт Продакшнз, Марк Пл...                США   \n",
       "\n",
       "            director                                           producer  \\\n",
       "0      Кевин Костнер          Дэвид Валдес, Кевин Костнер, Джейк Эбертс   \n",
       "1          Е.Матвеев                                                NaN   \n",
       "2  Тимур Бекмамбетов  Джим Лемли, Джейсон Нетер, Марк Е.Платт, Яйн Смит   \n",
       "3  Тимур Бекмамбетов  Джим Лемли, Джейсон Нетер, Марк Е.Платт, Яйн Смит   \n",
       "4  Тимур Бекмамбетов  Джим Лемли, Джейсон Нетер, Марк Е.Платт, Яйн Смит   \n",
       "\n",
       "                 age_restriction  refundable_support  nonrefundable_support  \\\n",
       "0    «18+» - запрещено для детей                 NaN                    NaN   \n",
       "1  «6+» - для детей старше 6 лет                 NaN                    NaN   \n",
       "2    «18+» - запрещено для детей                 NaN                    NaN   \n",
       "3    «18+» - запрещено для детей                 NaN                    NaN   \n",
       "4    «18+» - запрещено для детей                 NaN                    NaN   \n",
       "\n",
       "   budget financing_source ratings                     genres  box_office  \n",
       "0     NaN              NaN     7.2     боевик,драма,мелодрама         NaN  \n",
       "1     NaN              NaN     6.6              драма,военный         NaN  \n",
       "2     NaN              NaN     6.8  фантастика,боевик,триллер         NaN  \n",
       "3     NaN              NaN     6.8  фантастика,боевик,триллер         NaN  \n",
       "4     NaN              NaN     6.8  фантастика,боевик,триллер         NaN  "
      ]
     },
     "metadata": {},
     "output_type": "display_data"
    },
    {
     "name": "stdout",
     "output_type": "stream",
     "text": [
      "Размерность получившегося датафрейма: (7486, 16)\n",
      "Количество дубликатов в объединенном датафрейме: 0\n"
     ]
    }
   ],
   "source": [
    "data.rename(columns = {'puNumber':'pu_number'}, inplace=True)\n",
    "\n",
    "display(data.head())\n",
    "print('Размерность получившегося датафрейма:', data.shape)\n",
    "print('Количество дубликатов в объединенном датафрейме:', data.duplicated().sum())"
   ]
  },
  {
   "cell_type": "markdown",
   "metadata": {},
   "source": [
    "_____"
   ]
  },
  {
   "cell_type": "markdown",
   "metadata": {},
   "source": [
    "______"
   ]
  },
  {
   "cell_type": "markdown",
   "metadata": {
    "id": "KLDGpPG0gFyM"
   },
   "source": [
    "## Предобработка данных"
   ]
  },
  {
   "cell_type": "markdown",
   "metadata": {
    "id": "ssWwKXsxgFyO"
   },
   "source": [
    "### Проверка типа данных\n",
    "\n"
   ]
  },
  {
   "cell_type": "code",
   "execution_count": 10,
   "metadata": {
    "id": "kVGSplJOgFyO",
    "scrolled": false
   },
   "outputs": [
    {
     "name": "stdout",
     "output_type": "stream",
     "text": [
      "<class 'pandas.core.frame.DataFrame'>\n",
      "Int64Index: 7486 entries, 0 to 7485\n",
      "Data columns (total 16 columns):\n",
      " #   Column                 Non-Null Count  Dtype  \n",
      "---  ------                 --------------  -----  \n",
      " 0   title                  7486 non-null   object \n",
      " 1   pu_number              7486 non-null   int64  \n",
      " 2   show_start_date        7486 non-null   object \n",
      " 3   type                   7486 non-null   object \n",
      " 4   film_studio            7468 non-null   object \n",
      " 5   production_country     7484 non-null   object \n",
      " 6   director               7477 non-null   object \n",
      " 7   producer               6918 non-null   object \n",
      " 8   age_restriction        7486 non-null   object \n",
      " 9   refundable_support     332 non-null    float64\n",
      " 10  nonrefundable_support  332 non-null    float64\n",
      " 11  budget                 332 non-null    float64\n",
      " 12  financing_source       332 non-null    object \n",
      " 13  ratings                6519 non-null   object \n",
      " 14  genres                 6510 non-null   object \n",
      " 15  box_office             3158 non-null   float64\n",
      "dtypes: float64(4), int64(1), object(11)\n",
      "memory usage: 994.2+ KB\n"
     ]
    }
   ],
   "source": [
    "#выводим информацию о типах данных в датафрейме\n",
    "data.info()"
   ]
  },
  {
   "cell_type": "markdown",
   "metadata": {},
   "source": [
    "Столбец 'show_start_date' преобразуем в datetime с помощью метода pd.to_datetime(). Это позволит нам работать с датами более удобным способом."
   ]
  },
  {
   "cell_type": "code",
   "execution_count": 11,
   "metadata": {
    "scrolled": true
   },
   "outputs": [],
   "source": [
    "# преобразуем тип данных столбца 'premiere_date' в datetime\n",
    "data['show_start_date'] = pd.to_datetime(data['show_start_date'], format='%Y-%m-%d')\n"
   ]
  },
  {
   "cell_type": "markdown",
   "metadata": {},
   "source": [
    "В столбце ratings есть не только числовые значения, но и символьные. Из-за его столбец не может быть приведёны к числовому типу."
   ]
  },
  {
   "cell_type": "code",
   "execution_count": 12,
   "metadata": {},
   "outputs": [],
   "source": [
    "data['ratings'] = data['ratings'].replace(to_replace=r'[^\\d\\.]+', value=np.nan, regex=True)\n"
   ]
  },
  {
   "cell_type": "code",
   "execution_count": 13,
   "metadata": {
    "scrolled": true
   },
   "outputs": [],
   "source": [
    "data['ratings'] = data['ratings'].astype(float)"
   ]
  },
  {
   "cell_type": "markdown",
   "metadata": {},
   "source": [
    "Столбец 'box_office'преобразуем в числовой с помощью метода pd.to_numeric(). В исходном датасете этот столбец содержит данные в виде строковых значений, поэтому без преобразования типа данных мы не смогли бы использовать его для анализа."
   ]
  },
  {
   "cell_type": "code",
   "execution_count": 14,
   "metadata": {},
   "outputs": [],
   "source": [
    "# преобразуем тип данных столбца 'box_office' в числовой\n",
    "data['box_office'] = pd.to_numeric(data['box_office'], errors='coerce')"
   ]
  },
  {
   "cell_type": "code",
   "execution_count": 15,
   "metadata": {},
   "outputs": [
    {
     "name": "stdout",
     "output_type": "stream",
     "text": [
      "<class 'pandas.core.frame.DataFrame'>\n",
      "Int64Index: 7486 entries, 0 to 7485\n",
      "Data columns (total 16 columns):\n",
      " #   Column                 Non-Null Count  Dtype              \n",
      "---  ------                 --------------  -----              \n",
      " 0   title                  7486 non-null   object             \n",
      " 1   pu_number              7486 non-null   int64              \n",
      " 2   show_start_date        7486 non-null   datetime64[ns, UTC]\n",
      " 3   type                   7486 non-null   object             \n",
      " 4   film_studio            7468 non-null   object             \n",
      " 5   production_country     7484 non-null   object             \n",
      " 6   director               7477 non-null   object             \n",
      " 7   producer               6918 non-null   object             \n",
      " 8   age_restriction        7486 non-null   object             \n",
      " 9   refundable_support     332 non-null    float64            \n",
      " 10  nonrefundable_support  332 non-null    float64            \n",
      " 11  budget                 332 non-null    float64            \n",
      " 12  financing_source       332 non-null    object             \n",
      " 13  ratings                6490 non-null   float64            \n",
      " 14  genres                 6510 non-null   object             \n",
      " 15  box_office             3158 non-null   float64            \n",
      "dtypes: datetime64[ns, UTC](1), float64(5), int64(1), object(9)\n",
      "memory usage: 994.2+ KB\n"
     ]
    }
   ],
   "source": [
    "data.info()"
   ]
  },
  {
   "cell_type": "markdown",
   "metadata": {},
   "source": [
    "В текущем состоянии DataFrame, на первый взгляд, все типы данных корректны и не требуют дополнительного преобразования. "
   ]
  },
  {
   "cell_type": "markdown",
   "metadata": {
    "id": "i0MOLbF-gFyP"
   },
   "source": [
    "### Изучение пропусков в датафрейме"
   ]
  },
  {
   "cell_type": "code",
   "execution_count": 15,
   "metadata": {},
   "outputs": [
    {
     "data": {
      "image/png": "[encoded data removed]",
      "text/plain": [
       "<Figure size 864x576 with 2 Axes>"
      ]
     },
     "metadata": {
      "needs_background": "light"
     },
     "output_type": "display_data"
    },
    {
     "data": {
      "text/plain": [
       "title                       0\n",
       "pu_number                   0\n",
       "show_start_date             0\n",
       "type                        0\n",
       "film_studio                18\n",
       "production_country          2\n",
       "director                    9\n",
       "producer                  568\n",
       "age_restriction             0\n",
       "refundable_support       7154\n",
       "nonrefundable_support    7154\n",
       "budget                   7154\n",
       "financing_source         7154\n",
       "ratings                   996\n",
       "genres                    976\n",
       "box_office               4328\n",
       "dtype: int64"
      ]
     },
     "execution_count": 15,
     "metadata": {},
     "output_type": "execute_result"
    }
   ],
   "source": [
    "# определим ячейки с пропущенными значениями\n",
    "#display(data.isnull())\n",
    "\n",
    "plt.figure(figsize=(12, 8))\n",
    "sns.heatmap(data.isnull(), cmap='viridis')\n",
    "plt.show()\n",
    "\n",
    "# подсчитаем количество пропусков в каждом столбце\n",
    "data.isnull().sum()"
   ]
  },
  {
   "cell_type": "markdown",
   "metadata": {
    "scrolled": false
   },
   "source": [
    "Столбцы 'title', 'pu_number', 'show_start_date', 'type' и 'age_restriction' не имеют пропусков.\n",
    "\n",
    "Столбец 'film_studio', 'director' и 'producer' - оставим без изменений.\n",
    "\n",
    "\n",
    "Столбцы 'refundable_support', 'nonrefundable_support', 'budget' и 'financing_source' - оставим эти столбцы без изменений, так как в них содержатся данные о финансировании фильмов, а замена отсутствующих значений может исказить общую картину о финансовых вложениях.\n",
    "\n",
    "Столбцы 'ratings', 'genres' и 'box_office' - содержат значительное количество пропусков, оставим без изменений, чтобы не было искажений. \n"
   ]
  },
  {
   "cell_type": "markdown",
   "metadata": {
    "id": "4c6k1t9ygFyQ"
   },
   "source": [
    "### Изучим дубликаты в датафрейме\n"
   ]
  },
  {
   "cell_type": "code",
   "execution_count": 16,
   "metadata": {
    "id": "aKck8RIdgFyQ"
   },
   "outputs": [
    {
     "name": "stdout",
     "output_type": "stream",
     "text": [
      "Количество дубликатов в данных: 0\n"
     ]
    }
   ],
   "source": [
    "print('Количество дубликатов в данных:', data.duplicated().sum())\n"
   ]
  },
  {
   "cell_type": "markdown",
   "metadata": {},
   "source": [
    "Вывод результат, в ходе выполнения кода, показывает, что количество полных дубликатов - 0. Однако, это не исключает наличие частичных дубликатов. Для проверки наличия частичных дубликатов можно использовать метод duplicated() с параметром keep=False, который вернет все строки, кроме первой, содержащие повторяющиеся значения в колонках."
   ]
  },
  {
   "cell_type": "code",
   "execution_count": 17,
   "metadata": {
    "scrolled": true
   },
   "outputs": [
    {
     "name": "stdout",
     "output_type": "stream",
     "text": [
      "Количество частичных дубликатов: 0\n"
     ]
    }
   ],
   "source": [
    "partial_duplicates = data[data.duplicated(keep=False)]\n",
    "print(\"Количество частичных дубликатов:\", len(partial_duplicates))"
   ]
  },
  {
   "cell_type": "markdown",
   "metadata": {},
   "source": [
    "Полных дублей нет, проверим отдельные столбцы."
   ]
  },
  {
   "cell_type": "code",
   "execution_count": 18,
   "metadata": {},
   "outputs": [
    {
     "name": "stdout",
     "output_type": "stream",
     "text": [
      "Уникальные значения для столбца title:\n",
      "['Открытый простор' 'Особо важное задание' 'Особо опасен' ...\n",
      " 'Щенячий патруль: Скорей спешим на помощь!'\n",
      " 'Машины песенки. Серия \"Испанские мотивы\"'\n",
      " 'Машины песенки. Серия \"Когда цветут кактусы\"']\n",
      "\n",
      "\n",
      "Уникальные значения для столбца pu_number:\n",
      "[221048915 111013716 221038416 ... 124010819 124010619 124010719]\n",
      "\n",
      "\n",
      "Уникальные значения для столбца show_start_date:\n",
      "<DatetimeArray>\n",
      "['2015-11-27 12:00:00+00:00', '2016-09-13 12:00:00+00:00',\n",
      " '2016-10-10 12:00:00+00:00', '2016-06-10 12:00:00+00:00',\n",
      " '2015-07-29 12:00:00+00:00', '2013-10-18 12:00:00+00:00',\n",
      " '2014-12-29 12:00:00+00:00', '2016-05-05 12:00:00+00:00',\n",
      " '2014-12-01 12:00:00+00:00', '2016-06-29 12:00:00+00:00',\n",
      " ...\n",
      " '2019-12-17 12:00:00+00:00', '2019-12-10 12:00:00+00:00',\n",
      " '2019-12-16 12:00:00+00:00', '2019-12-26 12:00:00+00:00',\n",
      " '2019-12-20 12:00:00+00:00', '2019-12-27 12:00:00+00:00',\n",
      " '2019-12-23 12:00:00+00:00', '2019-12-24 12:00:00+00:00',\n",
      " '2019-12-28 12:00:00+00:00', '2019-12-30 12:00:00+00:00']\n",
      "Length: 1965, dtype: datetime64[ns, UTC]\n",
      "\n",
      "\n",
      "Уникальные значения для столбца type:\n",
      "['Художественный' 'Анимационный' 'Прочие' 'Документальный'\n",
      " 'Научно-популярный' ' Художественный' ' Анимационный'\n",
      " 'Музыкально-развлекательный']\n",
      "\n",
      "\n",
      "Уникальные значения для столбца film_studio:\n",
      "['Тачстоун Пикчерз, Кобальт Пикчерз, Бикон Пикчерз, Тиг Продакшнз'\n",
      " 'Киностудия \"Мосфильм\"'\n",
      " 'Юниверсал Пикчерз, Кикстарт Продакшнз, Марк Платт Продакшнз, Рилейтивити Медиа, Спайгласс Интертейнмент, Стилкин Филмз, Топ Кау Продакшнз'\n",
      " ...\n",
      " 'Дэниел Гродник Продакшнз, Вандерфилм Медиа Корпорэйшн, Импринт Интертейнмент, Вор Хорс Интертейнмент, Пимиента '\n",
      " 'Никелодеон Анимейшн Студиос, Спин Мастер'\n",
      " 'Анимаккорд Лтд., ООО Студия \"АНИМАККОРД\"']\n",
      "\n",
      "\n",
      "Уникальные значения для столбца production_country:\n",
      "['США' 'СССР' 'Франция' 'СССР, Венгрия' 'Германия-Великобритания'\n",
      " 'Великобритания - Италия' 'Чехословакия' 'США - Франция - Турция'\n",
      " 'Новая Зеландия' 'Канада - Франция - Испания' 'США-Германия'\n",
      " 'США - Великобритания' 'Великобритания' 'США - Германия'\n",
      " 'Франция - Мексика - США' 'Россия, Казахстан, США' 'СССР, Швеция'\n",
      " 'СССР, Франция, Англия, Куба, ГДР' 'Германия'\n",
      " 'Великобритания-США-Германия-КНР' 'СССР, ЧССР, Западный Берлин, ПНР'\n",
      " 'СССР, Италия' 'Гонконг, КНР' 'США - Франция'\n",
      " 'США - Япония - Франция - Великобритания'\n",
      " 'Гонконг - Сингапур - Таиланд - Великобритания' 'США-Канада'\n",
      " 'Франция - Италия - Великобритания - США' 'Франция - США'\n",
      " 'Ирландия-Великобритания-Германия' 'Чехия' 'США-Австралия'\n",
      " 'СССР, Финляндия' 'США-Франция-Великобритания-Австрия' 'США - Бельгия'\n",
      " 'США - Ирландия - Великобритания' 'Великобритания - США'\n",
      " 'Люксембург - Нидерланды - Испания - Великобритания - США - Италия'\n",
      " 'Великобритания - Франция - США' 'Новая Зеландия - США'\n",
      " 'США - Великобритания - Чехия' 'Канада - Франция - Великобритания'\n",
      " 'Ирландия' 'Великобритания - Германия - США'\n",
      " 'США - Франция - Великобритания' 'Япония' 'СССР, Польша'\n",
      " 'Франция - Испания' 'Канада-Франция' 'Германия - Италия - США'\n",
      " 'Аргентина - Бразилия' 'Дания - Швейцария - Бельгия - Франция'\n",
      " 'США - Испания' 'Германия - США'\n",
      " 'Франция - Австрия - Германия - Италия - США' 'Австрия'\n",
      " 'США - Канада - Германия' 'США - Канада' 'СССР - Швейцария - Франция'\n",
      " 'Россия - Казахстан' 'Гонконг' 'Италия' 'США - ОАЭ' 'Россия'\n",
      " 'США - Франция - Испания - Великобритания' 'Великобритания - Франция'\n",
      " 'США-Италия-Испания-Аргентина' 'Франция-Великобритания' 'КНР - Гонконг'\n",
      " 'Франция - Италия - Швейцария' 'США - Новая Зеландия' 'Франция - Бельгия'\n",
      " 'КНР' 'Германия - Великобритания - Австрия'\n",
      " 'Великобритания - Израиль - Франция - Япония - США' 'Швеция' 'Испания'\n",
      " 'Дания' 'Франция - Бельгия - Люксембург' 'США - Индия - ОАЭ'\n",
      " 'Германия-Канада-Великобритания-Швейцария-Франция' 'Мексика - Чили'\n",
      " 'Аргентина' 'Бразилия' 'Чили' 'Австралия' 'Португалия - Франция'\n",
      " 'США - ЮАР' 'Исландия-Ирландия-Германия' 'США-Индонезия' 'Южная Корея'\n",
      " 'Мексика - Испания - Дания - США' 'Великобритания-США' 'Франция - Италия'\n",
      " 'США-Франция' 'США - Венгрия - Великобритания' 'Бельгия-Франция-Италия'\n",
      " 'Чехия - Германия' 'Германия - Франция' 'США-Нидерланды' 'Украина'\n",
      " 'Великобритания - Германия' 'Франция-Бельгия' 'США-Франция-Испания'\n",
      " 'Италия - Франция' 'Канада' 'Швеция-Франция-Дания'\n",
      " 'Германия-Франция-Польша' 'Франция-Великобритания - Германия'\n",
      " 'США - Бразилия - Франция - Австралия - Великобритания - Германия'\n",
      " 'Германия-Австрия' 'Германия-Италия- Шри-Ланка'\n",
      " 'Великобритания - Испания' 'США - Великобритания - Канада - Швеция'\n",
      " 'Босния и Герцеговина - Франция - Великобритания - Германия - Словения - Бельгия - Сербия'\n",
      " 'Великобритания - Франция - Италия - США' 'США-ОАЭ' 'Испания - Франция'\n",
      " 'США-Великобритания' 'США-ЮАР' 'Великобритания-Австралия - США'\n",
      " 'Норвегия - Швеция - Дания - Германия' 'Норвегия' 'Швейцария'\n",
      " 'Греция - Германия - Франция' 'Норвения' 'Южная Корея - США'\n",
      " 'Чили - Франция - США' 'Австрия - Германия - Франция' 'Швеция - Дания'\n",
      " 'Великобритания - Франция - Бельгия - Италия' 'Франция - Германия'\n",
      " 'Грузия - Франция - Люксембург'\n",
      " 'США - Франция - Великобритания - Бразилия ' 'США - КНР'\n",
      " 'Мексика - Франция' 'США - Германия - Гонконг - Сингапур'\n",
      " 'Финляндия - Австрия - Россия' 'Испания - Куба' 'Великобритания - ЮАР'\n",
      " 'Великобритания - Ирландия' 'Израиль'\n",
      " 'Бразилия - Германия - Порртугалия - Франция '\n",
      " 'Франция - Канада - Бельгия' 'Франция-Испания'\n",
      " 'Испания - Канада - Япония' 'Иран' 'Швеция-Куба'\n",
      " 'США-Великобритания-Ирландия' 'Гонконг - КНР' 'Нидерланды'\n",
      " 'Испания - Канада' 'Япония-Великобритания'\n",
      " 'Великобритания - Норвегия - Дания - Германия'\n",
      " 'Финляндия - Франция - Германия'\n",
      " 'Мексика - Франция - Нидерланды - Германия' 'США - Индия'\n",
      " 'США-Великобритания-Индия' 'США-Канада-Бельгия' 'Республика Узбекистан'\n",
      " 'Италия ' 'Турция'\n",
      " 'Сербия - Словения - Хорватия - Черногория - Македония' 'Киргизия'\n",
      " 'Германия - Нидерланды - Беларусь - Россия - Латвия' 'Индия'\n",
      " 'Нидерланды - Россия - Германия'\n",
      " 'Великобритания - Нидерланды - Франция - Хорватия' 'Канада - Южная Корея'\n",
      " 'Великобритания - Польша - КНР - Индия - Норвегия'\n",
      " 'Япония - Франция - США - Южная Корея - Турция'\n",
      " 'Мексика - Аргентина - Великобритания' 'Израиль - Франция'\n",
      " 'Польша - Португалия - Франция - Великобритания' 'Австралия - США'\n",
      " 'США - Великобритания ' 'Франция - Люксембург - Бельгия' 'Армения'\n",
      " 'Бельгия - Люксембург - Франция - Швейцария'\n",
      " 'США - Великобритания - Канада' 'Норвегия - Швеция' 'Канада - Франция'\n",
      " 'КНР - Гонконг - США' 'США - Сингапур - Малайзия - Индонезия'\n",
      " 'Германия - Россия' 'Япония - Канада'\n",
      " 'Финляндия - Дания - Германия - Ирландия'\n",
      " 'Франция - Люксембург - Германия - Бельгия - Швейцария - Великобритания '\n",
      " 'Канада - США' 'США-Италия-Испания' 'США-Испания'\n",
      " 'США - Швейцария - Франция' 'Испания - США - Колумбия' 'Канада-ЮАР'\n",
      " 'Франция - Россия' 'Германия - Финляндия - Австралия' 'Дания - Швеция'\n",
      " 'Бельгия' 'Германия - Франция - Австрия' 'Франция-Индия' 'ЮАР'\n",
      " 'Франция-Перу' 'Франция - Канада' 'Республика Беларусь'\n",
      " 'Великобритания - Австрия - Франция - США' 'Австрия-Германия-Франция'\n",
      " 'США-Россия' 'Германия-США' 'США - Южная Корея' 'Канада - КНР'\n",
      " 'Дания - Швеция - Италия - Франция - Германия'\n",
      " 'Франция-Италия-Испания-Венгрия' 'Франция - Германия - Бельгия'\n",
      " 'Франция-Великобритания-Чехия' 'Румыния - Франция - Бельгия'\n",
      " 'Болгария - Франция - Изриль'\n",
      " 'Израиль - Германия - Польша - Бельгия - Франция - Люксембург'\n",
      " 'Россия, Германия, Франция, Бельгия' 'Индонезия' 'Франция - Португалия'\n",
      " 'Великобритания - Пуэрто-Рико' 'СССР, ФРГ, Западный Берлин'\n",
      " 'Россия, Республика Беларусь' 'США, Великобритания' 'Франция - Австрия'\n",
      " 'Бельгия-Нидерланды' 'Великобритания - США - Индия'\n",
      " 'США - Великобритания - Австралия'\n",
      " 'Канада - Франция - США - ОАЭ - Великобритания'\n",
      " 'США - Австралия - Франция'\n",
      " 'Дания-Франция-Бельгия-Германия-Великобритания' 'Испания - Аргентина'\n",
      " 'Исландия - Финляндия' 'Россия-Польша-Голландия-Словакия'\n",
      " 'Дания - Германия - Швеция' 'Южная Корея - США - Канада' 'Таиланд'\n",
      " 'США-Мальта' 'США -Германия'\n",
      " 'Великобритания - Германия - Франция - Кипр - США' 'Мексика'\n",
      " 'США - Великобритания - Ирландия' 'США - Украина'\n",
      " 'США - Финляндия - Испания - Великобритания - Франция'\n",
      " 'Австралия-Великобритания'\n",
      " 'США - Канада - Афганистан - Бельгия - Франция'\n",
      " 'США - Великобритания - Германия - Новая Зеландия - Бельгия - Франция'\n",
      " 'Франция-Канада'\n",
      " 'Ирландия - Финляндия - Бельгия - Великобритания - США - Швейцария'\n",
      " 'Малайзия - США' 'Германия - Италия' 'США - Франция - Бельгия - Италия'\n",
      " 'Франция - Ирландия - Швеция' 'Азербайджан-Россия'\n",
      " 'Великобритания - Италия - Швейцария' 'США - Германия - Великобритания'\n",
      " 'Германия - Бельгия - США -Франция' 'США-Китай' 'Чили - Испания'\n",
      " 'Франция - Швейцария' 'Канада - Испания' 'США - Румыния - Великобритания'\n",
      " 'США - Япония' 'США - Россия - Франция' 'Франция-США' 'Парагвай'\n",
      " 'Германия - Канада' 'США - Канада - Великобритания' 'Финляндия - Канада'\n",
      " 'Уругвай-Мексика-Германия ' 'США - Чили'\n",
      " 'Германия - Аргентина - Нидерланды - Чили' 'США - Канада - Индонезия'\n",
      " 'Армения - Казахстан' 'Финляндия' 'Испания - Италия - Франция'\n",
      " 'Бельгия - Испания - Канада - Нидерланды'\n",
      " 'Великобритания - Франция - Швеция - Бельгия'\n",
      " 'Мексика - Эквадор - Канада - США - Франция - Малайзия - Италия - Аргентина - Германия - Индия  '\n",
      " 'Франция - Бенльгия' 'Индия - Великобритания'\n",
      " 'Япония - Великобритания - Франция' 'Испания - Уругвай - Аргентина'\n",
      " 'Франция - Италия - Бельгия - Люксембург'\n",
      " 'Франция - Украина - Грузия - Армения' 'Сербия - Германия - Венгрия'\n",
      " 'Франция-Польша' 'Франция ' 'Румыния-США' 'Россия-Азербайджан'\n",
      " 'США - Нидерланды - Бельгия - Венгрия - Греция - Канада'\n",
      " 'Германия - Франция - Люксембург' 'США - Россия'\n",
      " 'Великобритания - США - Франция' 'США - Австралия - Дания'\n",
      " 'Бельгия-Франция' 'США-Мексика'\n",
      " 'Норвегия - Азербайджан - Россия - Колумбия - Великобритания - Венгрия - Румыния - Франция - Грузия'\n",
      " 'СЩА' 'Бразилия - Испания' 'Россия, Франция, Латвия'\n",
      " 'Нидерланды - США - Германия - Канада - Франция - Ирландия - Великобритания'\n",
      " 'Уругвай - Колумбия' 'США - Испания - Болгария' 'Армения - Германия'\n",
      " 'США - Великобритания- Франция - Швеция' 'США - Мексика'\n",
      " 'Австралия-Турция-США' 'Швеция - Германия' 'Польша - Италия - Россия'\n",
      " 'Франция - Бразилия' 'США - Канада - КНР' 'СССР, Венгрия, ЧССР, ГДР'\n",
      " 'Бельгия - Германия - Люксембург' 'СССР  ' 'СССР ' ' СССР '\n",
      " 'США - Австралия' 'Бразилия - США' 'США - Великобритания - Канада - КНР'\n",
      " 'Франция - Чили'\n",
      " 'Франция - США - Великобритания - Колумбия - Бельгия - Россия'\n",
      " 'Дания - Великобритания - ЮАР' 'СССР   ' 'Россия-США-Канада-Люксембург'\n",
      " 'Россия - Республика Кипр' 'Германия - США - Швеция - Франция'\n",
      " 'Великобритания-Германия-Канада-ЮАР' ' СССР   ' 'СССР     '\n",
      " 'Ирландия, Канада'\n",
      " 'Япония - Великобритания - Швейцария - Ирландия - Дания - Франция - Польша - Австралия - Канада  '\n",
      " 'Великобритания, Канада' 'Бельгия - США' 'Великобритания - США - Россия'\n",
      " 'Россия-Украина' 'Германия - США - Великобритания - Израиль'\n",
      " 'Канада - Германия' 'США- Ю.Корея' 'Индия - Мексика'\n",
      " 'Великобритания - Франция - Республика Кипр - Швейцария - США - Сербия'\n",
      " 'Испания - Аргентина - Индия - США'\n",
      " 'Норвегия - Исландия - США - Великобритания '\n",
      " 'Турция - Германя - Франция' 'Германия - Великобритания'\n",
      " 'Австралия - Германия' 'Мексика - Испания'\n",
      " 'Великобритания - США - Германия - Бельгия' 'США - Чехия - Франция'\n",
      " 'Россия - Италия' 'Франция-Россия' 'Норвегия - Дания - Швеция'\n",
      " 'Франция - Швейцария - Германия' 'Грузия - Украина'\n",
      " 'Россия - Эстония - Финляндия - Беларусь' 'США - Франция - ЮАР'\n",
      " 'Великобритания - США - Швейцария' 'Канада-США'\n",
      " 'Мексика - Нидерланды - Германия - Франция' 'США - Испания - Франция'\n",
      " 'США - Великобритания - КНР' 'США-Франция-Канада'\n",
      " 'Япония, Великобритания, Австрия, Германия, Ю.Корея'\n",
      " 'Великобритания - Ирландия - США' 'Бельгия - Италия - Франция '\n",
      " 'Швейцария-Германия-ЮАР' 'Великобритания - США - Германия'\n",
      " 'Германия - Исландия' 'Испания - США' 'СССР    ' 'Хорватия'\n",
      " 'Финляндия - Исландия - Швеция' 'Канада - США - Германия - Франция'\n",
      " 'США - Великобритания - Испания' 'Ирландия-Великобритания'\n",
      " 'Аргентина - Испания' 'Австрия - Германия' ' СССР'\n",
      " 'Германия - Швейцария - Франция - Южная Корея - США'\n",
      " 'Украина - Нидерланды' 'Венгрия - Германия - Швеция'\n",
      " 'Германия - Франция -  Польша - Турция - Канада - Италия - Россия '\n",
      " 'СССР, Афганистан' 'СССР, Монголия' 'Россия-Кипр'\n",
      " 'Россия, Грузия, Испания'\n",
      " 'Великобритания - Нидерланды - Германия - Франция - Бельгия - Австрия '\n",
      " 'Испания - Великобритания - Франция' 'Дания - Норвегия - Великобритания'\n",
      " 'Бельгия - Франция - Люксембург'\n",
      " 'Италия - Франция - Швейцария - Великобритания'\n",
      " 'Франция - Бельгия - Великобритания - Испания - Германия - США'\n",
      " 'Швейцария - Израиль - Франция - Великобритания'\n",
      " 'Великобритания - США - Канада - Нидерланды - Франция' 'Россия, Италия'\n",
      " 'СССР, Албания' 'Россия, Украина, Республика Беларусь, Литва'\n",
      " 'Финляндия - Великобритания - Германия' 'Россия, Украина, Польша'\n",
      " 'Франция - Италия - Бельгия - КНР'\n",
      " 'Германия - Бельгия - Люксембург - Ирландия' 'КНР - Сингапур'\n",
      " 'Франция - Бельгия - Великобритания - США - Нидерланды - Канада'\n",
      " 'США - Россия - Польша - Германия - Пуэрто Рико'\n",
      " 'Франция - Бельгия - Канада' 'США ' 'Мексика - США'\n",
      " 'США - Гонконг - КНР ' 'Греция - Россия'\n",
      " 'Ирландия - Дания - Бельгия - Люксембург - Франция' 'Эстония - Россия'\n",
      " 'Великобритания - Исландия - Испания - Швейцария - США'\n",
      " 'Австралия - Великобритания - Бельгия - Индия'\n",
      " 'Швеция - Германия - Франция - Норвегия'\n",
      " 'Нидерланды - Бельгия - Германия - Ирландия'\n",
      " 'Нидерланды - Великобритания - Бельгия' 'США - Колумбия - Испания'\n",
      " 'Франция-Испания-Бельгия-Панама' 'США-Великобритания-Чехия-Румыния'\n",
      " 'Аргентина - Уругвай - Россия - Германия - Франция - Нидерланды'\n",
      " 'Швеция - Франция - Норвегия - Дания' 'Италия-Франция-Великобритания'\n",
      " 'Великобритания, Франция' 'Австралия, США' 'Венесуэла'\n",
      " 'Великобритания - США - Австралия - Ирландия - Германия - Куба - Канада'\n",
      " 'Южная Корея - КНР' 'Аргентина - Мексика - Бразилия - Франция - США'\n",
      " 'Швеция - США' 'Франция - Германия - Турция - Катар' 'Франция-Китай'\n",
      " 'Россия, Германия, Великобритания' 'Великобритания - Италия - Испания'\n",
      " 'Италия - Россия' 'Япония - КНР - Южная Корея' 'Россия, Германия'\n",
      " 'Россия-Ирландия' 'Македония - Франция - Великобритания'\n",
      " 'Франция - Бразилия - Италия' 'Россия-США' 'Армения-Россия'\n",
      " 'Россия, Румыния' 'Франция -  Бельгия' 'Грузия-Франция' 'ЮАР - США'\n",
      " 'Великобритания-США-Франция'\n",
      " 'Великобритания - США - Германия - Канада - Австралия' 'США-Ирландия'\n",
      " 'Россия, Республика Кипр' 'Германия - Люксембург - Франция'\n",
      " 'Россия-Франция' 'США - Нидерланды - Финляндия - Великобритания - Италия'\n",
      " 'Республика Кипр' 'Венгрия' 'Франция - США - Норвегия - Дания'\n",
      " 'Германия - Австрия - Ирландия' 'США - Финляндия' 'Италия-Великобритания'\n",
      " 'Россия, Испания' 'США - Великобритания - Болгария'\n",
      " 'Великобритания - Люксембург' 'Индия - США'\n",
      " 'США - Канада - Россия - Франция - Чили - Ирландия' 'Грузия-Россия'\n",
      " 'Дания - Австрия - Ирландия - Финляндия - Норвегия - Швеция - Нидерланды'\n",
      " 'США-КНР' 'Грузия' 'Австралия - Ирландия' 'Великобритания - Канада'\n",
      " 'Италия - Аргентина - Словения '\n",
      " 'Испания - Франция - Нидерланды - Германия - Бельгия - Великобритания - Канада'\n",
      " 'Франция - Чехия - Бельгия' 'Великобритания - Франция - Германия - США'\n",
      " 'Ирландия - Великобритания - Франция - США - Германия - Нидерланды'\n",
      " 'США - Канада - Япония - КНР' 'Италия-Франция'\n",
      " 'США - Великобритания - Исландия' 'Великобритания-Франция'\n",
      " 'Франция - Германия - Нидерланды' 'Иран '\n",
      " 'Франция - Германия - Швеция - США - Чехия - Словакия - Великобритания - Нидерланды'\n",
      " 'Франция - Канада - Н.Зеландия - США - Нидерланды - Германия - Швеция - Россия'\n",
      " 'Турция - США'\n",
      " 'Великобритания - США - Канада - Бельгия - Нидерланды - Австрия - Германия'\n",
      " 'Израиль - Франция - Германия - Палестина - США - Австрия - Великобритания'\n",
      " 'Аргентина - Франция - Испания' 'СССР, Россия'\n",
      " 'Великобритания - Франция - Италия - Индия - Дания - КНР - Бангладеш - Камбоджа - Гаити - Уганда'\n",
      " 'Италия - Франция - Швейцария' 'Ирландия - Великобритания - Канада'\n",
      " 'Перу' 'США - Норвегия' 'Испания-Канада' 'Китай-Гонконг'\n",
      " 'США - Германия - КНР' 'Великобритания - Новая Зеландия'\n",
      " 'Франция - Дания - Швеция - КНР'\n",
      " 'США - Великобритания - Германия - Бельгия - Дания'\n",
      " 'США - Франция - Канада - Германия - Австралия - Индия' nan\n",
      " 'СССР, Румыния, Франция' 'СССР, ГДР' 'Австралия-Ирландия' 'США - Китай'\n",
      " 'Великобритания - Франция - Австрия - Швеция' 'Россия, Таджикистан'\n",
      " 'Нидерланды - Бельгия - Болгария' 'Великобритания - Канада - США'\n",
      " 'Франция - Бельгия - Испания' 'Китай-Гонконг-США'\n",
      " 'Франция - Великобритания' 'США - Вьетнам' 'США - Германия - Франция'\n",
      " 'Германия - Франция - Бельгия' 'США - Италия'\n",
      " 'Германия - Дания - Испания - Швеция - Канада - Эстония - Франция'\n",
      " 'Княжество Андорра - Украина' 'Германия - Люксембург - Бельгия'\n",
      " 'Великобритания - Россия - Украина - США'\n",
      " 'Германия - Бельгия - Люксембург - Норвегия'\n",
      " 'США - Австралия - Новая Зеландия - Великобритания'\n",
      " 'США - Франция - Канада - Великобритания' 'Испания-Колумбия'\n",
      " 'Великобритания - Чехия - Франция' 'Россия, Украина' 'Исландия'\n",
      " 'Великобритания - Франция - Венгрия' 'Россия, Франция, Германия, Бельгия'\n",
      " 'Франция - Македония'\n",
      " 'Нидерланды - Франция - Германия - Бельгия - Швеция - Великобритания'\n",
      " 'Испания - США - Великобритания - Канада' 'Германия - Австрия'\n",
      " 'Республика Казахстан' 'Франция - Испания - Дания - Венгрия - Швейцария'\n",
      " 'Франция-КНР' 'США - Пуэрто-Рико - Франция ' 'Мексика - Тайвань - США'\n",
      " 'Великобритания - Испания - Непал - Индия - Венгрия - Гонконг - Германия - Дания - Бахрейн'\n",
      " 'Великобритания - Аргентина - США - Франция - Россия - Испания'\n",
      " 'КНР - США' 'Италия - США' 'Финляндия - Швеция - Германия'\n",
      " 'Канада- Испания' 'Франция - Бельгия - Чехия' 'Франция-Бельгия-Канада'\n",
      " 'Франция - Германия - США' 'США - Дания' 'Индия - КНР'\n",
      " 'Чехия-Великобритания-США' 'США-ФРГ-Россия'\n",
      " 'Ирландия-Нидерланды-Франция-США-Великобритания'\n",
      " 'Россия, Грузия, Хорватия, Испания' 'Финляндия - Швеция - Норвегия'\n",
      " 'Сербия - Великобритания - США'\n",
      " 'США - Великобритания - Франция - Гонконг' 'Швейцария - Франция'\n",
      " 'Швейцария - Великобритания' 'ОАЭ - США'\n",
      " 'США - Франция - Германия - Канада - Австралия ' 'Германия - Австралия'\n",
      " 'Иран, Франция' 'США - Великобритания - Новая Зеландия' 'США-Колумбия'\n",
      " 'США-Франция-Ирландия' 'Великобритания - Франция - Бельгия'\n",
      " 'США - Великобритания - Япония' 'США - Франция - Германия'\n",
      " 'Польша - Ирландия' 'Ирландия - Великобритания - Франция - США'\n",
      " 'США - Бельгия - Великобритания' 'СССР, ВНР'\n",
      " 'Испания - Франция - США - Великобритания - Бельгия'\n",
      " 'Франция - Дания - США' 'США - Гонконг' 'Бразилия - К;анада'\n",
      " 'Франция-Германия' 'США - Колумбия'\n",
      " 'США - Ирландия - Великобритания - Франция'\n",
      " 'Великобритания - США - Канада' 'Польша - Франция'\n",
      " 'Канада - США - Нидерланды - Великобритания - Аргентина'\n",
      " 'Великобритания - Дания' 'Франция - Бельгия - Япония' 'Россия,  Испания'\n",
      " 'Франция -Бельгия' 'США - Канада - Германия - Франция'\n",
      " 'США-Канада-Франция' 'Россия - Германия' 'Россия-Италия'\n",
      " 'Китай - Гонконг' 'Германия-Австрия-Франция-Италия' 'США-Япония'\n",
      " 'США - Германия - Канада' 'Испания-Мексика'\n",
      " 'США - Япония - Канада - Великобритания - Германия - Франция'\n",
      " 'США -Великобритания - Австралия' 'Россия-Украина-Германия'\n",
      " 'Израиль - Франция - Великобритания - Германия' 'Корея'\n",
      " 'Россия - Болгария' 'США-Индия' 'Германия-Канада-Франция-Бельгия'\n",
      " 'Германия-Кения' 'Франция - Монако' 'Франция-Испания-Швейцария'\n",
      " 'Австрия-Франция-Германия' 'Румыния' 'США-Великобритания-Франция'\n",
      " 'Канада-Великобритания' 'Канада-Бразилия-Япония'\n",
      " 'Германия - Дания - Норвегия' 'Дания - Германия' 'СССР - Италия'\n",
      " 'СССР - ГДР - Польша - Италия' 'США - Испания - Франция - Великобритания'\n",
      " 'Китай' 'Мексика-Аргентина'\n",
      " 'Германия - Великобритания - Италия - Испания'\n",
      " 'Франция-Германия-Великобритания' 'Россия - Германия - Швейцария'\n",
      " 'Франция-Австралия' 'Голландия' 'Швейцария-Франция' 'Россия-Белоруссия'\n",
      " 'Франция - Испания - Тайвань' 'США-Южная Корея-Новая Зеландия'\n",
      " 'Великобритания-Венгрия' 'Россия-Германия'\n",
      " 'Великобритания-Франция-Германия' 'Франция-Германия-Италия'\n",
      " 'Швеция-Финляндия-Франция-Норвегия' 'Франция-Италия' 'Германия-Израиль'\n",
      " 'Швеция - Германия - Дания - Норвегия' 'США-Бельгия'\n",
      " 'Франция-Гонконг-Ирландия' 'Эстония' 'Литва-Россия-Украина'\n",
      " 'Германия - Италия - Франция' 'Великобритания - Австрия - Германия'\n",
      " 'Бельгия - Франция' 'Россия-Казахстан' 'Испания - Мальта'\n",
      " 'Франция-Россия-Румыния-Италия-Бельгия' 'Россия - Польша'\n",
      " 'Испания - Мексика' 'США-Аргентина' 'Великобритания '\n",
      " 'Израиль-США-Франция' 'США - Новая Зеландия - Япония'\n",
      " 'Франция - Чехия - Великобритания' 'Россия-Польша'\n",
      " 'Германия-Франция-Великобритания' 'США-Германия-Канада'\n",
      " 'США-Гонконг-Китай' 'США - Великобритания - Германия'\n",
      " 'США-Канада-Австралия' 'Япония-США-Франция' 'Франция-Испания-Германия'\n",
      " 'США - Хорватия - Босния-Герцеговина'\n",
      " 'Великобритания - Чехия - Франция - Италия' 'США - Германия - Нидерланды'\n",
      " 'Германия - Франция - Канада'\n",
      " 'Франция-Грузия-Германия-Россия-Украина-Бельгия'\n",
      " 'Великобритания - Франция - Италия' 'Россия - США'\n",
      " 'Франция - Италия - Иран' 'Россия - Азербайджан' 'Греция' 'Дания - США'\n",
      " 'США-Великобритания-Новая Зеландия' 'США-Германия-Австралия'\n",
      " 'США-Канада-Италия' 'США - Япония - Германия' 'Австралия-США'\n",
      " 'Франция - Великобритания - Багамские острова - США'\n",
      " 'Швейцария - Люксембург' 'Швейцария - Австрия' 'Германия - Швейцария'\n",
      " 'Дания-Швеция-Франция-Германия' 'Польша' 'Швейцария-Австрия'\n",
      " 'Бразилия - Канада - США' 'Нидерланды - Россия' 'Португалия'\n",
      " 'Франция-Аргентина' 'Швеция-Франция' 'Франция-Украина'\n",
      " 'Германия-Украина-Нидерланды' 'Италия-Швейцария'\n",
      " 'США-Германия-Великобритания' 'Латвия - Россия'\n",
      " 'Германия-Франция-Великобритания-США' 'Канада - Италия'\n",
      " 'США - Объединенные Арабские Эмираты' 'США-Венгрия' 'Малайзия'\n",
      " 'Россия - Германия - Украина' 'США - Австралия - Мексика'\n",
      " 'Литва - Венгрия' 'Германия - Китай' 'Казахстан' 'Республика Корея'\n",
      " 'США - Германия - Франция - Великобритания - Канада '\n",
      " 'Бельгия - Германия - Люксембург - Франция' 'Франция - Греция'\n",
      " 'Италия - Канада' 'США - Великобритания - Франция' 'США-Италия-Греция'\n",
      " 'Германия - США - Великобритания - Ирландия'\n",
      " 'Великобритания - Франция - Германия' 'Германия - Нидерланды - ЮАР'\n",
      " 'США-Япония-Германия-Великобритания-Нидерланды'\n",
      " 'США-Япония-Германия-Великобритания' 'Германия - Франция - Польша'\n",
      " 'Таиланд-Великобритания-Франция-Германия-Испания-Нидерланды'\n",
      " 'Германия-Италия-Швейцария'\n",
      " 'Дания - Швеция - Великобритания - Франция - Германия - Нидерланды - Норвегия - Финляндия'\n",
      " 'Франция - Великобритания - Нидерланды - Люксембург'\n",
      " 'Нидерланды-Великобритания-Франция-Италия-Япония'\n",
      " 'Финляндия-Дания-Германия-Ирландия' 'Испания-Аргентина'\n",
      " 'Великобритания - Нидерланды - Франция - США' 'Канада - Мексика'\n",
      " 'США, Франция' 'Канада-Южная Корея-США'\n",
      " 'Великобритания - Франция - Бельгия - США' 'КНР - Канада - США'\n",
      " 'Италия - Франция - Германия' 'Швеция - Германия - Франция - Дания'\n",
      " 'Франция - США - Бельгия' 'Украина - Германия - Латвия - Эстония'\n",
      " 'Австрия - Люксембург' 'Великобритания - КНР' 'Монголия'\n",
      " 'Франция - Дания' 'Швеция - Дания - Финляндия'\n",
      " 'Сингапур - Великобритания - Индонезия - Канада - США'\n",
      " 'США - Германия - Япония' 'Таиланд - США' 'Франция - Нидерланды'\n",
      " 'Великобритания - Румыния' 'США - Мальта'\n",
      " 'Великобритания - Германия - Нидерланды - Дания'\n",
      " 'Франция - Германия - Литва - Нидерланды - Россия' 'США - ЮАР - Гонконг'\n",
      " 'Австралия - Колумбия' 'Великобритания - Польша'\n",
      " 'США - Великобритания - Швеция' 'Франция - Швеция - Дания - Норвегия'\n",
      " 'Болгария - США' 'СССР, ФРГ' 'Бельгия - Нидерланды - Франция'\n",
      " 'Финляндия - Германия' 'Болгария'\n",
      " 'Грузия - Россия - Украина - Хорватия - Германия' 'Франция - Люксембург'\n",
      " 'Франция - Германия - Австрия' 'Норвегия - США' 'Германия-Швеция'\n",
      " 'Франция - Германия - Италия' 'Франция-Германия-Австрия' 'КНР-США'\n",
      " 'Великобритания - Ирландия - США ' 'Дания - Латвия - Россия - США'\n",
      " 'Финляндия - Польша' 'Германия - Бельгия'\n",
      " 'Германия - США - Франция - Испания'\n",
      " 'Бельгия-Германия-Канада-Франция-США-Великобритания'\n",
      " 'Нидерланды - Бельгия - Люксембург' 'Канада-Германия'\n",
      " 'Люксембург - Бельгия - Франция' 'США-Великобритания-Австралия'\n",
      " 'Великобритания, Новая Зеландия' 'Бельгия, Великобритания, США'\n",
      " 'Великобритания, Австралия' 'Исландия, Бельгия'\n",
      " 'Испания - Швейцария - Великобритания - Германия - Новая Зеландия - Нидерланды - Канада'\n",
      " 'Франция, Бельгия' 'Великобритания, США' 'Киргизия-Россия'\n",
      " 'Германия, США' 'Великобритания, США, Испания'\n",
      " 'Италия - Швейцария - Германия' 'Россия, Армения' 'Франция, Германия'\n",
      " 'Китай, Канада, США' 'Германия, Австралия' 'КНР, США'\n",
      " 'США, Великобритания, Люксембург' 'Испания, Ирландия, Бельгия, Франция'\n",
      " 'Великобритания - Гонконг - Венгрия - США - Ирландия' 'США - Пуэрто Рико'\n",
      " 'Аргентина - Испания - Уругвай'\n",
      " 'Израиль - Германия - Франция - Швейцария'\n",
      " 'Великобритания - Мексика - США' 'Испания - Болгария - США'\n",
      " 'Россия-Словакия-Чехия'\n",
      " 'Швейцария - КНР - США - Россия - Республика Корея - Великобритания'\n",
      " 'Россия, Нидерланды, Финляндия'\n",
      " 'Испания - Бельгия - Франция - Португалия - Великобритания'\n",
      " 'Бразилия - Португалия - Франция' 'Швеция - Норвегия'\n",
      " 'Франция - Польша - Бельгия' 'CША' 'Китай, США'\n",
      " 'Италия, Франция, Германия' 'Германия - Австрия - Франция'\n",
      " 'Чехия - Словакия - Хорватия' 'Россия, Польша, Финляндия'\n",
      " 'Россия, Латвия, Чешская Республика'\n",
      " 'Франция - Великобритания - Камбоджа - США - КНР' 'Чехия - Испания - США'\n",
      " 'Германия - Люксембург - Дания' 'Великобритания - Испания - Германия'\n",
      " 'Дания - Исландия' 'Германия, Франция, Великобритания'\n",
      " 'Великобритания - Испания - Италия - Латвия - Франция - Эстония'\n",
      " 'Дания, Швеция, Великобритания, Франция, Германия, Норвегия, Финляндия, Нидерланды, Италия'\n",
      " 'Польша - Франция - Великобритания' 'Дания, Норвегия, Венгрия, Чехия'\n",
      " 'Дания - Франция - Германия - Швеция' 'Великобритания, Швеция, США'\n",
      " 'Канада, Франция, Италия, Швейцария, США' 'США, Индия'\n",
      " 'США - Великобритания - Германия - - Швеция - Канада' 'Италия, Франция'\n",
      " 'Республика Беларусь, Германия, США, Россия'\n",
      " 'Италия-Швейцария-Франция-Германия '\n",
      " 'Россия - Франция - Великобритания - Латвия' 'Россия-Беларусь'\n",
      " 'Франция - Испания - Румыния - США - Бельгия' 'Италия-США'\n",
      " 'Россия, Австрия' 'Ирландия - Великобритания - США'\n",
      " 'Швейцария, Великобритания, Франция, США, Ирландия'\n",
      " 'Мексика, Франция, Германия, Дания, Швеция' 'Нидерланды, Бельгия'\n",
      " 'Швеция, Норвегия, Финляндия, Франция' 'Испания, Франция, Италия'\n",
      " 'Испания-Франция-Греция-Индия-США-Россия-Великобритания'\n",
      " 'Великобритания - Япония - США' 'Дания, Канада, Норвегия, Австралия, США'\n",
      " 'Аргентина, Испания' 'Россия, Германия, Казахстан, Польша, Китай'\n",
      " 'Португалия, Франция, Польша, США' 'США - Канада - Аргентина' 'Ливан-США'\n",
      " 'Япония - США' 'США, Гонконг '\n",
      " 'Франция - Россия - Швейцария - Румыния - Венгрия' 'Аргентина-Испания'\n",
      " 'Россия, Сербия' 'США - Болгария - Мексика'\n",
      " 'США - Великобритания - Швейцария - Франция' 'Таиланд - КНР - США'\n",
      " 'Великобритания, Нидерланды, Польша, Швейцария, Франция' 'Ирландия - США'\n",
      " 'Германия - Франция - Великобритания - Польша - США'\n",
      " 'Великобритания-Франция-Италия' 'США - Австралия - Индия' 'Франция - КНР'\n",
      " 'Великобритания - Израиль' 'Великобритания - Норвегия - Кения - Хорватия'\n",
      " 'США - Бразилия - Великобритания - Канада' 'Германия, Бельгия'\n",
      " 'Австралия, Канада' 'США, Великобритания, Франция' 'Кения, Германия'\n",
      " 'Нидерланды, Бельгия, Люксембург' 'Колумбия' 'Латвия - Франция'\n",
      " 'Ирландия, Великобритания' 'Франция - Израиль - Германия'\n",
      " 'Швеция, Франция, Великобритания' 'Бельгия - Люксембург'\n",
      " 'Германия - Бельгия - Великобритания'\n",
      " 'Испания, Франция, Великобритания, Дания, Бельгия, Германия'\n",
      " 'Румыния, ЮАР, Иран, Франция, Канада, Великобритания' 'Германия, Франция'\n",
      " 'США, Япония' 'США, Великобритания, Ирландия, Люксембург'\n",
      " 'Республика Армения' 'США, Франция, Япония' 'Япония, США' 'Канада, США'\n",
      " 'Республика Кипр - Россия'\n",
      " 'Дания - Франция - Италия - Бельгия - Нидерланды' 'Россия - Грузия'\n",
      " 'Италия, Германия' 'Норвегия, Швеция, Дания' 'Республика Кипр, Россия'\n",
      " 'КНР, Индия, Гонконг, США' 'Израиль, Украина' 'США, Россия'\n",
      " 'США - КНР - Индия - Ю.Корея' 'США - Швеция' 'Франция, Канада'\n",
      " 'Россия-Китай' 'Канада, Великобритания' 'США, Германия'\n",
      " 'Канада, США, Каймановы острова'\n",
      " 'Бразилия, Уругвай, Дания, Норвегия, Чили, Швеция'\n",
      " 'Пуэрто-Рико, Великобритания, США' 'Уругвай - Аргентина - Испания'\n",
      " 'США - Великобритания - Италия - Израиль - Сербия - Индия'\n",
      " 'США - Канада - Франция - Индия' 'Великобритания - Россия - КНР'\n",
      " 'Франция, Новая Зеландия' 'Франция, Люксембург, Бельгия'\n",
      " 'Канада, США, Норвегия' 'Италия, Испания'\n",
      " 'Испания - Германия - Нидерланды' 'Бразилия - США - КНР '\n",
      " 'Великобритания, Германия, Дания, США' '2019'\n",
      " 'Италия - Фрация - Бразилия - Германия' 'Норвегия - Швеция - Россия'\n",
      " 'Великобритания, Япония, США' 'Сша, Канада' 'Бельгия, Канада'\n",
      " 'Великобритания - Австралия - США' 'США, Канада' 'КНР - США '\n",
      " 'Франция - Финляндия' 'Колумбия - США' 'Великобритания, Франция, Бельгия'\n",
      " 'Норвегия - Нидерланды' 'Великобритания, Канада, США'\n",
      " 'Япония, Великобритания' 'Италия - Бельгия - Франция'\n",
      " 'Россия, Бельгия, Финляндия' 'США, Украина' 'Франция, Норвегия'\n",
      " 'Великобритания, Южная Корея, Канада, США, Индия, Китай, Япония'\n",
      " 'Канада - Норвегия' 'Республика Кипр-Россия' 'Германия, Россия'\n",
      " 'Польша - Франция - Испания - Бразилия - Швеция'\n",
      " 'Австрия, Великобритания, Германия' 'Франция - Сенегал - Бельгия'\n",
      " 'Франция, Бельгия, Люксембург' 'Финляндия, Латвия' 'Пакистан'\n",
      " 'Германия, Франция, США' 'Германия - Великобритания - США'\n",
      " 'КНР - Франция' 'Дания, Норвегия, Швеция, Исландия'\n",
      " 'Республика Кипр, США, Россия' 'Новая Зеландия - КНР'\n",
      " 'Дания - Канада - Швеция - Франция - Германия - Великобритания - США']\n",
      "\n",
      "\n",
      "Уникальные значения для столбца director:\n",
      "['Кевин Костнер' 'Е.Матвеев' 'Тимур Бекмамбетов' ... 'Ник Пауэлл'\n",
      " 'А.Беляев' 'И.Трусов']\n",
      "\n",
      "\n",
      "Уникальные значения для столбца producer:\n",
      "['Дэвид Валдес, Кевин Костнер, Джейк Эбертс' nan\n",
      " 'Джим Лемли, Джейсон Нетер, Марк Е.Платт, Яйн Смит' ...\n",
      " 'Поппи Бегум, Ник Пойнц'\n",
      " 'Джефф Боулер, Дэниэл Гродник, Луильо Руис, Брэт Саксон, Кирк Шоу'\n",
      " 'Дженнифер Додж']\n",
      "\n",
      "\n",
      "Уникальные значения для столбца age_restriction:\n",
      "['«18+» - запрещено для детей' '«6+» - для детей старше 6 лет'\n",
      " '«12+» - для детей старше 12 лет' '«16+» - для детей старше 16 лет'\n",
      " '«0+» - для любой зрительской аудитории']\n",
      "\n",
      "\n",
      "Уникальные значения для столбца refundable_support:\n",
      "[         nan 0.000000e+00 5.000000e+07 2.600000e+07 3.000000e+07\n",
      " 1.500000e+07 1.000000e+07 2.000000e+07 7.153119e+06 2.500000e+07\n",
      " 4.000000e+07 6.000000e+07 4.400000e+07 2.900000e+07 4.100000e+07\n",
      " 3.600000e+07 3.500000e+06 5.000000e+06 1.900000e+07 9.000000e+06\n",
      " 1.100000e+08 1.700000e+07 7.500000e+07 1.500000e+08 3.800000e+07\n",
      " 1.000000e+08 5.500000e+07 7.000000e+06 7.346881e+06 8.000000e+06\n",
      " 1.150000e+08 3.500000e+07 1.800000e+08 2.800000e+07 8.000000e+07]\n",
      "\n",
      "\n",
      "Уникальные значения для столбца nonrefundable_support:\n",
      "[           nan 2.65000000e+07 2.60000000e+07 1.07847945e+08\n",
      " 2.80000000e+07 2.50000000e+07 1.00000000e+08 4.65022990e+07\n",
      " 7.50000000e+07 3.40000000e+07 3.00000000e+07 4.00000000e+07\n",
      " 2.30000000e+07 4.50000000e+07 5.65790550e+07 2.55000000e+07\n",
      " 2.75100000e+07 1.00000000e+07 2.40000000e+07 2.45000000e+07\n",
      " 2.70000000e+07 5.00000000e+06 9.00000000e+07 2.00000000e+07\n",
      " 7.00000000e+07 9.70000000e+07 2.44500000e+07 5.00000000e+07\n",
      " 0.00000000e+00 6.00000000e+07 2.75000000e+07 2.69500000e+07\n",
      " 1.10000000e+08 1.50000000e+07 5.90000000e+07 2.50000000e+08\n",
      " 3.70000000e+07 3.50000000e+07 2.01452850e+07 2.59000000e+07\n",
      " 6.00000000e+06 3.92104482e+08 2.52000000e+07 2.29040000e+07\n",
      " 2.90000000e+07 5.10000000e+07 4.70000000e+06 5.30000000e+06\n",
      " 2.17000000e+07 2.49860000e+07 2.53450000e+07 1.33000000e+08\n",
      " 1.75000000e+08 3.01239150e+07 2.85000000e+07 3.00000000e+08\n",
      " 4.15000000e+07 2.00000000e+08 1.50000000e+08 5.50000000e+07\n",
      " 6.40000000e+07 5.00008660e+07 1.15200000e+07 1.90000000e+08\n",
      " 2.25000000e+08 8.00000000e+06 4.00000000e+08 2.60000000e+08\n",
      " 3.10000000e+07 8.50000000e+07 8.00000000e+07 1.38969465e+08\n",
      " 1.20000000e+08 1.30000000e+08 1.40000000e+08 3.00000000e+06]\n",
      "\n",
      "\n",
      "Уникальные значения для столбца budget:\n",
      "[           nan 7.94119000e+07 3.71428570e+07 1.76023490e+08\n",
      " 4.05741400e+07 4.00151220e+07 5.18500000e+07 2.20588394e+08\n",
      " 8.62100670e+07 1.39551503e+08 4.85714300e+07 8.00000000e+07\n",
      " 3.62595000e+07 7.08761720e+07 2.52489571e+08 7.49100000e+07\n",
      " 0.00000000e+00 8.97823120e+07 4.36437176e+08 4.05000000e+07\n",
      " 6.84906060e+07 4.50066090e+07 1.31000000e+08 5.00000000e+08\n",
      " 6.10114070e+07 4.00000000e+07 3.73712620e+07 3.52969500e+07\n",
      " 4.30000000e+07 7.74017510e+07 3.50000000e+07 5.11967110e+07\n",
      " 9.01200000e+07 2.67288892e+08 4.92804960e+07 4.90714280e+07\n",
      " 4.69688830e+07 5.51950000e+07 1.56360666e+08 3.74247960e+07\n",
      " 3.57600600e+07 2.81155800e+07 3.79436520e+07 1.38325738e+08\n",
      " 4.22525090e+07 3.99900000e+07 1.12000000e+08 5.57294240e+07\n",
      " 3.57142860e+07 1.39357211e+08 5.02187410e+07 4.02650000e+07\n",
      " 3.90579710e+07 9.25000000e+07 4.14978600e+07 8.62363940e+07\n",
      " 8.03241370e+07 2.40153900e+08 1.00274436e+08 4.02877700e+07\n",
      " 2.85714290e+07 3.84768690e+07 2.70000000e+07 8.16124110e+07\n",
      " 6.40300800e+07 8.02732770e+07 3.60000000e+08 1.30619336e+08\n",
      " 5.28600000e+07 1.11736163e+08 5.54049630e+07 7.33795540e+07\n",
      " 4.20000000e+07 1.05445546e+08 5.80784510e+07 1.34000000e+08\n",
      " 8.46670380e+07 1.64780000e+08 4.19989840e+07 5.95607460e+07\n",
      " 7.40719180e+07 3.90000000e+07 8.53840000e+07 1.50008573e+08\n",
      " 5.21246380e+07 2.11810247e+08 6.35283867e+08 3.78891650e+07\n",
      " 4.62000000e+07 7.59409410e+07 5.42096570e+07 9.00000000e+07\n",
      " 6.94287280e+07 6.98830490e+07 4.28600000e+07 4.61600000e+07\n",
      " 6.20446460e+07 4.86611500e+07 3.99075326e+08 6.10700000e+07\n",
      " 3.84615380e+07 4.55386550e+07 3.80000000e+07 5.69095200e+07\n",
      " 5.38462000e+07 1.79257987e+08 1.09020947e+08 9.02767740e+07\n",
      " 7.86865000e+07 1.44624640e+07 2.15860000e+08 5.00000000e+07\n",
      " 7.00000000e+07 9.10000000e+07 3.70009900e+07 2.22177790e+08\n",
      " 3.84400000e+07 6.82942000e+07 1.62630398e+08 2.26271533e+08\n",
      " 5.28441977e+08 5.99374700e+07 7.50001350e+07 2.22513841e+08\n",
      " 4.61954270e+07 6.88092260e+07 6.10000000e+07 6.84200536e+08\n",
      " 2.87802711e+08 7.00864390e+07 6.30000000e+07 3.85000000e+07\n",
      " 1.10464061e+08 9.50000000e+07 1.13837339e+08 5.43032220e+07\n",
      " 4.30000000e+08 1.82659393e+08 3.23232109e+08 5.78743750e+07\n",
      " 2.06982031e+08 1.20000000e+08 2.02484224e+08 9.08227660e+07\n",
      " 3.60162690e+07 1.26932894e+08 5.46875000e+07 2.43122945e+08\n",
      " 3.13053130e+07 2.15162287e+08 3.78787870e+07 2.10405981e+08\n",
      " 3.20000000e+08 4.61538870e+07 1.80000000e+08 4.54832330e+07\n",
      " 4.06008000e+07 2.04674000e+08 3.44905389e+08 1.28570000e+08\n",
      " 6.50000000e+07 4.73280000e+07 1.87060800e+07 5.77670810e+07\n",
      " 9.02780630e+07 5.40000000e+07 6.31700000e+07 4.66573110e+07\n",
      " 3.00000000e+07 1.03290596e+09 7.70000000e+07 8.35534120e+07\n",
      " 1.57236080e+08 5.71667970e+07 4.93733957e+08 3.52477575e+08\n",
      " 7.80963150e+07 2.19398491e+08 7.42751000e+07 5.00012729e+08\n",
      " 3.84667000e+07 1.81664180e+07 4.86808580e+07 1.36230333e+08\n",
      " 5.84473010e+07 1.50000000e+08 1.74381922e+08 1.30000000e+08\n",
      " 5.90192191e+08 1.74464395e+08 4.46000000e+07 2.92412422e+08\n",
      " 1.70122675e+08 1.48585222e+08 6.00000000e+07 1.09609029e+08\n",
      " 8.28004880e+07 8.76491270e+07 2.04400968e+08 1.40005238e+08\n",
      " 1.10000000e+08 3.90191139e+08 1.09814241e+08 3.78491030e+07\n",
      " 1.18000000e+08 2.98500000e+08 2.00067392e+08 3.76000000e+07\n",
      " 1.14510306e+08 3.91292890e+07 9.50655460e+07 3.85000000e+08\n",
      " 3.08000000e+07 3.77656540e+07 6.20000000e+07 1.68271268e+08\n",
      " 1.11812387e+08 4.50450500e+07 1.81302726e+08 7.03050000e+07\n",
      " 8.24968890e+07 6.03735760e+07 7.69130580e+07 4.69237760e+07\n",
      " 4.82380750e+07 9.30000000e+07 4.50745470e+07 1.54245687e+08\n",
      " 1.72763618e+08 1.85500705e+08 3.97000000e+07 1.79708770e+08\n",
      " 5.63784717e+08 3.56550000e+08 3.35567667e+08 1.23714264e+08\n",
      " 1.15000000e+08 4.42865840e+07 5.66935590e+07 1.01463696e+08\n",
      " 1.08518988e+08 4.99826569e+08 4.69411400e+07 7.83551540e+07\n",
      " 1.02760000e+08 2.64578774e+08 1.69000000e+08 2.40041307e+08\n",
      " 1.65222908e+08 4.53704666e+08 3.77442800e+07 3.88582600e+07\n",
      " 3.75000000e+07 4.80000000e+07 4.61538460e+07 1.05721524e+08\n",
      " 4.10000000e+07 6.15714490e+07 4.63000000e+07 4.72000000e+07\n",
      " 3.00000000e+08 5.50000000e+07 6.06685760e+07 4.50500000e+07\n",
      " 7.15176310e+07 1.50100000e+07 6.01503760e+07 6.47929130e+07\n",
      " 6.79427180e+07 2.30507430e+09 1.01659240e+08 6.24157490e+07\n",
      " 1.54989700e+08 7.79941965e+08 3.30000000e+07 1.47866278e+08\n",
      " 5.78760000e+07 2.50000000e+08 1.40025000e+08 3.04489110e+07\n",
      " 7.50000000e+07 3.60054850e+08 4.77340500e+07 7.84222120e+07\n",
      " 2.70000000e+08 1.60000000e+08 9.80000000e+08 1.90000000e+08\n",
      " 9.44000000e+08 4.61540000e+07 1.50147502e+08]\n",
      "\n",
      "\n",
      "Уникальные значения для столбца financing_source:\n",
      "[nan 'Министерство культуры' 'Фонд кино'\n",
      " 'Министерство культуры, Фонд кино']\n",
      "\n",
      "\n",
      "Уникальные значения для столбца ratings:\n",
      "[7.2 6.6 6.8 7.7 8.3 8.  7.8 8.1 7.1 6.  7.4 5.8 8.7 6.3 6.9 5.  4.3 7.3\n",
      " 7.  6.4 nan 8.2 7.5 6.7 7.9 5.9 6.2 5.6 6.5 2.4 7.6 6.1 8.6 8.5 8.8 5.5\n",
      " 5.1 5.7 5.4 4.4 4.5 5.3 4.1 8.4 2.6 3.8 4.6 4.8 4.  3.  1.6 4.2 5.2 4.7\n",
      " 4.9 3.9 2.7 3.3 2.9 3.7 1.4 3.1 3.5 3.2 2.8 1.5 2.1 2.5 9.2 3.4 1.1 3.6\n",
      " 1.  1.3 1.9 1.8 1.2 1.7 9.  8.9 9.1]\n",
      "\n",
      "\n",
      "Уникальные значения для столбца genres:\n",
      "['боевик,драма,мелодрама' 'драма,военный' 'фантастика,боевик,триллер'\n",
      " 'драма' 'мелодрама,комедия' 'мюзикл,мелодрама,комедия' 'комедия,криминал'\n",
      " 'боевик,триллер,детектив' 'боевик,драма,приключения' 'драма,спорт'\n",
      " 'триллер,драма,мелодрама' 'комедия,мелодрама' 'драма,мелодрама,комедия'\n",
      " 'драма,мелодрама' 'драма,история' 'драма,мелодрама,семейный'\n",
      " 'комедия,мелодрама,криминал' 'комедия' 'боевик,драма,криминал'\n",
      " 'драма,комедия' 'ужасы,фантастика,комедия'\n",
      " 'мультфильм,короткометражка,мелодрама' 'драма,криминал'\n",
      " 'мультфильм,фантастика,фэнтези' 'триллер,драма,криминал'\n",
      " 'драма,мелодрама,биография' 'драма,комедия,военный'\n",
      " 'фантастика,драма,детектив' 'мюзикл,семейный' nan\n",
      " 'военный,приключения,драма' 'документальный,драма'\n",
      " 'драма,биография,история' 'боевик,триллер,драма' 'фэнтези,боевик'\n",
      " 'боевик,комедия,криминал' 'мюзикл,комедия,детский'\n",
      " 'комедия,мелодрама,драма' 'мультфильм,фэнтези,комедия' 'комедия,история'\n",
      " 'мелодрама' 'драма,биография,музыка' 'фэнтези,драма,мелодрама'\n",
      " 'триллер,военный' 'драма,мелодрама,военный' 'мюзикл,драма,мелодрама'\n",
      " 'мюзикл,комедия' 'мультфильм,приключения,семейный' 'ужасы,триллер'\n",
      " 'боевик,драма,военный' 'драма,боевик' 'мультфильм,драма,комедия'\n",
      " 'триллер,криминал' 'военный,биография,драма' 'комедия,семейный' 'военный'\n",
      " 'драма,семейный,биография' 'фэнтези,приключения,семейный'\n",
      " 'драма,криминал,биография' 'ужасы,триллер,детектив'\n",
      " 'боевик,история,драма' 'ужасы,триллер,драма' 'драма,криминал,спорт'\n",
      " 'документальный,короткометражка' 'триллер,драма'\n",
      " 'криминал,детектив,приключения' 'драма,комедия,криминал'\n",
      " 'драма,комедия,вестерн' 'драма,мелодрама,детектив' 'мелодрама,биография'\n",
      " 'фэнтези,мелодрама,драма' 'драма,мелодрама,история'\n",
      " 'комедия,приключения,история' 'приключения' 'драма,семейный'\n",
      " 'криминал,детектив' 'мультфильм,короткометражка,ужасы'\n",
      " 'фантастика,триллер,драма' 'фэнтези,мелодрама,комедия' 'драма,биография'\n",
      " 'комедия,криминал,история' 'триллер,драма,детектив'\n",
      " 'фантастика,комедия,приключения' 'фэнтези,семейный'\n",
      " 'ужасы,фантастика,боевик' 'мелодрама,криминал'\n",
      " 'комедия,приключения,мелодрама' 'боевик,триллер,приключения'\n",
      " 'боевик,приключения' 'боевик,триллер,криминал'\n",
      " 'документальный,военный,история' 'драма,музыка' 'боевик,драма'\n",
      " 'приключения,боевик' 'драма,военный,биография'\n",
      " 'триллер,драма,приключения' 'аниме,мультфильм,фэнтези'\n",
      " 'триллер,детектив,драма' 'боевик,триллер,мелодрама' 'боевик,история'\n",
      " 'приключения,история' 'драма,комедия,приключения'\n",
      " 'фэнтези,комедия,приключения' 'драма,вестерн' 'документальный,музыка'\n",
      " 'мелодрама,драма' 'триллер,криминал,детектив' 'ужасы'\n",
      " 'боевик,комедия,приключения' 'мультфильм,фэнтези,боевик'\n",
      " 'боевик,фэнтези,драма' 'фэнтези,драма' 'фэнтези,боевик,комедия'\n",
      " 'приключения,детский,комедия' 'документальный' 'боевик,триллер,комедия'\n",
      " 'мелодрама,комедия,криминал' 'драма,детектив' 'мюзикл,ужасы,триллер'\n",
      " 'детектив,триллер,ужасы' 'ужасы,фэнтези' 'ужасы,фэнтези,триллер'\n",
      " 'мультфильм,драма' 'ужасы,боевик,фантастика' 'боевик' 'фантастика,боевик'\n",
      " 'мелодрама,комедия,приключения' 'триллер,детектив'\n",
      " 'мюзикл,мелодрама,фэнтези' 'криминал' 'триллер,комедия,криминал'\n",
      " 'боевик,приключения,триллер' 'триллер,драма,военный'\n",
      " 'комедия,семейный,музыка' 'комедия,фантастика,мелодрама'\n",
      " 'фантастика,триллер,криминал' 'комедия,драма' 'боевик,военный'\n",
      " 'ужасы,фантастика,триллер' 'фантастика,драма,мелодрама'\n",
      " 'фэнтези,драма,детектив' 'боевик,триллер' 'боевик,драма,история'\n",
      " 'мультфильм,мюзикл,фэнтези' 'для взрослых,драма,мелодрама'\n",
      " 'мультфильм,боевик,детектив' 'фантастика,мелодрама,боевик'\n",
      " 'ужасы,фантастика,детектив' 'фантастика,боевик,приключения'\n",
      " 'мелодрама,комедия,спорт' 'комедия,боевик,приключения'\n",
      " 'документальный,приключения' 'мультфильм,короткометражка,детский'\n",
      " 'комедия,приключения' 'ужасы,драма' 'ужасы,фэнтези,боевик'\n",
      " 'мультфильм,фэнтези,детский' 'мюзикл,боевик,драма'\n",
      " 'семейный,комедия,драма' 'концерт,музыка' 'фэнтези,боевик,драма'\n",
      " 'драма,комедия,музыка' 'фантастика,фэнтези,боевик'\n",
      " 'фэнтези,комедия,семейный' 'фэнтези,драма,комедия'\n",
      " 'мультфильм,мюзикл,драма' 'триллер' 'боевик,криминал,триллер'\n",
      " 'мультфильм,приключения,драма' 'мелодрама,музыка'\n",
      " 'документальный,музыка,концерт' 'мультфильм,семейный'\n",
      " 'мультфильм,комедия,приключения' 'мультфильм,комедия,семейный'\n",
      " 'фантастика,драма' 'фэнтези,боевик,приключения' 'мультфильм,приключения'\n",
      " 'драма,военный,история' 'история' 'драма,приключения,военный'\n",
      " 'документальный,короткометражка,семейный' 'мелодрама,история,триллер'\n",
      " 'ужасы,детектив' 'мюзикл,комедия,приключения' 'драма,спорт,биография'\n",
      " 'фантастика,боевик,комедия' 'фантастика,приключения,детектив'\n",
      " 'короткометражка,драма,военный' 'драма,мультфильм' 'приключения,семейный'\n",
      " 'детектив' 'триллер,приключения' 'аниме,мультфильм,боевик'\n",
      " 'драма,комедия,биография' 'драма,комедия,спорт'\n",
      " 'боевик,мелодрама,комедия' 'семейный,комедия' 'фэнтези,боевик,триллер'\n",
      " 'документальный,фэнтези,семейный' 'фантастика,фэнтези,драма'\n",
      " 'ужасы,комедия,фэнтези' 'документальный,биография,музыка'\n",
      " 'фантастика,боевик,фэнтези' 'ужасы,боевик,триллер'\n",
      " 'комедия,криминал,семейный' 'приключения,драма' 'криминал,драма,триллер'\n",
      " 'драма,детектив,криминал' 'фэнтези,приключения,комедия' 'комедия,спорт'\n",
      " 'мюзикл,фэнтези,мелодрама' 'мультфильм,фэнтези,приключения'\n",
      " 'фантастика,фэнтези,приключения' 'фэнтези' 'фэнтези,приключения,боевик'\n",
      " 'фантастика,боевик,драма' 'криминал,драма' 'криминал,триллер,драма'\n",
      " 'драма,мелодрама,приключения' 'детский,комедия' 'фантастика,драма,боевик'\n",
      " 'мультфильм,семейный,фэнтези' 'концерт,музыка,документальный'\n",
      " 'ужасы,комедия,приключения' 'драма,мелодрама,криминал'\n",
      " 'ужасы,фантастика,фэнтези' 'боевик,комедия'\n",
      " 'мультфильм,фантастика,комедия' 'триллер,ужасы'\n",
      " 'мультфильм,мюзикл,комедия' 'мелодрама,фэнтези,триллер'\n",
      " 'детский,приключения,комедия' 'комедия,детектив'\n",
      " 'аниме,мультфильм,мелодрама' 'документальный,драма,семейный'\n",
      " 'документальный,биография,история' 'военный,боевик,драма' 'ужасы,комедия'\n",
      " 'комедия,приключения,семейный' 'приключения,биография,история'\n",
      " 'детский,приключения,семейный' 'спорт,драма,биография'\n",
      " 'аниме,мультфильм,ужасы' 'фантастика,боевик,криминал' 'мюзикл,драма'\n",
      " 'драма,криминал,детектив' 'аниме,мультфильм,драма'\n",
      " 'драма,триллер,приключения' 'триллер,криминал,драма'\n",
      " 'фэнтези,комедия,драма' 'мультфильм,комедия' 'драма,комедия,история'\n",
      " 'комедия,биография,история' 'мультфильм,фантастика,приключения'\n",
      " 'аниме,мультфильм,фантастика' 'мультфильм,фэнтези,семейный'\n",
      " 'мультфильм,боевик,комедия' 'комедия,криминал,спорт'\n",
      " 'документальный,мюзикл' 'мелодрама,комедия,музыка' 'биография'\n",
      " 'триллер,криминал,комедия' 'фантастика,драма,комедия'\n",
      " 'комедия,драма,мелодрама' 'фантастика,приключения,боевик'\n",
      " 'мультфильм,фэнтези,драма' 'триллер,комедия'\n",
      " 'драма,приключения,биография' 'фантастика,комедия'\n",
      " 'мелодрама,драма,комедия' 'боевик,криминал' 'драма,криминал,боевик'\n",
      " 'мультфильм,мюзикл,детский' 'драма,фэнтези' 'документальный,семейный'\n",
      " 'фэнтези,драма,приключения' 'ужасы,комедия,фантастика'\n",
      " 'драма,мелодрама,музыка' 'фэнтези,драма,семейный'\n",
      " 'триллер,мелодрама,драма' 'вестерн,боевик,драма'\n",
      " 'мультфильм,короткометражка,комедия' 'триллер,драма,история'\n",
      " 'ужасы,фантастика' 'ужасы,мелодрама,комедия' 'фэнтези,приключения'\n",
      " 'фантастика,триллер' 'ужасы,боевик,фэнтези' 'мультфильм,комедия,детский'\n",
      " 'триллер,драма,биография' 'мультфильм,ужасы,фэнтези'\n",
      " 'мультфильм,ужасы,фантастика' 'ужасы,боевик,комедия'\n",
      " 'драма,биография,спорт' 'мультфильм' 'мелодрама,комедия,драма'\n",
      " 'приключения,фантастика,семейный' 'комедия,криминал,детектив'\n",
      " 'ужасы,триллер,комедия' 'криминал,комедия,триллер'\n",
      " 'семейный,приключения,комедия' 'мультфильм,драма,приключения'\n",
      " 'ужасы,драма,детектив' 'драма,приключения,фэнтези'\n",
      " 'фантастика,мультфильм,драма' 'драма,триллер,детектив'\n",
      " 'драма,история,музыка' 'детский' 'триллер,боевик,криминал'\n",
      " 'драма,фантастика' 'комедия,драма,семейный' 'боевик,драма,комедия'\n",
      " 'комедия,ужасы' 'драма,фантастика,триллер' 'фантастика,драма,триллер'\n",
      " 'история,спорт,драма' 'документальный,биография' 'биография,история'\n",
      " 'спорт,драма' 'боевик,фэнтези' 'мультфильм,фэнтези'\n",
      " 'документальный,комедия,история' 'криминал,комедия,боевик'\n",
      " 'фэнтези,приключения,драма' 'музыка,концерт' 'триллер,драма,боевик'\n",
      " 'комедия,криминал,боевик' 'комедия,фантастика,боевик'\n",
      " 'вестерн,приключения,боевик' 'аниме,мультфильм,комедия'\n",
      " 'детектив,криминал,триллер' 'мультфильм,комедия,криминал'\n",
      " 'комедия,приключения,детектив' 'мелодрама,фантастика,драма'\n",
      " 'драма,комедия,семейный' 'приключения,фантастика'\n",
      " 'триллер,детектив,ужасы' 'комедия,приключения,фэнтези'\n",
      " 'фэнтези,триллер,драма' 'мелодрама,приключения,боевик'\n",
      " 'детектив,триллер,криминал' 'фэнтези,семейный,мелодрама' 'военный,драма'\n",
      " 'документальный,приключения,семейный' 'криминал,комедия,драма'\n",
      " 'комедия,фантастика' 'история,биография,драма' 'мелодрама,драма,музыка'\n",
      " 'боевик,мелодрама' 'комедия,криминал,триллер' 'детектив,триллер,боевик'\n",
      " 'комедия,боевик,криминал' 'комедия,вестерн' 'детский,мелодрама,семейный'\n",
      " 'короткометражка,мультфильм' 'комедия,фэнтези' 'фантастика,драма,ужасы'\n",
      " 'триллер,драма,ужасы' 'драма,фэнтези,история'\n",
      " 'комедия,драма,короткометражка' 'фэнтези,триллер,приключения' 'семейный'\n",
      " 'комедия,криминал,драма' 'комедия,фэнтези,ужасы'\n",
      " 'короткометражка,комедия,криминал' 'фантастика' 'триллер,ужасы,драма'\n",
      " 'мелодрама,драма,фэнтези' 'фантастика,приключения,драма'\n",
      " 'боевик,детектив' 'военный,драма,боевик' 'комедия,мелодрама,фэнтези'\n",
      " 'вестерн,криминал,триллер' 'драма,история,триллер'\n",
      " 'мультфильм,фантастика,боевик' 'детектив,драма,криминал'\n",
      " 'приключения,история,драма' 'мультфильм,семейный,детский'\n",
      " 'биография,драма,история' 'триллер,криминал,боевик' 'история,мелодрама'\n",
      " 'приключения,детский' 'музыка,приключения,концерт'\n",
      " 'военный,драма,комедия' 'фэнтези,боевик,военный'\n",
      " 'фантастика,детектив,боевик' 'мультфильм,фэнтези,история'\n",
      " 'биография,мелодрама,драма' 'документальный,биография,спорт'\n",
      " 'фантастика,комедия,детектив' 'музыка,концерт,документальный'\n",
      " 'триллер,боевик,приключения' 'триллер,драма,комедия' 'детектив,криминал'\n",
      " 'мультфильм,приключения,фэнтези' 'мелодрама,приключения' 'комедия,музыка'\n",
      " 'мелодрама,комедия,ужасы' 'драма,криминал,приключения'\n",
      " 'приключения,детектив,мелодрама' 'драма,криминал,фантастика'\n",
      " 'фэнтези,драма,биография' 'детектив,фантастика,криминал'\n",
      " 'триллер,драма,фантастика' 'ужасы,комедия,боевик' 'мелодрама,история'\n",
      " 'триллер,боевик' 'фильм-нуар,триллер,детектив'\n",
      " 'комедия,криминал,приключения' 'ужасы,триллер,мелодрама'\n",
      " 'военный,драма,история' 'драма,спорт,история'\n",
      " 'документальный,драма,история' 'триллер,мелодрама,детектив'\n",
      " 'детский,семейный' 'мюзикл,семейный,драма' 'биография,военный,драма'\n",
      " 'мультфильм,детский' 'боевик,криминал,драма' 'детектив,фэнтези,триллер'\n",
      " 'драма,боевик,приключения' 'драма,мелодрама,фэнтези'\n",
      " 'детектив,история,драма' 'фэнтези,боевик,ужасы' 'ужасы,фэнтези,мелодрама'\n",
      " 'ужасы,приключения' 'боевик,фантастика' 'ужасы,мелодрама,детектив'\n",
      " 'фантастика,триллер,приключения' 'боевик,приключения,история'\n",
      " 'приключения,боевик,триллер' 'детектив,ужасы,криминал' 'семейный,фэнтези'\n",
      " 'мюзикл,мелодрама' 'драма,военный,приключения'\n",
      " 'фантастика,драма,приключения' 'приключения,семейный,драма'\n",
      " 'история,драма,боевик' 'мультфильм,приключения,комедия'\n",
      " 'криминал,драма,комедия' 'ужасы,комедия,драма'\n",
      " 'комедия,семейный,приключения' 'мюзикл,фэнтези,драма'\n",
      " 'драма,вестерн,боевик' 'фантастика,триллер,детектив'\n",
      " 'драма,история,детектив' 'короткометражка,биография'\n",
      " 'мультфильм,приключения,фантастика' 'комедия,триллер'\n",
      " 'мультфильм,приключения,детектив' 'драма,триллер'\n",
      " 'ужасы,триллер,криминал' 'документальный,криминал,военный'\n",
      " 'ужасы,фэнтези,драма' 'фэнтези,комедия' 'ужасы,фэнтези,комедия'\n",
      " 'комедия,музыка,драма' 'мультфильм,приключения,военный'\n",
      " 'мюзикл,фэнтези,комедия' 'боевик,фантастика,приключения'\n",
      " 'триллер,ужасы,криминал' 'ужасы,фантастика,драма'\n",
      " 'фантастика,приключения,семейный' 'короткометражка,музыка'\n",
      " 'мелодрама,детектив,комедия' 'документальный,триллер,биография'\n",
      " 'боевик,фантастика,триллер' 'спорт,драма,комедия'\n",
      " 'фэнтези,мелодрама,приключения' 'триллер,детектив,криминал'\n",
      " 'короткометражка,мелодрама' 'мультфильм,семейный,спорт'\n",
      " 'комедия,фэнтези,мелодрама' 'драма,спорт,комедия'\n",
      " 'история,драма,мелодрама' 'драма,боевик,криминал' 'драма,комедия,триллер'\n",
      " 'аниме,мультфильм' 'документальный,ужасы' 'мультфильм,короткометражка'\n",
      " 'драма,история,военный' 'мультфильм,короткометражка,фэнтези'\n",
      " 'комедия,военный,музыка' 'биография,история,драма'\n",
      " 'ужасы,драма,мелодрама' 'драма,комедия,детектив'\n",
      " 'комедия,семейный,фантастика' 'мультфильм,семейный,комедия'\n",
      " 'история,детектив' 'приключения,мелодрама,детектив'\n",
      " 'мюзикл,комедия,мелодрама' 'драма,фантастика,ужасы'\n",
      " 'мультфильм,ужасы,комедия' 'для взрослых,драма,комедия'\n",
      " 'ужасы,комедия,музыка' 'комедия,история,драма'\n",
      " 'семейный,детектив,детский' 'короткометражка,драма'\n",
      " 'документальный,новости,драма' 'триллер,мелодрама' 'ужасы,драма,вестерн'\n",
      " 'мюзикл,фэнтези,семейный' 'вестерн,драма,триллер'\n",
      " 'приключения,вестерн,боевик' 'семейный,комедия,музыка'\n",
      " 'боевик,драма,вестерн' 'ужасы,драма,триллер' 'фантастика,мелодрама'\n",
      " 'комедия,криминал,биография' 'семейный,мультфильм,комедия'\n",
      " 'комедия,драма,криминал' 'фантастика,боевик,военный'\n",
      " 'приключения,биография,драма' 'приключения,триллер,биография'\n",
      " 'криминал,боевик,триллер' 'боевик,вестерн,приключения' 'история,драма'\n",
      " 'фантастика,фэнтези,комедия' 'мультфильм,детский,комедия'\n",
      " 'мелодрама,комедия,триллер' 'документальный,боевик,приключения'\n",
      " 'драма,приключения' 'мелодрама,военный,драма' 'триллер,фэнтези'\n",
      " 'драма,триллер,биография' 'фэнтези,боевик,семейный'\n",
      " 'фантастика,триллер,комедия' 'документальный,фэнтези'\n",
      " 'комедия,мультфильм,фантастика' 'криминал,биография,комедия'\n",
      " 'биография,спорт,драма' 'приключения,военный' 'мультфильм,семейный,драма'\n",
      " 'документальный,фэнтези,драма' 'комедия,боевик,фантастика'\n",
      " 'семейный,приключения,военный' 'триллер,ужасы,детектив' 'короткометражка'\n",
      " 'мелодрама,триллер,история' 'документальный,история'\n",
      " 'мультфильм,приключения,детский' 'драма,комедия,мультфильм'\n",
      " 'военный,детектив' 'семейный,приключения,документальный'\n",
      " 'детский,фэнтези' 'документальный,комедия' 'комедия,биография'\n",
      " 'криминал,комедия' 'спорт,мелодрама,криминал' 'фантастика,комедия,боевик'\n",
      " 'боевик,приключения,детектив' 'детектив,триллер,драма'\n",
      " 'документальный,фантастика' 'мелодрама,комедия,семейный'\n",
      " 'мультфильм,мелодрама,комедия' 'драма,спорт,семейный'\n",
      " 'фантастика,мелодрама,фэнтези' 'мюзикл,комедия,музыка'\n",
      " 'фантастика,триллер,мелодрама' 'приключения,комедия,фэнтези'\n",
      " 'фэнтези,боевик,детектив' 'фэнтези,боевик,мелодрама' 'комедия,военный'\n",
      " 'драма,спорт,боевик' 'мультфильм,боевик,триллер' 'мелодрама,семейный'\n",
      " 'фантастика,боевик,детектив' 'драма,приключения,история'\n",
      " 'документальный,драма,музыка' 'фантастика,триллер,боевик'\n",
      " 'фэнтези,боевик,вестерн' 'драма,комедия,мелодрама'\n",
      " 'ужасы,фэнтези,приключения' 'триллер,фэнтези,драма'\n",
      " 'мультфильм,мюзикл,мелодрама' 'ужасы,триллер,фантастика'\n",
      " 'триллер,мелодрама,комедия' 'ужасы,комедия,семейный'\n",
      " 'комедия,приключения,музыка' 'документальный,комедия,криминал'\n",
      " 'мелодрама,детектив' 'детский,приключения,фантастика'\n",
      " 'короткометражка,боевик,драма' 'боевик,комедия,семейный'\n",
      " 'фантастика,боевик,мелодрама' 'фэнтези,триллер,мелодрама'\n",
      " 'драма,детектив,история' 'боевик,криминал,детектив'\n",
      " 'мультфильм,фэнтези,мелодрама' 'мелодрама,драма,боевик'\n",
      " 'драма,вестерн,приключения' 'драма,приключения,мелодрама'\n",
      " 'фэнтези,боевик,криминал' 'фантастика,комедия,семейный'\n",
      " 'детский,фэнтези,приключения' 'ужасы,боевик'\n",
      " 'фантастика,мелодрама,комедия' 'семейный,спорт,боевик'\n",
      " 'триллер,биография,драма' 'ужасы,драма,комедия'\n",
      " 'мультфильм,фэнтези,триллер' 'мюзикл' 'боевик,спорт,драма'\n",
      " 'комедия,приключения,вестерн' 'документальный,ужасы,боевик'\n",
      " 'фантастика,боевик,семейный' 'военный,история' 'ужасы,боевик,криминал'\n",
      " 'детектив,триллер' 'драма,семейный,комедия' 'драма,детектив,приключения'\n",
      " 'драма,криминал,история' 'приключения,триллер' 'боевик,драма,биография'\n",
      " 'драма,приключения,триллер' 'комедия,фэнтези,приключения'\n",
      " 'фантастика,боевик,ужасы' 'драма,комедия,фантастика'\n",
      " 'детектив,криминал,драма' 'боевик,триллер,фэнтези'\n",
      " 'приключения,детектив,семейный' 'ужасы,комедия,криминал'\n",
      " 'мультфильм,биография,драма' 'история,боевик,фэнтези'\n",
      " 'детектив,криминал,боевик' 'приключения,фэнтези'\n",
      " 'комедия,приключения,спорт' 'драма,биография,мюзикл'\n",
      " 'комедия,семейный,фэнтези' 'детектив,драма,триллер'\n",
      " 'боевик,приключения,семейный' 'биография,спорт,комедия'\n",
      " 'фантастика,приключения,военный' 'документальный,драма,биография'\n",
      " 'детектив,приключения,драма' 'аниме,мультфильм,приключения'\n",
      " 'семейный,приключения' 'ужасы,фэнтези,детектив' 'семейный,документальный'\n",
      " 'драма,приключения,семейный' 'приключения,история,военный'\n",
      " 'фэнтези,мелодрама' 'фэнтези,триллер,детектив'\n",
      " 'документальный,спорт,биография' 'комедия,триллер,драма' 'драма,ужасы'\n",
      " 'биография,музыка,драма' 'фэнтези,ужасы' 'детектив,мелодрама,фэнтези'\n",
      " 'боевик,военный,история' 'биография,драма,криминал'\n",
      " 'триллер,мелодрама,криминал' 'семейный,мелодрама' 'биография,драма'\n",
      " 'военный,история,драма' 'фантастика,детектив,фэнтези'\n",
      " 'детектив,приключения,триллер' 'фантастика,приключения'\n",
      " 'мультфильм,короткометражка,мюзикл' 'мультфильм,детский,семейный'\n",
      " 'документальный,драма,комедия' 'комедия,приключения,криминал'\n",
      " 'документальный,семейный,музыка' 'мелодрама,музыка,драма'\n",
      " 'детектив,фантастика,триллер' 'драма,мелодрама,триллер'\n",
      " 'биография,драма,военный' 'приключения,фантастика,драма'\n",
      " 'детектив,фильм-нуар,комедия' 'документальный,спорт'\n",
      " 'триллер,фантастика,драма' 'биография,документальный'\n",
      " 'ужасы,фантастика,мелодрама' 'детектив,комедия'\n",
      " 'история,биография,военный' 'криминал,мелодрама' 'драма,криминал,вестерн'\n",
      " 'мелодрама,семейный,приключения' 'триллер,ужасы,мелодрама'\n",
      " 'фэнтези,драма,фильм-нуар' 'детектив,мелодрама' 'комедия,драма,биография'\n",
      " 'драма,военный,боевик' 'драма,комедия,ужасы' 'фантастика,драма,криминал'\n",
      " 'документальный,музыка,биография' 'мультфильм,боевик,приключения'\n",
      " 'короткометражка,фантастика' 'мультфильм,мелодрама,драма'\n",
      " 'боевик,военный,драма' 'фэнтези,семейный,приключения'\n",
      " 'детский,мультфильм,приключения' 'семейный,фэнтези,комедия'\n",
      " 'фэнтези,ужасы,триллер' 'ужасы,триллер,приключения'\n",
      " 'драма,боевик,история' 'фэнтези,комедия,детектив' 'история,приключения'\n",
      " 'аниме,мультфильм,короткометражка' 'драма,военный,триллер'\n",
      " 'биография,криминал,триллер' 'фантастика,фэнтези,детектив'\n",
      " 'вестерн,биография,драма' 'биография,музыка,мюзикл'\n",
      " 'драма,история,биография' 'приключения,драма,фантастика'\n",
      " 'комедия,фэнтези,криминал' 'биография,спорт,история'\n",
      " 'драма,криминал,семейный' 'детектив,боевик,история'\n",
      " 'ужасы,комедия,детектив' 'триллер,приключения,драма'\n",
      " 'фэнтези,комедия,криминал' 'триллер,криминал,приключения'\n",
      " 'комедия,детектив,приключения' 'фэнтези,драма,ужасы'\n",
      " 'ужасы,драма,военный' 'реальное ТВ' 'аниме,мультфильм,детектив'\n",
      " 'приключения,фэнтези,семейный' 'драма,биография,комедия'\n",
      " 'триллер,комедия,ужасы' 'музыка,мелодрама,фэнтези' 'мультфильм,история'\n",
      " 'мультфильм,комедия,фантастика' 'биография,криминал,драма'\n",
      " 'комедия,мелодрама,фантастика' 'криминал,боевик,комедия'\n",
      " 'история,криминал' 'детектив,комедия,драма' 'триллер,фантастика,боевик'\n",
      " 'криминал,боевик' 'комедия,драма,военный' 'драма,триллер,криминал'\n",
      " 'мультфильм,мелодрама,приключения' 'фантастика,фэнтези,триллер'\n",
      " 'короткометражка,драма,триллер' 'военный,боевик,история'\n",
      " 'боевик,драма,триллер' 'документальный,военный,драма'\n",
      " 'драма,криминал,фильм-нуар' 'мультфильм,детский,приключения'\n",
      " 'мелодрама,история,драма']\n",
      "\n",
      "\n",
      "Уникальные значения для столбца box_office:\n",
      "[           nan 2.70000000e+03 3.60000000e+02 ... 3.14379050e+06\n",
      " 1.80017724e+07 2.19569000e+05]\n",
      "\n",
      "\n"
     ]
    }
   ],
   "source": [
    "for col in data.columns:\n",
    "    print(f\"Уникальные значения для столбца {col}:\")\n",
    "    print(data[col].unique())\n",
    "    print(\"\\n\")\n"
   ]
  },
  {
   "cell_type": "markdown",
   "metadata": {},
   "source": [
    "____"
   ]
  },
  {
   "cell_type": "markdown",
   "metadata": {
    "id": "52fOPrEBgFyQ"
   },
   "source": [
    "### Изучим категориальные значения"
   ]
  },
  {
   "cell_type": "markdown",
   "metadata": {},
   "source": [
    "Для начала нам нужно изучить категориальные значения, чтобы понять, какие проблемы могут встречаться в столбцах.\n",
    "\n",
    "Можем использовать метод describe(include='object'), чтобы посмотреть статистику для всех категориальных столбцов в нашем наборе данных."
   ]
  },
  {
   "cell_type": "code",
   "execution_count": 20,
   "metadata": {
    "id": "PnXKIVdFgFyR"
   },
   "outputs": [
    {
     "data": {
      "text/html": [
       "<div>\n",
       "<style scoped>\n",
       "    .dataframe tbody tr th:only-of-type {\n",
       "        vertical-align: middle;\n",
       "    }\n",
       "\n",
       "    .dataframe tbody tr th {\n",
       "        vertical-align: top;\n",
       "    }\n",
       "\n",
       "    .dataframe thead th {\n",
       "        text-align: right;\n",
       "    }\n",
       "</style>\n",
       "<table border=\"1\" class=\"dataframe\">\n",
       "  <thead>\n",
       "    <tr style=\"text-align: right;\">\n",
       "      <th></th>\n",
       "      <th>title</th>\n",
       "      <th>type</th>\n",
       "      <th>film_studio</th>\n",
       "      <th>production_country</th>\n",
       "      <th>director</th>\n",
       "      <th>producer</th>\n",
       "      <th>age_restriction</th>\n",
       "      <th>financing_source</th>\n",
       "      <th>genres</th>\n",
       "    </tr>\n",
       "  </thead>\n",
       "  <tbody>\n",
       "    <tr>\n",
       "      <th>count</th>\n",
       "      <td>7486</td>\n",
       "      <td>7486</td>\n",
       "      <td>7468</td>\n",
       "      <td>7484</td>\n",
       "      <td>7477</td>\n",
       "      <td>6918</td>\n",
       "      <td>7486</td>\n",
       "      <td>332</td>\n",
       "      <td>6510</td>\n",
       "    </tr>\n",
       "    <tr>\n",
       "      <th>unique</th>\n",
       "      <td>6772</td>\n",
       "      <td>8</td>\n",
       "      <td>5490</td>\n",
       "      <td>950</td>\n",
       "      <td>4811</td>\n",
       "      <td>5349</td>\n",
       "      <td>5</td>\n",
       "      <td>3</td>\n",
       "      <td>742</td>\n",
       "    </tr>\n",
       "    <tr>\n",
       "      <th>top</th>\n",
       "      <td>День святого Валентина_</td>\n",
       "      <td>Художественный</td>\n",
       "      <td>Киностудия \"Мосфильм\"</td>\n",
       "      <td>США</td>\n",
       "      <td>О.Семёнова</td>\n",
       "      <td>П.Смирнов</td>\n",
       "      <td>«16+» - для детей старше 16 лет</td>\n",
       "      <td>Министерство культуры</td>\n",
       "      <td>драма</td>\n",
       "    </tr>\n",
       "    <tr>\n",
       "      <th>freq</th>\n",
       "      <td>5</td>\n",
       "      <td>4520</td>\n",
       "      <td>341</td>\n",
       "      <td>2172</td>\n",
       "      <td>47</td>\n",
       "      <td>67</td>\n",
       "      <td>2851</td>\n",
       "      <td>164</td>\n",
       "      <td>476</td>\n",
       "    </tr>\n",
       "  </tbody>\n",
       "</table>\n",
       "</div>"
      ],
      "text/plain": [
       "                          title            type            film_studio  \\\n",
       "count                      7486            7486                   7468   \n",
       "unique                     6772               8                   5490   \n",
       "top     День святого Валентина_  Художественный  Киностудия \"Мосфильм\"   \n",
       "freq                          5            4520                    341   \n",
       "\n",
       "       production_country    director   producer  \\\n",
       "count                7484        7477       6918   \n",
       "unique                950        4811       5349   \n",
       "top                   США  О.Семёнова  П.Смирнов   \n",
       "freq                 2172          47         67   \n",
       "\n",
       "                        age_restriction       financing_source genres  \n",
       "count                              7486                    332   6510  \n",
       "unique                                5                      3    742  \n",
       "top     «16+» - для детей старше 16 лет  Министерство культуры  драма  \n",
       "freq                               2851                    164    476  "
      ]
     },
     "execution_count": 20,
     "metadata": {},
     "output_type": "execute_result"
    }
   ],
   "source": [
    "data.describe(include='object')\n",
    "\n"
   ]
  },
  {
   "cell_type": "markdown",
   "metadata": {},
   "source": [
    "В результате, мы заметим, что общая проблема встречается почти во всех категориальных столбцах - это лишние пробелы в значениях."
   ]
  },
  {
   "cell_type": "markdown",
   "metadata": {},
   "source": [
    "Чтобы исправить это в поле 'type', мы можем использовать метод .str.strip(), который удалит пробелы с начала и конца каждого значения в столбце 'type'."
   ]
  },
  {
   "cell_type": "code",
   "execution_count": 21,
   "metadata": {},
   "outputs": [],
   "source": [
    "data['type'] = data['type'].str.strip()"
   ]
  },
  {
   "cell_type": "markdown",
   "metadata": {},
   "source": [
    "Теперь, если мы повторим вывод уникальных значений в столбце 'type', мы увидим, что пробелы удалены:"
   ]
  },
  {
   "cell_type": "code",
   "execution_count": 22,
   "metadata": {},
   "outputs": [
    {
     "name": "stdout",
     "output_type": "stream",
     "text": [
      "['Художественный' 'Анимационный' 'Прочие' 'Документальный'\n",
      " 'Научно-популярный' 'Музыкально-развлекательный']\n"
     ]
    }
   ],
   "source": [
    "print(data['type'].unique())"
   ]
  },
  {
   "cell_type": "markdown",
   "metadata": {
    "id": "XFSN5lrEgFyR"
   },
   "source": [
    "### Проверим количественные значения\n"
   ]
  },
  {
   "cell_type": "markdown",
   "metadata": {
    "id": "YbzClBxagFyS"
   },
   "source": [
    "Для проверки количественных столбцов можно воспользоваться методом .describe(), который позволяет получить основные статистические характеристики (среднее, стандартное отклонение, минимальное и максимальное значения, медиану и квартили) для каждого числового столбца. Также можно визуализировать распределение значений при помощи гистограммы или boxplot.\n"
   ]
  },
  {
   "cell_type": "code",
   "execution_count": 24,
   "metadata": {
    "scrolled": true
   },
   "outputs": [
    {
     "data": {
      "text/html": [
       "<div>\n",
       "<style scoped>\n",
       "    .dataframe tbody tr th:only-of-type {\n",
       "        vertical-align: middle;\n",
       "    }\n",
       "\n",
       "    .dataframe tbody tr th {\n",
       "        vertical-align: top;\n",
       "    }\n",
       "\n",
       "    .dataframe thead th {\n",
       "        text-align: right;\n",
       "    }\n",
       "</style>\n",
       "<table border=\"1\" class=\"dataframe\">\n",
       "  <thead>\n",
       "    <tr style=\"text-align: right;\">\n",
       "      <th></th>\n",
       "      <th>count</th>\n",
       "      <th>mean</th>\n",
       "      <th>std</th>\n",
       "      <th>min</th>\n",
       "      <th>25%</th>\n",
       "      <th>50%</th>\n",
       "      <th>75%</th>\n",
       "      <th>max</th>\n",
       "    </tr>\n",
       "  </thead>\n",
       "  <tbody>\n",
       "    <tr>\n",
       "      <th>pu_number</th>\n",
       "      <td>7486.0</td>\n",
       "      <td>1.351785e+08</td>\n",
       "      <td>3.838218e+07</td>\n",
       "      <td>0.0</td>\n",
       "      <td>112025043.0</td>\n",
       "      <td>1.210155e+08</td>\n",
       "      <td>1.240033e+08</td>\n",
       "      <td>2.310011e+08</td>\n",
       "    </tr>\n",
       "    <tr>\n",
       "      <th>refundable_support</th>\n",
       "      <td>332.0</td>\n",
       "      <td>1.186446e+07</td>\n",
       "      <td>2.491656e+07</td>\n",
       "      <td>0.0</td>\n",
       "      <td>0.0</td>\n",
       "      <td>0.000000e+00</td>\n",
       "      <td>1.500000e+07</td>\n",
       "      <td>1.800000e+08</td>\n",
       "    </tr>\n",
       "    <tr>\n",
       "      <th>nonrefundable_support</th>\n",
       "      <td>332.0</td>\n",
       "      <td>4.898099e+07</td>\n",
       "      <td>5.998012e+07</td>\n",
       "      <td>0.0</td>\n",
       "      <td>25000000.0</td>\n",
       "      <td>3.000000e+07</td>\n",
       "      <td>4.037500e+07</td>\n",
       "      <td>4.000000e+08</td>\n",
       "    </tr>\n",
       "    <tr>\n",
       "      <th>budget</th>\n",
       "      <td>332.0</td>\n",
       "      <td>1.272297e+08</td>\n",
       "      <td>1.885883e+08</td>\n",
       "      <td>0.0</td>\n",
       "      <td>42000000.0</td>\n",
       "      <td>6.864992e+07</td>\n",
       "      <td>1.419853e+08</td>\n",
       "      <td>2.305074e+09</td>\n",
       "    </tr>\n",
       "    <tr>\n",
       "      <th>ratings</th>\n",
       "      <td>6490.0</td>\n",
       "      <td>6.479245e+00</td>\n",
       "      <td>1.101665e+00</td>\n",
       "      <td>1.0</td>\n",
       "      <td>5.9</td>\n",
       "      <td>6.600000e+00</td>\n",
       "      <td>7.200000e+00</td>\n",
       "      <td>9.200000e+00</td>\n",
       "    </tr>\n",
       "    <tr>\n",
       "      <th>box_office</th>\n",
       "      <td>3158.0</td>\n",
       "      <td>7.647870e+07</td>\n",
       "      <td>2.403531e+08</td>\n",
       "      <td>0.0</td>\n",
       "      <td>86239.0</td>\n",
       "      <td>2.327988e+06</td>\n",
       "      <td>2.397967e+07</td>\n",
       "      <td>3.073569e+09</td>\n",
       "    </tr>\n",
       "  </tbody>\n",
       "</table>\n",
       "</div>"
      ],
      "text/plain": [
       "                        count          mean           std  min          25%  \\\n",
       "pu_number              7486.0  1.351785e+08  3.838218e+07  0.0  112025043.0   \n",
       "refundable_support      332.0  1.186446e+07  2.491656e+07  0.0          0.0   \n",
       "nonrefundable_support   332.0  4.898099e+07  5.998012e+07  0.0   25000000.0   \n",
       "budget                  332.0  1.272297e+08  1.885883e+08  0.0   42000000.0   \n",
       "ratings                6490.0  6.479245e+00  1.101665e+00  1.0          5.9   \n",
       "box_office             3158.0  7.647870e+07  2.403531e+08  0.0      86239.0   \n",
       "\n",
       "                                50%           75%           max  \n",
       "pu_number              1.210155e+08  1.240033e+08  2.310011e+08  \n",
       "refundable_support     0.000000e+00  1.500000e+07  1.800000e+08  \n",
       "nonrefundable_support  3.000000e+07  4.037500e+07  4.000000e+08  \n",
       "budget                 6.864992e+07  1.419853e+08  2.305074e+09  \n",
       "ratings                6.600000e+00  7.200000e+00  9.200000e+00  \n",
       "box_office             2.327988e+06  2.397967e+07  3.073569e+09  "
      ]
     },
     "execution_count": 24,
     "metadata": {},
     "output_type": "execute_result"
    }
   ],
   "source": [
    "data.describe().transpose()\n"
   ]
  },
  {
   "cell_type": "markdown",
   "metadata": {},
   "source": [
    "Есть ряд фильмов, которые получали господдержку, но в бюджете стоит 0. Посчитаем общее количество таких фильмов."
   ]
  },
  {
   "cell_type": "code",
   "execution_count": 25,
   "metadata": {
    "scrolled": true
   },
   "outputs": [
    {
     "data": {
      "text/plain": [
       "16"
      ]
     },
     "execution_count": 25,
     "metadata": {},
     "output_type": "execute_result"
    }
   ],
   "source": [
    "data[(data['budget'] == 0) & (data['nonrefundable_support'] > 0)].shape[0]\n",
    "\n",
    "\n"
   ]
  },
  {
   "cell_type": "markdown",
   "metadata": {},
   "source": [
    "Взглянем какие фильмы входят в это количество"
   ]
  },
  {
   "cell_type": "code",
   "execution_count": 26,
   "metadata": {},
   "outputs": [
    {
     "name": "stdout",
     "output_type": "stream",
     "text": [
      "2053                       14+\n",
      "2058                 Дуxless 2\n",
      "2472               Воин (2015)\n",
      "2532                   Бармен.\n",
      "2615       Савва. Сердце воина\n",
      "2684            Тряпичный союз\n",
      "2788        Срочно выйду замуж\n",
      "2874         Помню - не помню!\n",
      "3047    Любовь с ограничениями\n",
      "3565         Притяжение (2016)\n",
      "3675                  Чудо-юдо\n",
      "3739                      Мифы\n",
      "5673                     Селфи\n",
      "5806                Два хвоста\n",
      "6008        Принцесса и дракон\n",
      "6323                  Баба Яга\n",
      "6823       Большое путешествие\n",
      "Name: title, dtype: object\n"
     ]
    }
   ],
   "source": [
    "print(data.loc[data['budget'] == 0, 'title'])"
   ]
  },
  {
   "cell_type": "markdown",
   "metadata": {},
   "source": [
    "Пользуясь открытми источниками найдём и заполним пропущенные значения столбца budget."
   ]
  },
  {
   "cell_type": "code",
   "execution_count": 27,
   "metadata": {},
   "outputs": [],
   "source": [
    "budget_values = {2058: 140000000, 2472:115000000, 2532:60000000, 2615:1000000000, 3047:110000000, 3565:380000000, 3739:70000000, 5673:115000000,5806:110000000, 6008:116000000, 6323:220000000, 2788:85400000, 2053:11000000, 6823:29000000, 2874:79300000, 3675:146400000}"
   ]
  },
  {
   "cell_type": "code",
   "execution_count": 28,
   "metadata": {},
   "outputs": [],
   "source": [
    "data.update(pd.DataFrame({'budget': budget_values}))"
   ]
  },
  {
   "cell_type": "markdown",
   "metadata": {},
   "source": [
    "Удалим фильм, информацию о бюджете которого не смогли найти"
   ]
  },
  {
   "cell_type": "code",
   "execution_count": 29,
   "metadata": {},
   "outputs": [],
   "source": [
    "data = data.drop(2684)"
   ]
  },
  {
   "cell_type": "markdown",
   "metadata": {
    "id": "Eu6oWp2CgFyS"
   },
   "source": [
    "### Добавим новые столбцы\n",
    "\n",
    "\n",
    "\n"
   ]
  },
  {
   "cell_type": "code",
   "execution_count": 30,
   "metadata": {},
   "outputs": [],
   "source": [
    "#Создаём столбец с информацией о годе проката.\n",
    "data['year'] = data['show_start_date'].dt.year.astype(int)"
   ]
  },
  {
   "cell_type": "code",
   "execution_count": 31,
   "metadata": {},
   "outputs": [],
   "source": [
    "#Создаём столбец с именем и фамилией главного режиссёра\n",
    "data['director_name'] = data['director'].str.split(',').str[0].str.split(' ').str[-1] + ' ' + data['director'].str.split(',').str[0].str.split(' ').str[0]\n",
    "\n",
    "#Создаём столбец с основным жанром\n",
    "data['main_genre'] = data['genres'].str.split(',').str[0]\n"
   ]
  },
  {
   "cell_type": "code",
   "execution_count": 32,
   "metadata": {},
   "outputs": [
    {
     "data": {
      "text/html": [
       "<div>\n",
       "<style scoped>\n",
       "    .dataframe tbody tr th:only-of-type {\n",
       "        vertical-align: middle;\n",
       "    }\n",
       "\n",
       "    .dataframe tbody tr th {\n",
       "        vertical-align: top;\n",
       "    }\n",
       "\n",
       "    .dataframe thead th {\n",
       "        text-align: right;\n",
       "    }\n",
       "</style>\n",
       "<table border=\"1\" class=\"dataframe\">\n",
       "  <thead>\n",
       "    <tr style=\"text-align: right;\">\n",
       "      <th></th>\n",
       "      <th>title</th>\n",
       "      <th>pu_number</th>\n",
       "      <th>show_start_date</th>\n",
       "      <th>type</th>\n",
       "      <th>film_studio</th>\n",
       "      <th>production_country</th>\n",
       "      <th>director</th>\n",
       "      <th>producer</th>\n",
       "      <th>age_restriction</th>\n",
       "      <th>refundable_support</th>\n",
       "      <th>nonrefundable_support</th>\n",
       "      <th>budget</th>\n",
       "      <th>financing_source</th>\n",
       "      <th>ratings</th>\n",
       "      <th>genres</th>\n",
       "      <th>box_office</th>\n",
       "      <th>year</th>\n",
       "      <th>director_name</th>\n",
       "      <th>main_genre</th>\n",
       "    </tr>\n",
       "  </thead>\n",
       "  <tbody>\n",
       "    <tr>\n",
       "      <th>1775</th>\n",
       "      <td>Всё, что вы хотели знать о сексе и налогах</td>\n",
       "      <td>121007214</td>\n",
       "      <td>2014-04-17 12:00:00+00:00</td>\n",
       "      <td>Художественный</td>\n",
       "      <td>АльфаВиль Пикчерз Копенгаген, Нордиск Филм Про...</td>\n",
       "      <td>Дания</td>\n",
       "      <td>Кристофер Боэ</td>\n",
       "      <td>Тине Грев Пфейффер, Каролина Шлотер</td>\n",
       "      <td>«18+» - запрещено для детей</td>\n",
       "      <td>NaN</td>\n",
       "      <td>NaN</td>\n",
       "      <td>NaN</td>\n",
       "      <td>NaN</td>\n",
       "      <td>5.9</td>\n",
       "      <td>драма,биография</td>\n",
       "      <td>NaN</td>\n",
       "      <td>2014</td>\n",
       "      <td>Боэ Кристофер</td>\n",
       "      <td>драма</td>\n",
       "    </tr>\n",
       "    <tr>\n",
       "      <th>5626</th>\n",
       "      <td>Страсть и верность</td>\n",
       "      <td>121016417</td>\n",
       "      <td>2017-11-30 12:00:00+00:00</td>\n",
       "      <td>Художественный</td>\n",
       "      <td>Саваж Фильм, Стон Ангелс, Каап Холанд Фильм, С...</td>\n",
       "      <td>Бельгия - Нидерланды - Франция</td>\n",
       "      <td>Михаэль Р. Роскам</td>\n",
       "      <td>Питер Букэерт, Барт Ван Лангендонк, Пьер-Анж Л...</td>\n",
       "      <td>«18+» - запрещено для детей</td>\n",
       "      <td>NaN</td>\n",
       "      <td>NaN</td>\n",
       "      <td>NaN</td>\n",
       "      <td>NaN</td>\n",
       "      <td>5.7</td>\n",
       "      <td>драма,мелодрама,криминал</td>\n",
       "      <td>1925476.0</td>\n",
       "      <td>2017</td>\n",
       "      <td>Роскам Михаэль</td>\n",
       "      <td>драма</td>\n",
       "    </tr>\n",
       "    <tr>\n",
       "      <th>5430</th>\n",
       "      <td>Вторжение</td>\n",
       "      <td>124002417</td>\n",
       "      <td>2017-08-01 12:00:00+00:00</td>\n",
       "      <td>Анимационный</td>\n",
       "      <td>Баобаб Студиос</td>\n",
       "      <td>США</td>\n",
       "      <td>Эрик Дарнелл</td>\n",
       "      <td>NaN</td>\n",
       "      <td>«6+» - для детей старше 6 лет</td>\n",
       "      <td>NaN</td>\n",
       "      <td>NaN</td>\n",
       "      <td>NaN</td>\n",
       "      <td>NaN</td>\n",
       "      <td>5.7</td>\n",
       "      <td>фантастика,боевик</td>\n",
       "      <td>NaN</td>\n",
       "      <td>2017</td>\n",
       "      <td>Дарнелл Эрик</td>\n",
       "      <td>фантастика</td>\n",
       "    </tr>\n",
       "    <tr>\n",
       "      <th>2674</th>\n",
       "      <td>Вне времени (2014)</td>\n",
       "      <td>121010915</td>\n",
       "      <td>2015-05-25 12:00:00+00:00</td>\n",
       "      <td>Художественный</td>\n",
       "      <td>Корсан, Блисс Медиа, Лаймлайт Интернэшнл Медиа...</td>\n",
       "      <td>Австралия - Великобритания - Бельгия - Индия</td>\n",
       "      <td>Роланд Жоффе</td>\n",
       "      <td>Дэйл Дж. Брэдли, Л. Грант Брэдли, Пол Брюлс</td>\n",
       "      <td>«16+» - для детей старше 16 лет</td>\n",
       "      <td>NaN</td>\n",
       "      <td>NaN</td>\n",
       "      <td>NaN</td>\n",
       "      <td>NaN</td>\n",
       "      <td>5.1</td>\n",
       "      <td>фэнтези,мелодрама,приключения</td>\n",
       "      <td>4170249.0</td>\n",
       "      <td>2015</td>\n",
       "      <td>Жоффе Роланд</td>\n",
       "      <td>фэнтези</td>\n",
       "    </tr>\n",
       "    <tr>\n",
       "      <th>3999</th>\n",
       "      <td>Замерзшие души</td>\n",
       "      <td>121008310</td>\n",
       "      <td>2010-05-05 12:00:00+00:00</td>\n",
       "      <td>Художественный</td>\n",
       "      <td>Самуэль Голдвин Филмз, Ту Лейн Пикчерз, Виннер...</td>\n",
       "      <td>США-Франция</td>\n",
       "      <td>Софи Бартез</td>\n",
       "      <td>Дэниэл Кэри, Элизабет Джаматти, Джон Хинански</td>\n",
       "      <td>«16+» - для детей старше 16 лет</td>\n",
       "      <td>NaN</td>\n",
       "      <td>NaN</td>\n",
       "      <td>NaN</td>\n",
       "      <td>NaN</td>\n",
       "      <td>6.5</td>\n",
       "      <td>драма,комедия</td>\n",
       "      <td>NaN</td>\n",
       "      <td>2010</td>\n",
       "      <td>Бартез Софи</td>\n",
       "      <td>драма</td>\n",
       "    </tr>\n",
       "  </tbody>\n",
       "</table>\n",
       "</div>"
      ],
      "text/plain": [
       "                                           title  pu_number  \\\n",
       "1775  Всё, что вы хотели знать о сексе и налогах  121007214   \n",
       "5626                          Страсть и верность  121016417   \n",
       "5430                                   Вторжение  124002417   \n",
       "2674                          Вне времени (2014)  121010915   \n",
       "3999                              Замерзшие души  121008310   \n",
       "\n",
       "               show_start_date            type  \\\n",
       "1775 2014-04-17 12:00:00+00:00  Художественный   \n",
       "5626 2017-11-30 12:00:00+00:00  Художественный   \n",
       "5430 2017-08-01 12:00:00+00:00    Анимационный   \n",
       "2674 2015-05-25 12:00:00+00:00  Художественный   \n",
       "3999 2010-05-05 12:00:00+00:00  Художественный   \n",
       "\n",
       "                                            film_studio  \\\n",
       "1775  АльфаВиль Пикчерз Копенгаген, Нордиск Филм Про...   \n",
       "5626  Саваж Фильм, Стон Ангелс, Каап Холанд Фильм, С...   \n",
       "5430                                     Баобаб Студиос   \n",
       "2674  Корсан, Блисс Медиа, Лаймлайт Интернэшнл Медиа...   \n",
       "3999  Самуэль Голдвин Филмз, Ту Лейн Пикчерз, Виннер...   \n",
       "\n",
       "                                production_country           director  \\\n",
       "1775                                         Дания      Кристофер Боэ   \n",
       "5626                Бельгия - Нидерланды - Франция  Михаэль Р. Роскам   \n",
       "5430                                           США       Эрик Дарнелл   \n",
       "2674  Австралия - Великобритания - Бельгия - Индия       Роланд Жоффе   \n",
       "3999                                   США-Франция        Софи Бартез   \n",
       "\n",
       "                                               producer  \\\n",
       "1775                Тине Грев Пфейффер, Каролина Шлотер   \n",
       "5626  Питер Букэерт, Барт Ван Лангендонк, Пьер-Анж Л...   \n",
       "5430                                                NaN   \n",
       "2674        Дэйл Дж. Брэдли, Л. Грант Брэдли, Пол Брюлс   \n",
       "3999      Дэниэл Кэри, Элизабет Джаматти, Джон Хинански   \n",
       "\n",
       "                      age_restriction  refundable_support  \\\n",
       "1775      «18+» - запрещено для детей                 NaN   \n",
       "5626      «18+» - запрещено для детей                 NaN   \n",
       "5430    «6+» - для детей старше 6 лет                 NaN   \n",
       "2674  «16+» - для детей старше 16 лет                 NaN   \n",
       "3999  «16+» - для детей старше 16 лет                 NaN   \n",
       "\n",
       "      nonrefundable_support  budget financing_source  ratings  \\\n",
       "1775                    NaN     NaN              NaN      5.9   \n",
       "5626                    NaN     NaN              NaN      5.7   \n",
       "5430                    NaN     NaN              NaN      5.7   \n",
       "2674                    NaN     NaN              NaN      5.1   \n",
       "3999                    NaN     NaN              NaN      6.5   \n",
       "\n",
       "                             genres  box_office  year   director_name  \\\n",
       "1775                драма,биография         NaN  2014   Боэ Кристофер   \n",
       "5626       драма,мелодрама,криминал   1925476.0  2017  Роскам Михаэль   \n",
       "5430              фантастика,боевик         NaN  2017    Дарнелл Эрик   \n",
       "2674  фэнтези,мелодрама,приключения   4170249.0  2015    Жоффе Роланд   \n",
       "3999                  драма,комедия         NaN  2010     Бартез Софи   \n",
       "\n",
       "      main_genre  \n",
       "1775       драма  \n",
       "5626       драма  \n",
       "5430  фантастика  \n",
       "2674     фэнтези  \n",
       "3999       драма  "
      ]
     },
     "execution_count": 32,
     "metadata": {},
     "output_type": "execute_result"
    }
   ],
   "source": [
    "data.sample(n=5)"
   ]
  },
  {
   "cell_type": "code",
   "execution_count": 33,
   "metadata": {},
   "outputs": [
    {
     "name": "stdout",
     "output_type": "stream",
     "text": [
      "Средняя доля государственной поддержки в бюджете фильма: 53.83%\n"
     ]
    }
   ],
   "source": [
    "#Создаем столбец с долей господдержки в бюджете фильма\n",
    "data['share_of_support'] = ((data['refundable_support'] + data['nonrefundable_support'])/data['budget'])\n",
    "\n",
    "#Вычисляем среднюю долю господдержки в бюджете фильма\n",
    "mean_share_of_support = data['share_of_support'].mean()\n",
    "\n",
    "print(f\"Средняя доля государственной поддержки в бюджете фильма: {mean_share_of_support:.2%}\")\n",
    "\n"
   ]
  },
  {
   "cell_type": "code",
   "execution_count": 34,
   "metadata": {},
   "outputs": [],
   "source": [
    "#Посчитаем общее количество финансирования от государства.\n",
    "data['total_support'] = data['refundable_support'] + data['nonrefundable_support']"
   ]
  },
  {
   "cell_type": "markdown",
   "metadata": {},
   "source": [
    "После выполнения этого кода в датафрейме merged_df появятся два новых столбца: total_support, содержащий общую сумму государственной поддержки, и share_of_support, содержащий долю государственной поддержки от общего бюджета фильма.\n"
   ]
  },
  {
   "cell_type": "code",
   "execution_count": 35,
   "metadata": {},
   "outputs": [
    {
     "data": {
      "text/html": [
       "<div>\n",
       "<style scoped>\n",
       "    .dataframe tbody tr th:only-of-type {\n",
       "        vertical-align: middle;\n",
       "    }\n",
       "\n",
       "    .dataframe tbody tr th {\n",
       "        vertical-align: top;\n",
       "    }\n",
       "\n",
       "    .dataframe thead th {\n",
       "        text-align: right;\n",
       "    }\n",
       "</style>\n",
       "<table border=\"1\" class=\"dataframe\">\n",
       "  <thead>\n",
       "    <tr style=\"text-align: right;\">\n",
       "      <th></th>\n",
       "      <th>title</th>\n",
       "      <th>pu_number</th>\n",
       "      <th>show_start_date</th>\n",
       "      <th>type</th>\n",
       "      <th>film_studio</th>\n",
       "      <th>production_country</th>\n",
       "      <th>director</th>\n",
       "      <th>producer</th>\n",
       "      <th>age_restriction</th>\n",
       "      <th>refundable_support</th>\n",
       "      <th>nonrefundable_support</th>\n",
       "      <th>budget</th>\n",
       "      <th>financing_source</th>\n",
       "      <th>ratings</th>\n",
       "      <th>genres</th>\n",
       "      <th>box_office</th>\n",
       "      <th>year</th>\n",
       "      <th>director_name</th>\n",
       "      <th>main_genre</th>\n",
       "      <th>share_of_support</th>\n",
       "      <th>total_support</th>\n",
       "    </tr>\n",
       "  </thead>\n",
       "  <tbody>\n",
       "    <tr>\n",
       "      <th>111</th>\n",
       "      <td>Гарри Поттер и тайная комната /По роману Дж.К....</td>\n",
       "      <td>121026016</td>\n",
       "      <td>2016-09-23 12:00:00+00:00</td>\n",
       "      <td>Художественный</td>\n",
       "      <td>Уорнер Бразерс, Хедэй Филмз/1492 Пикчерз</td>\n",
       "      <td>США</td>\n",
       "      <td>Крис Коламбус</td>\n",
       "      <td>Дейвид Хейман</td>\n",
       "      <td>«12+» - для детей старше 12 лет</td>\n",
       "      <td>NaN</td>\n",
       "      <td>NaN</td>\n",
       "      <td>NaN</td>\n",
       "      <td>NaN</td>\n",
       "      <td>8.0</td>\n",
       "      <td>фэнтези,приключения,семейный</td>\n",
       "      <td>1.093810e+06</td>\n",
       "      <td>2016</td>\n",
       "      <td>Коламбус Крис</td>\n",
       "      <td>фэнтези</td>\n",
       "      <td>NaN</td>\n",
       "      <td>NaN</td>\n",
       "    </tr>\n",
       "    <tr>\n",
       "      <th>2569</th>\n",
       "      <td>Единичка.</td>\n",
       "      <td>111004515</td>\n",
       "      <td>2015-04-15 12:00:00+00:00</td>\n",
       "      <td>Художественный</td>\n",
       "      <td>ООО \"Кинокомпания МАРС-фильм\" по заказу ООО \"М...</td>\n",
       "      <td>Россия</td>\n",
       "      <td>К.Белевич</td>\n",
       "      <td>Р.Дишдишян, ООО \"ММЕ\", ООО \"Беркана\"</td>\n",
       "      <td>«12+» - для детей старше 12 лет</td>\n",
       "      <td>0.0</td>\n",
       "      <td>50000000.0</td>\n",
       "      <td>80324137.0</td>\n",
       "      <td>Министерство культуры</td>\n",
       "      <td>6.7</td>\n",
       "      <td>военный,драма</td>\n",
       "      <td>2.220980e+06</td>\n",
       "      <td>2015</td>\n",
       "      <td>К.Белевич К.Белевич</td>\n",
       "      <td>военный</td>\n",
       "      <td>0.622478</td>\n",
       "      <td>50000000.0</td>\n",
       "    </tr>\n",
       "    <tr>\n",
       "      <th>5667</th>\n",
       "      <td>Астрал 4: Последний ключ</td>\n",
       "      <td>121028517</td>\n",
       "      <td>2018-01-12 12:00:00+00:00</td>\n",
       "      <td>Художественный</td>\n",
       "      <td>Блумхаус Продакшнз, Интертейнмент Уан, ЭльСтар...</td>\n",
       "      <td>США</td>\n",
       "      <td>Адам Робител</td>\n",
       "      <td>Джейсон Блум, Джеймс Вон, Орен Пели</td>\n",
       "      <td>«16+» - для детей старше 16 лет</td>\n",
       "      <td>NaN</td>\n",
       "      <td>NaN</td>\n",
       "      <td>NaN</td>\n",
       "      <td>NaN</td>\n",
       "      <td>5.6</td>\n",
       "      <td>ужасы,триллер,детектив</td>\n",
       "      <td>3.706814e+08</td>\n",
       "      <td>2018</td>\n",
       "      <td>Робител Адам</td>\n",
       "      <td>ужасы</td>\n",
       "      <td>NaN</td>\n",
       "      <td>NaN</td>\n",
       "    </tr>\n",
       "    <tr>\n",
       "      <th>873</th>\n",
       "      <td>Родительский беспредел</td>\n",
       "      <td>221043213</td>\n",
       "      <td>2013-11-05 12:00:00+00:00</td>\n",
       "      <td>Художественный</td>\n",
       "      <td>Чернин Интертейнмент, Уолден Медиа, ХХ век Фокс</td>\n",
       "      <td>США</td>\n",
       "      <td>Энди Фикмен</td>\n",
       "      <td>Билли Кристал, Саманта Спрешер, ПИтер Чернин</td>\n",
       "      <td>«6+» - для детей старше 6 лет</td>\n",
       "      <td>NaN</td>\n",
       "      <td>NaN</td>\n",
       "      <td>NaN</td>\n",
       "      <td>NaN</td>\n",
       "      <td>6.4</td>\n",
       "      <td>комедия,семейный</td>\n",
       "      <td>NaN</td>\n",
       "      <td>2013</td>\n",
       "      <td>Фикмен Энди</td>\n",
       "      <td>комедия</td>\n",
       "      <td>NaN</td>\n",
       "      <td>NaN</td>\n",
       "    </tr>\n",
       "    <tr>\n",
       "      <th>1410</th>\n",
       "      <td>Час призраков</td>\n",
       "      <td>121002314</td>\n",
       "      <td>2014-02-07 12:00:00+00:00</td>\n",
       "      <td>Художественный</td>\n",
       "      <td>Файв Стар Продакшн</td>\n",
       "      <td>Таиланд</td>\n",
       "      <td>Иссара Нади, Кирати Нак-Интанон, Патчанон Тумд...</td>\n",
       "      <td>Вичиен Нак-Интанон, Сирават Нак-Интанон, Киатк...</td>\n",
       "      <td>«18+» - запрещено для детей</td>\n",
       "      <td>NaN</td>\n",
       "      <td>NaN</td>\n",
       "      <td>NaN</td>\n",
       "      <td>NaN</td>\n",
       "      <td>4.9</td>\n",
       "      <td>ужасы</td>\n",
       "      <td>NaN</td>\n",
       "      <td>2014</td>\n",
       "      <td>Нади Иссара</td>\n",
       "      <td>ужасы</td>\n",
       "      <td>NaN</td>\n",
       "      <td>NaN</td>\n",
       "    </tr>\n",
       "  </tbody>\n",
       "</table>\n",
       "</div>"
      ],
      "text/plain": [
       "                                                  title  pu_number  \\\n",
       "111   Гарри Поттер и тайная комната /По роману Дж.К....  121026016   \n",
       "2569                                          Единичка.  111004515   \n",
       "5667                          Астрал 4: Последний ключ   121028517   \n",
       "873                              Родительский беспредел  221043213   \n",
       "1410                                      Час призраков  121002314   \n",
       "\n",
       "               show_start_date            type  \\\n",
       "111  2016-09-23 12:00:00+00:00  Художественный   \n",
       "2569 2015-04-15 12:00:00+00:00  Художественный   \n",
       "5667 2018-01-12 12:00:00+00:00  Художественный   \n",
       "873  2013-11-05 12:00:00+00:00  Художественный   \n",
       "1410 2014-02-07 12:00:00+00:00  Художественный   \n",
       "\n",
       "                                            film_studio production_country  \\\n",
       "111            Уорнер Бразерс, Хедэй Филмз/1492 Пикчерз                США   \n",
       "2569  ООО \"Кинокомпания МАРС-фильм\" по заказу ООО \"М...             Россия   \n",
       "5667  Блумхаус Продакшнз, Интертейнмент Уан, ЭльСтар...                США   \n",
       "873     Чернин Интертейнмент, Уолден Медиа, ХХ век Фокс                США   \n",
       "1410                                 Файв Стар Продакшн            Таиланд   \n",
       "\n",
       "                                               director  \\\n",
       "111                                       Крис Коламбус   \n",
       "2569                                          К.Белевич   \n",
       "5667                                       Адам Робител   \n",
       "873                                         Энди Фикмен   \n",
       "1410  Иссара Нади, Кирати Нак-Интанон, Патчанон Тумд...   \n",
       "\n",
       "                                               producer  \\\n",
       "111                                       Дейвид Хейман   \n",
       "2569               Р.Дишдишян, ООО \"ММЕ\", ООО \"Беркана\"   \n",
       "5667                Джейсон Блум, Джеймс Вон, Орен Пели   \n",
       "873        Билли Кристал, Саманта Спрешер, ПИтер Чернин   \n",
       "1410  Вичиен Нак-Интанон, Сирават Нак-Интанон, Киатк...   \n",
       "\n",
       "                      age_restriction  refundable_support  \\\n",
       "111   «12+» - для детей старше 12 лет                 NaN   \n",
       "2569  «12+» - для детей старше 12 лет                 0.0   \n",
       "5667  «16+» - для детей старше 16 лет                 NaN   \n",
       "873     «6+» - для детей старше 6 лет                 NaN   \n",
       "1410      «18+» - запрещено для детей                 NaN   \n",
       "\n",
       "      nonrefundable_support      budget       financing_source  ratings  \\\n",
       "111                     NaN         NaN                    NaN      8.0   \n",
       "2569             50000000.0  80324137.0  Министерство культуры      6.7   \n",
       "5667                    NaN         NaN                    NaN      5.6   \n",
       "873                     NaN         NaN                    NaN      6.4   \n",
       "1410                    NaN         NaN                    NaN      4.9   \n",
       "\n",
       "                            genres    box_office  year        director_name  \\\n",
       "111   фэнтези,приключения,семейный  1.093810e+06  2016        Коламбус Крис   \n",
       "2569                 военный,драма  2.220980e+06  2015  К.Белевич К.Белевич   \n",
       "5667        ужасы,триллер,детектив  3.706814e+08  2018         Робител Адам   \n",
       "873               комедия,семейный           NaN  2013          Фикмен Энди   \n",
       "1410                         ужасы           NaN  2014          Нади Иссара   \n",
       "\n",
       "     main_genre  share_of_support  total_support  \n",
       "111     фэнтези               NaN            NaN  \n",
       "2569    военный          0.622478     50000000.0  \n",
       "5667      ужасы               NaN            NaN  \n",
       "873     комедия               NaN            NaN  \n",
       "1410      ужасы               NaN            NaN  "
      ]
     },
     "execution_count": 35,
     "metadata": {},
     "output_type": "execute_result"
    }
   ],
   "source": [
    "data.sample(n=5)"
   ]
  },
  {
   "cell_type": "code",
   "execution_count": 34,
   "metadata": {},
   "outputs": [
    {
     "data": {
      "text/plain": [
       "Index(['title', 'pu_number', 'show_start_date', 'type', 'film_studio',\n",
       "       'production_country', 'director', 'producer', 'age_restriction',\n",
       "       'refundable_support', 'nonrefundable_support', 'budget',\n",
       "       'financing_source', 'ratings', 'genres', 'box_office', 'year',\n",
       "       'director_name', 'main_genre', 'share_of_support', 'total_support'],\n",
       "      dtype='object')"
      ]
     },
     "execution_count": 34,
     "metadata": {},
     "output_type": "execute_result"
    }
   ],
   "source": [
    "data.columns"
   ]
  },
  {
   "cell_type": "markdown",
   "metadata": {
    "id": "6t4EukPLgFyV"
   },
   "source": [
    "## Проведём исследовательский анализ данных\n"
   ]
  },
  {
   "cell_type": "markdown",
   "metadata": {
    "id": "vAH8WCzugFyV"
   },
   "source": [
    "### Посмотрим, сколько фильмов выходило в прокат каждый год. "
   ]
  },
  {
   "cell_type": "code",
   "execution_count": 38,
   "metadata": {},
   "outputs": [
    {
     "data": {
      "image/png": "[encoded data removed]",
      "text/plain": [
       "<Figure size 720x432 with 1 Axes>"
      ]
     },
     "metadata": {
      "needs_background": "light"
     },
     "output_type": "display_data"
    }
   ],
   "source": [
    "#Сгруппируем данные по году премьеры и подсчитаем количество фильмов\n",
    "movies_per_year = data.groupby('year')['title'].count()\n",
    "\n",
    "#Создадим график\n",
    "fig, ax = plt.subplots(figsize=(10, 6))\n",
    "ax.bar(movies_per_year.index, movies_per_year.values, width=0.5, color='lightblue')\n",
    "\n",
    "#Настроим оси и заголовок\n",
    "ax.set_xlabel('Год выхода в прокат', fontsize=12)\n",
    "ax.set_ylabel('Количество фильмов', fontsize=12)\n",
    "ax.set_title('Количество фильмов, вышедших в прокат каждый год', fontsize=14)\n",
    "\n",
    "#Показываем график\n",
    "plt.show()"
   ]
  },
  {
   "cell_type": "code",
   "execution_count": 39,
   "metadata": {},
   "outputs": [
    {
     "data": {
      "image/png": "[encoded data removed]",
      "text/plain": [
       "<Figure size 1280x800 with 1 Axes>"
      ]
     },
     "metadata": {
      "needs_background": "light"
     },
     "output_type": "display_data"
    }
   ],
   "source": [
    "# Создадим график\n",
    "plt.figure(figsize=(16,10), dpi= 80)\n",
    "sns.kdeplot(data.loc[data['box_office'].isna(), \"year\"], shade=True, color=\"g\", label=\"Фильмы без информации о прокате\", alpha=.7)\n",
    "sns.kdeplot(data.loc[~data['box_office'].isna(), \"year\"], shade=True, color=\"deeppink\", label=\"Фильмы с информацией о прокате\", alpha=.7)\n",
    "\n",
    "\n",
    "# Показываем график\n",
    "plt.title('Распределения фильмов по году выхода в прокат и наличию информации о прокате', fontsize=16)\n",
    "plt.xlabel('Год выхода в прокат', fontsize=16)\n",
    "plt.ylabel('Плотность распределения', fontsize=16)\n",
    "plt.legend()\n",
    "plt.show()"
   ]
  },
  {
   "cell_type": "code",
   "execution_count": 40,
   "metadata": {},
   "outputs": [
    {
     "name": "stdout",
     "output_type": "stream",
     "text": [
      "Доля фильмов с информацией о прокате в кинотеатрах: 42.18%\n"
     ]
    }
   ],
   "source": [
    "total_movies = len(data)\n",
    "movies_with_boxoffice = data['box_office'].count()\n",
    "proportion = movies_with_boxoffice / total_movies * 100\n",
    "\n",
    "print(f\"Доля фильмов с информацией о прокате в кинотеатрах: {proportion:.2f}%\")\n",
    "\n"
   ]
  },
  {
   "cell_type": "code",
   "execution_count": 42,
   "metadata": {},
   "outputs": [
    {
     "data": {
      "image/png": "[encoded data removed]",
      "text/plain": [
       "<Figure size 960x600 with 1 Axes>"
      ]
     },
     "metadata": {
      "needs_background": "light"
     },
     "output_type": "display_data"
    }
   ],
   "source": [
    "#Считаем долю фильмов с данными по прокату по годам\n",
    "movies_with_box_office = data[~data['box_office'].isna()]\n",
    "movies_total = data.groupby('year').size()\n",
    "movies_with_box_office_total = movies_with_box_office.groupby('year').size()\n",
    "share_movies_with_box_office = movies_with_box_office_total / movies_total\n",
    "\n",
    "#Рисуем график\n",
    "plt.figure(figsize=(16, 10), dpi=60)\n",
    "sns.lineplot(data=share_movies_with_box_office, color='dodgerblue')\n",
    "\n",
    "#Добавляем декорации\n",
    "plt.title('Доля фильмов с указанной информацией о прокате в кинотеатрах', fontsize=22)\n",
    "plt.xlabel('Год выхода в прокат', labelpad=10, fontsize=12)\n",
    "plt.xticks(fontsize=16)\n",
    "plt.yticks(fontsize=16)\n",
    "plt.grid(alpha=1)\n",
    "plt.show()"
   ]
  },
  {
   "cell_type": "markdown",
   "metadata": {
    "id": "BEOdcIrIgFyW"
   },
   "source": [
    "### Изучим, как менялась динамика проката по годам"
   ]
  },
  {
   "cell_type": "code",
   "execution_count": 43,
   "metadata": {
    "id": "tfEhofYvgFyX",
    "scrolled": true
   },
   "outputs": [
    {
     "name": "stdout",
     "output_type": "stream",
     "text": [
      "Сумма бокс-офиса была минимальной в 2010 году: 2,428,654.00 млн. долларов\n",
      "Сумма бокс-офиса была максимальной в 2018 году: 49,668,403,134.32 млн. долларов\n"
     ]
    },
    {
     "data": {
      "image/png": "[encoded data removed]",
      "text/plain": [
       "<Figure size 1280x800 with 1 Axes>"
      ]
     },
     "metadata": {
      "needs_background": "light"
     },
     "output_type": "display_data"
    }
   ],
   "source": [
    "# группировка данных по году и суммирование бокс-офиса\n",
    "box_office_by_year = data.groupby('year')['box_office'].sum()\n",
    "\n",
    "# рисуем график изменения бокс-офиса по годам\n",
    "plt.figure(figsize=(16, 10), dpi=80)\n",
    "sns.lineplot(data=box_office_by_year, color='dodgerblue')\n",
    "\n",
    "# добавляем декорации\n",
    "plt.title('Изменение суммы бокс-офиса по годам', fontsize=22)\n",
    "plt.xlabel('Год', labelpad=10, fontsize=12)\n",
    "plt.ylabel('Сумма бокс-офиса, млн. долларов', labelpad=10, fontsize=12)\n",
    "plt.xticks(fontsize=10)\n",
    "plt.yticks(fontsize=10)\n",
    "plt.grid(True)\n",
    "\n",
    "# находим годы с минимальным и максимальным бокс-офисом\n",
    "min_year = box_office_by_year.idxmin()\n",
    "max_year = box_office_by_year.idxmax()\n",
    "\n",
    "print(f'Сумма бокс-офиса была минимальной в {min_year} году: {box_office_by_year[min_year]:,.2f} млн. долларов')\n",
    "print(f'Сумма бокс-офиса была максимальной в {max_year} году: {box_office_by_year[max_year]:,.2f} млн. долларов')\n"
   ]
  },
  {
   "cell_type": "code",
   "execution_count": 44,
   "metadata": {},
   "outputs": [
    {
     "name": "stdout",
     "output_type": "stream",
     "text": [
      "              mean       median\n",
      "        box_office   box_office\n",
      "year                           \n",
      "2010  2.313004e+04     1700.000\n",
      "2011  1.293832e+05     3000.000\n",
      "2012  5.433924e+04     5660.000\n",
      "2013  1.619549e+05     3522.500\n",
      "2014  2.668442e+07    18160.000\n",
      "2015  8.511941e+07  4946745.450\n",
      "2016  9.100057e+07  3846679.410\n",
      "2017  1.360328e+08  9968340.000\n",
      "2018  1.045651e+08  8891102.210\n",
      "2019  9.136926e+07  4627798.345\n"
     ]
    }
   ],
   "source": [
    "pivot_data = data.pivot_table(index='year', values='box_office', aggfunc=['mean', 'median'])\n",
    "print(pivot_data)"
   ]
  },
  {
   "cell_type": "code",
   "execution_count": 41,
   "metadata": {},
   "outputs": [
    {
     "data": {
      "text/plain": [
       "<AxesSubplot:title={'center':'средняя и медианная сумма сборов по годам'}, xlabel='year'>"
      ]
     },
     "execution_count": 41,
     "metadata": {},
     "output_type": "execute_result"
    },
    {
     "data": {
      "image/png": "[encoded data removed]",
      "text/plain": [
       "<Figure size 432x288 with 1 Axes>"
      ]
     },
     "metadata": {
      "needs_background": "light"
     },
     "output_type": "display_data"
    }
   ],
   "source": [
    "pivot_data.plot(title='средняя и медианная сумма сборов по годам', kind='line', y=['median', 'mean'])"
   ]
  },
  {
   "cell_type": "markdown",
   "metadata": {
    "id": "G-7qS-N-gFyY"
   },
   "source": [
    "### Посчитаем среднюю и медианную сумму сборов для каждого года."
   ]
  },
  {
   "cell_type": "code",
   "execution_count": 45,
   "metadata": {
    "id": "jmp-rgg9gFyY",
    "scrolled": true
   },
   "outputs": [
    {
     "name": "stdout",
     "output_type": "stream",
     "text": [
      "              mean       median\n",
      "year                           \n",
      "2010  2.313004e+04     1700.000\n",
      "2011  1.293832e+05     3000.000\n",
      "2012  5.433924e+04     5660.000\n",
      "2013  1.619549e+05     3522.500\n",
      "2014  2.668442e+07    18160.000\n",
      "2015  8.511941e+07  4946745.450\n",
      "2016  9.100057e+07  3846679.410\n",
      "2017  1.360328e+08  9968340.000\n",
      "2018  1.045651e+08  8891102.210\n",
      "2019  9.136926e+07  4627798.345\n"
     ]
    },
    {
     "data": {
      "text/plain": [
       "array([[<AxesSubplot:title={'center':'mean'}>,\n",
       "        <AxesSubplot:title={'center':'median'}>]], dtype=object)"
      ]
     },
     "execution_count": 45,
     "metadata": {},
     "output_type": "execute_result"
    },
    {
     "data": {
      "image/png": "[encoded data removed]",
      "text/plain": [
       "<Figure size 432x288 with 2 Axes>"
      ]
     },
     "metadata": {
      "needs_background": "light"
     },
     "output_type": "display_data"
    }
   ],
   "source": [
    "revenue_by_year = data.groupby('year')['box_office'].agg(['mean', 'median'])\n",
    "print(revenue_by_year)\n",
    "revenue_by_year.hist()\n",
    "\n",
    "\n",
    "\n"
   ]
  },
  {
   "cell_type": "markdown",
   "metadata": {
    "id": "Ok89WFwJgFyZ"
   },
   "source": [
    "### Определим, влияет ли возрастное ограничение аудитории («6+», «12+», «16+», «18+» и т. д.) на сборы фильма в прокате в период с 2015 по 2019 год?"
   ]
  },
  {
   "cell_type": "code",
   "execution_count": 46,
   "metadata": {
    "id": "jsSbEqfjgFya",
    "scrolled": true
   },
   "outputs": [
    {
     "name": "stdout",
     "output_type": "stream",
     "text": [
      "year                                            2015          2016  \\\n",
      "age_restriction                                                      \n",
      "«0+» - для любой зрительской аудитории  9.719348e+06  3.664118e+06   \n",
      "«12+» - для детей старше 12 лет         1.865217e+08  1.488347e+08   \n",
      "«16+» - для детей старше 16 лет         6.766739e+07  9.156345e+07   \n",
      "«18+» - запрещено для детей             4.145306e+07  4.499291e+07   \n",
      "«6+» - для детей старше 6 лет           1.641849e+08  1.721878e+08   \n",
      "\n",
      "year                                            2017          2018  \\\n",
      "age_restriction                                                      \n",
      "«0+» - для любой зрительской аудитории  7.653298e+07  6.489800e+06   \n",
      "«12+» - для детей старше 12 лет         1.914982e+08  2.129447e+08   \n",
      "«16+» - для детей старше 16 лет         1.549177e+08  1.057923e+08   \n",
      "«18+» - запрещено для детей             6.565643e+07  4.893903e+07   \n",
      "«6+» - для детей старше 6 лет           2.685809e+08  1.486026e+08   \n",
      "\n",
      "year                                            2019  \n",
      "age_restriction                                       \n",
      "«0+» - для любой зрительской аудитории  5.915356e+06  \n",
      "«12+» - для детей старше 12 лет         1.491788e+08  \n",
      "«16+» - для детей старше 16 лет         7.164842e+07  \n",
      "«18+» - запрещено для детей             5.531036e+07  \n",
      "«6+» - для детей старше 6 лет           1.586734e+08  \n"
     ]
    }
   ],
   "source": [
    "# Фильтруем данные по нужному периоду\n",
    "period_start = '2015-01-01'\n",
    "period_end = '2019-12-31'\n",
    "movies = data[(data['show_start_date'] >= period_start) & (data['show_start_date'] <= period_end)]\n",
    "\n",
    "# Строим сводную таблицу\n",
    "pivot_table = pd.pivot_table(movies, values='box_office', index='age_restriction', columns='year', aggfunc='mean')\n",
    "\n",
    "# Выводим таблицу на экран\n",
    "print(pivot_table)\n"
   ]
  },
  {
   "cell_type": "code",
   "execution_count": 47,
   "metadata": {},
   "outputs": [
    {
     "data": {
      "image/png": "[encoded data removed]",
      "text/plain": [
       "<Figure size 1080x432 with 1 Axes>"
      ]
     },
     "metadata": {
      "needs_background": "light"
     },
     "output_type": "display_data"
    }
   ],
   "source": [
    "# Построение графиков для каждого возрастного ограничения\n",
    "plt.figure(figsize=(15, 6))\n",
    "for age_restriction in pivot_table.index:\n",
    "    plt.plot(pivot_table.columns, pivot_table.loc[age_restriction], label=str(age_restriction))\n",
    "\n",
    "# Настройка осей и легенды\n",
    "plt.grid(True)\n",
    "plt.xlabel('Год')\n",
    "plt.ylabel('Средние сборы в прокате')\n",
    "plt.title('Средние сборы фильмов в прокате по возрастному ограничению за период 2015-2019')\n",
    "plt.legend()\n",
    "\n",
    "# Отображение графика\n",
    "\n",
    "plt.show()"
   ]
  },
  {
   "cell_type": "code",
   "execution_count": 48,
   "metadata": {},
   "outputs": [
    {
     "name": "stdout",
     "output_type": "stream",
     "text": [
      "                                          box_office\n",
      "age_restriction                                     \n",
      "«16+» - для детей старше 16 лет         7.658367e+10\n",
      "«12+» - для детей старше 12 лет         6.322559e+10\n",
      "«6+» - для детей старше 6 лет           5.753073e+10\n",
      "«18+» - запрещено для детей             4.297277e+10\n",
      "«0+» - для любой зрительской аудитории  1.205004e+09\n"
     ]
    }
   ],
   "source": [
    "# Сводная таблица суммарных сборов по возрастным ограничениям\n",
    "pivot_table = pd.pivot_table(data, values='box_office', index='age_restriction', aggfunc='sum')\n",
    "\n",
    "# Сортировка по убыванию суммы сборов\n",
    "pivot_table = pivot_table.sort_values(by='box_office', ascending=False)\n",
    "\n",
    "# Вывод результатов\n",
    "print(pivot_table)\n"
   ]
  },
  {
   "cell_type": "code",
   "execution_count": 49,
   "metadata": {},
   "outputs": [
    {
     "data": {
      "image/png": "[encoded data removed]",
      "text/plain": [
       "<Figure size 1440x432 with 1 Axes>"
      ]
     },
     "metadata": {
      "needs_background": "light"
     },
     "output_type": "display_data"
    }
   ],
   "source": [
    "#Подсчет количества фильмов для каждого возрастного ограничения\n",
    "age_counts = data['age_restriction'].value_counts()\n",
    "\n",
    "#Построение линейной гистограммы\n",
    "plt.figure(figsize=(20, 6))\n",
    "plt.plot(age_counts.index, age_counts.values)\n",
    "\n",
    "#Настройка осей и заголовка\n",
    "plt.grid(True)\n",
    "plt.xlabel('Возрастное ограничение')\n",
    "plt.ylabel('Количество фильмов')\n",
    "plt.title('Распределение фильмов по возрастным ограничениям')\n",
    "\n",
    "#Отображение графика\n",
    "plt.show()\n"
   ]
  },
  {
   "cell_type": "markdown",
   "metadata": {},
   "source": [
    "Картина может меняться в зависимости от года. Например, в разные годы могут выходить фильмы с разными возрастными ограничениями, что может сказаться на сборах в прокате в каждой возрастной категории. Также могут меняться предпочтения зрителей и тренды в кинематографе, что также может влиять на сборы фильмов с разными возрастными ограничениями."
   ]
  },
  {
   "cell_type": "markdown",
   "metadata": {},
   "source": [
    "____"
   ]
  },
  {
   "cell_type": "markdown",
   "metadata": {},
   "source": [
    "_____"
   ]
  },
  {
   "cell_type": "markdown",
   "metadata": {
    "id": "l_Kg6Ku4gFya"
   },
   "source": [
    "## Исследуем фильмы, которые получили государственную поддержку"
   ]
  },
  {
   "cell_type": "markdown",
   "metadata": {},
   "source": [
    "### Сколько выделяют средств на поддержку кино?\n"
   ]
  },
  {
   "cell_type": "markdown",
   "metadata": {},
   "source": [
    "Для начала посмотрим общую картину и построим график распределения по годам выделенных средств на поддержку кино:"
   ]
  },
  {
   "cell_type": "code",
   "execution_count": 50,
   "metadata": {
    "scrolled": false
   },
   "outputs": [
    {
     "data": {
      "image/png": "[encoded data removed]",
      "text/plain": [
       "<Figure size 432x288 with 1 Axes>"
      ]
     },
     "metadata": {
      "needs_background": "light"
     },
     "output_type": "display_data"
    }
   ],
   "source": [
    "#Группируем данные по годам и суммируем выделенные средства\n",
    "support_by_year = data.groupby('year')['total_support'].sum()\n",
    "\n",
    "#Построим график\n",
    "plt.plot(support_by_year.index, support_by_year.values)\n",
    "plt.xlabel('Год')\n",
    "plt.ylabel('Средства на поддержку кино (млн. руб.)')\n",
    "plt.show()\n",
    "\n"
   ]
  },
  {
   "cell_type": "markdown",
   "metadata": {},
   "source": [
    "Как видим, распределение неоднородное: в некоторые годы выделенных средств было много, в другие годы — мало. Например, в 2012 году было выделено почти 14 млрд. рублей, а в 2020 году — всего 1 млрд. рублей."
   ]
  },
  {
   "cell_type": "code",
   "execution_count": 51,
   "metadata": {},
   "outputs": [
    {
     "name": "stdout",
     "output_type": "stream",
     "text": [
      "Средняя сумма поддержки кино в год: 2014168831.20 млн. руб.\n"
     ]
    }
   ],
   "source": [
    "mean_support_per_year = data['total_support'].sum() / data['year'].nunique()\n",
    "print(f'Средняя сумма поддержки кино в год: {mean_support_per_year:.2f} млн. руб.')\n"
   ]
  },
  {
   "cell_type": "code",
   "execution_count": 52,
   "metadata": {},
   "outputs": [
    {
     "name": "stdout",
     "output_type": "stream",
     "text": [
      "      refundable_support  nonrefundable_support\n",
      "year                                           \n",
      "2010                 0.0           0.000000e+00\n",
      "2011                 0.0           0.000000e+00\n",
      "2012                 0.0           0.000000e+00\n",
      "2013                 0.0           1.343479e+08\n",
      "2014          71000000.0           5.010023e+08\n",
      "2015         637153119.0           2.960088e+09\n",
      "2016         921500000.0           3.381655e+09\n",
      "2017         719346881.0           2.464625e+09\n",
      "2018         662000000.0           2.784969e+09\n",
      "2019         928000000.0           3.976000e+09\n"
     ]
    }
   ],
   "source": [
    "\n",
    "grouped_data = data.groupby(['year']).agg({'refundable_support': 'sum', 'nonrefundable_support': 'sum'})\n",
    "print(grouped_data)\n"
   ]
  },
  {
   "cell_type": "markdown",
   "metadata": {},
   "source": [
    "-----"
   ]
  },
  {
   "cell_type": "markdown",
   "metadata": {},
   "source": [
    "Сколько фильмов получили государственную поддержку?"
   ]
  },
  {
   "cell_type": "code",
   "execution_count": 53,
   "metadata": {},
   "outputs": [
    {
     "name": "stdout",
     "output_type": "stream",
     "text": [
      "Количество фильмов, получивших государственную поддержку:  7485\n"
     ]
    }
   ],
   "source": [
    "num_supported_films = data['title'].count()\n",
    "print(\"Количество фильмов, получивших государственную поддержку: \", num_supported_films)\n"
   ]
  },
  {
   "cell_type": "code",
   "execution_count": null,
   "metadata": {},
   "outputs": [],
   "source": []
  },
  {
   "cell_type": "markdown",
   "metadata": {},
   "source": [
    "Как распределяются средства на поддержку кино?"
   ]
  },
  {
   "cell_type": "code",
   "execution_count": 54,
   "metadata": {},
   "outputs": [
    {
     "name": "stdout",
     "output_type": "stream",
     "text": [
      "Всего выделено средств на поддержку кино:  20141688312.0\n",
      "Среднее значение возвратных грантов:  11900302.114803625\n",
      "Среднее значение невозвратных грантов:  48950719.975830816\n",
      "       refundable_support  nonrefundable_support\n",
      "count        3.310000e+02           3.310000e+02\n",
      "mean         1.190030e+07           4.895072e+07\n",
      "std          2.494570e+07           6.006839e+07\n",
      "min          0.000000e+00           0.000000e+00\n",
      "25%          0.000000e+00           2.500000e+07\n",
      "50%          0.000000e+00           3.000000e+07\n",
      "75%          1.500000e+07           4.000000e+07\n",
      "max          1.800000e+08           4.000000e+08\n"
     ]
    }
   ],
   "source": [
    "total_refundable_support = data['refundable_support'].sum()\n",
    "total_nonrefundable_support = data['nonrefundable_support'].sum()\n",
    "total_support = total_refundable_support + total_nonrefundable_support\n",
    "print(\"Всего выделено средств на поддержку кино: \", total_support)\n",
    "print(\"Среднее значение возвратных грантов: \", data['refundable_support'].mean())\n",
    "print(\"Среднее значение невозвратных грантов: \", data['nonrefundable_support'].mean())\n",
    "print(data[['refundable_support', 'nonrefundable_support']].describe())\n"
   ]
  },
  {
   "cell_type": "markdown",
   "metadata": {},
   "source": [
    "Из этого можно сделать вывод, что в среднем выделенная сумма на возвратные гранты меньше, чем на невозвратные гранты. Также видно, что невозвратные гранты могут быть существенно выше возвратных. Кроме того, видно, что стандартное отклонение невозвратных грантов намного выше, что говорит о более широком диапазоне значений."
   ]
  },
  {
   "cell_type": "code",
   "execution_count": null,
   "metadata": {},
   "outputs": [],
   "source": []
  },
  {
   "cell_type": "markdown",
   "metadata": {},
   "source": [
    "Какой уровень окупаемости у фильмов, получивших государственную поддержку?"
   ]
  },
  {
   "cell_type": "code",
   "execution_count": 55,
   "metadata": {},
   "outputs": [
    {
     "name": "stdout",
     "output_type": "stream",
     "text": [
      "Средний уровень окупаемости:  0.7922670843656784\n",
      "Медианный уровень окупаемости:  0.17765588320218148\n",
      "count    317.000000\n",
      "mean       0.792267\n",
      "std        1.660882\n",
      "min        0.000017\n",
      "25%        0.023096\n",
      "50%        0.177656\n",
      "75%        0.911217\n",
      "max       19.209804\n",
      "dtype: float64\n"
     ]
    }
   ],
   "source": [
    "revenue = data['box_office'].dropna()\n",
    "roi = revenue / data['budget']\n",
    "print(\"Средний уровень окупаемости: \", roi.mean())\n",
    "print(\"Медианный уровень окупаемости: \", roi.median())\n",
    "print(roi.describe())\n"
   ]
  },
  {
   "cell_type": "markdown",
   "metadata": {},
   "source": [
    "Средний уровень окупаемости составляет примерно 0.79, что может указывать на то, что в целом фильмы из данного набора данных приносят прибыль, но не всегда покрывают затраты на их создание.\n",
    "\n",
    "Медианный уровень окупаемости гораздо меньше и составляет примерно 0.18, что может указывать на то, что большинство фильмов в данном наборе данных не окупаются полностью.\n",
    "\n",
    "Также, по характеристикам распределения видно, что стандартное отклонение довольно высокое, что может указывать на большой разброс значений окупаемости. Минимальный уровень окупаемости составляет менее 0.000017, а максимальный - более 19.2, что также подтверждает наличие большого разброса в данных."
   ]
  },
  {
   "cell_type": "code",
   "execution_count": null,
   "metadata": {},
   "outputs": [],
   "source": []
  },
  {
   "cell_type": "markdown",
   "metadata": {},
   "source": [
    "Какие жанры фильмов наиболее популярны среди тех, которые получили государственную поддержку?"
   ]
  },
  {
   "cell_type": "code",
   "execution_count": 56,
   "metadata": {},
   "outputs": [
    {
     "name": "stdout",
     "output_type": "stream",
     "text": [
      "драма              1688\n",
      "комедия             696\n",
      "боевик              617\n",
      "ужасы               573\n",
      "мультфильм          538\n",
      "триллер             521\n",
      "фантастика          410\n",
      "мелодрама           383\n",
      "фэнтези             358\n",
      "документальный      219\n",
      "аниме                74\n",
      "мюзикл               64\n",
      "детектив             56\n",
      "приключения          55\n",
      "военный              46\n",
      "криминал             39\n",
      "биография            33\n",
      "семейный             32\n",
      "детский              28\n",
      "история              26\n",
      "короткометражка      13\n",
      "концерт              12\n",
      "спорт                 9\n",
      "вестерн               7\n",
      "музыка                7\n",
      "для взрослых          3\n",
      "реальное ТВ           1\n",
      "фильм-нуар            1\n",
      "Name: main_genre, dtype: int64\n"
     ]
    }
   ],
   "source": [
    "genre_counts = data['main_genre'].value_counts()\n",
    "print(genre_counts)\n"
   ]
  },
  {
   "cell_type": "markdown",
   "metadata": {},
   "source": [
    "Из этого можно сделать вывод, что наиболее популярными жанрами среди фильмов, получивших государственную поддержку, являются драма и комедия."
   ]
  },
  {
   "cell_type": "markdown",
   "metadata": {},
   "source": [
    "____"
   ]
  },
  {
   "cell_type": "markdown",
   "metadata": {},
   "source": [
    "Как связан уровень государственной поддержки с успехом фильма?"
   ]
  },
  {
   "cell_type": "code",
   "execution_count": 59,
   "metadata": {
    "scrolled": true
   },
   "outputs": [
    {
     "data": {
      "image/png": "[encoded data removed]",
      "text/plain": [
       "<Figure size 720x432 with 1 Axes>"
      ]
     },
     "metadata": {
      "needs_background": "light"
     },
     "output_type": "display_data"
    }
   ],
   "source": [
    "plt.figure(figsize=(10, 6))\n",
    "plt.scatter(data['total_support'], data['box_office'], alpha=0.5)\n",
    "plt.xlabel('Сумма поддержки')\n",
    "plt.ylabel('Кассовые сборы')\n",
    "plt.title('Связь между государственной поддержкой и кассовыми сборами')\n",
    "plt.show()\n"
   ]
  },
  {
   "cell_type": "markdown",
   "metadata": {},
   "source": [
    "Из диаграммы рассеяния видно, что общая тенденция заключается в том, что фильмы с более высокой государственной поддержкой также имеют более высокие сборы. Однако есть много выбросов, то есть фильмов, которые получили большую поддержку, но не достигли высоких сборов."
   ]
  },
  {
   "cell_type": "code",
   "execution_count": 60,
   "metadata": {
    "scrolled": true
   },
   "outputs": [
    {
     "ename": "NameError",
     "evalue": "name 'support' is not defined",
     "output_type": "error",
     "traceback": [
      "\u001b[0;31m---------------------------------------------------------------------------\u001b[0m",
      "\u001b[0;31mNameError\u001b[0m                                 Traceback (most recent call last)",
      "\u001b[0;32m/tmp/ipykernel_31/3208185710.py\u001b[0m in \u001b[0;36m<module>\u001b[0;34m\u001b[0m\n\u001b[0;32m----> 1\u001b[0;31m \u001b[0mcorr\u001b[0m \u001b[0;34m=\u001b[0m \u001b[0msupport\u001b[0m\u001b[0;34m.\u001b[0m\u001b[0mcorr\u001b[0m\u001b[0;34m(\u001b[0m\u001b[0mrevenue\u001b[0m\u001b[0;34m)\u001b[0m\u001b[0;34m\u001b[0m\u001b[0;34m\u001b[0m\u001b[0m\n\u001b[0m\u001b[1;32m      2\u001b[0m \u001b[0mprint\u001b[0m\u001b[0;34m(\u001b[0m\u001b[0;34m\"Коэффициент корреляции Пирсона: \"\u001b[0m\u001b[0;34m,\u001b[0m \u001b[0mcorr\u001b[0m\u001b[0;34m)\u001b[0m\u001b[0;34m\u001b[0m\u001b[0;34m\u001b[0m\u001b[0m\n",
      "\u001b[0;31mNameError\u001b[0m: name 'support' is not defined"
     ]
    }
   ],
   "source": [
    "corr = support.corr(revenue)\n",
    "print(\"Коэффициент корреляции Пирсона: \", corr)\n"
   ]
  },
  {
   "cell_type": "markdown",
   "metadata": {},
   "source": [
    "Коэффициент корреляции Пирсона составляет 0.48, что говорит о наличии положительной, но не сильной линейной связи между государственной поддержкой и сборами."
   ]
  },
  {
   "cell_type": "markdown",
   "metadata": {},
   "source": [
    "_____"
   ]
  },
  {
   "cell_type": "markdown",
   "metadata": {},
   "source": [
    "Какой жанр наиболее часто получает государственную поддержку?"
   ]
  },
  {
   "cell_type": "code",
   "execution_count": 63,
   "metadata": {},
   "outputs": [
    {
     "data": {
      "image/png": "[encoded data removed]",
      "text/plain": [
       "<Figure size 432x288 with 1 Axes>"
      ]
     },
     "metadata": {
      "needs_background": "light"
     },
     "output_type": "display_data"
    }
   ],
   "source": [
    "genre_counts = data[data['total_support'] > 0]['main_genre'].value_counts()\n",
    "plt.bar(genre_counts.index, genre_counts.values)\n",
    "plt.xticks(rotation=90)\n",
    "plt.xlabel('Жанр')\n",
    "plt.ylabel('Количество фильмов')\n",
    "plt.title('Количество фильмов с государственной поддержкой по жанрам')\n",
    "plt.show()\n",
    "\n"
   ]
  },
  {
   "cell_type": "code",
   "execution_count": 64,
   "metadata": {},
   "outputs": [],
   "source": [
    "#genre_counts = data['main_genre'].value_counts()\n",
    "#genre_support = data.groupby('main_genre')['total_support'].sum()\n",
    "\n",
    "#plt.bar(genre_counts.index, genre_support / 1e9, color='b', alpha=0.5, label='Сумма господдержки')\n",
    "#plt.xticks(rotation=90)\n",
    "#plt.ylabel('Сумма господдержки, млрд. руб.')\n",
    "#plt.twinx()\n",
    "#plt.bar(genre_counts.index, genre_counts, color='r', alpha=0.5, label='Количество фильмов')\n",
    "#plt.ylabel('Количество фильмов')\n",
    "#plt.title('Государственная поддержка фильмов по жанрам')\n",
    "#plt.legend()\n",
    "#plt.show()\n"
   ]
  },
  {
   "cell_type": "markdown",
   "metadata": {},
   "source": [
    "Из гистограммы видно, что наиболее часто государственную поддержку получают драмы, за ними следуют комедии и мелодрамы. Это может быть связано с тем, что эти жанры обычно считаются более \"серьезными\" и \"искусственными\", чем, например, боевики или комедии, и могут нуждаться в дополнительной финансовой поддержке для своего производства."
   ]
  },
  {
   "cell_type": "markdown",
   "metadata": {},
   "source": [
    "_______"
   ]
  },
  {
   "cell_type": "markdown",
   "metadata": {},
   "source": [
    "Какой процент фильмов с государственной поддержкой окупается?"
   ]
  },
  {
   "cell_type": "code",
   "execution_count": 65,
   "metadata": {},
   "outputs": [
    {
     "data": {
      "image/png": "[encoded data removed]",
      "text/plain": [
       "<Figure size 432x288 with 1 Axes>"
      ]
     },
     "metadata": {
      "needs_background": "light"
     },
     "output_type": "display_data"
    }
   ],
   "source": [
    "roi = data[data['total_support'] > 0]['box_office'] / data[data['total_support'] > 0]['budget']\n",
    "plt.hist(roi, bins=20)\n",
    "plt.xlabel('Процент окупаемости')\n",
    "plt.ylabel('Количество фильмов')\n",
    "plt.title('Распределение процента окупаемости фильмов с государственной поддержкой')\n",
    "plt.show()\n"
   ]
  },
  {
   "cell_type": "markdown",
   "metadata": {},
   "source": [
    "Из гистограммы видно, что большинство фильмов с государственной поддержкой окупаются менее чем на 100%. Это может объясняться тем, что государственная поддержка обычно предназначена для стимулирования кинопроизводства в целом, а не для получения прибыли от отдельных фильмов. Также, возможно, эти фильмы имеют меньшую коммерческую привлекательность для широкой аудитории, чем те, которые не получили государственную поддержку."
   ]
  },
  {
   "cell_type": "markdown",
   "metadata": {
    "scrolled": true
   },
   "source": [
    "????????????????"
   ]
  },
  {
   "cell_type": "markdown",
   "metadata": {},
   "source": [
    "Какая связь между бюджетом фильма и его кассовыми сборами?"
   ]
  },
  {
   "cell_type": "code",
   "execution_count": 66,
   "metadata": {},
   "outputs": [
    {
     "data": {
      "image/png": "[encoded data removed]",
      "text/plain": [
       "<Figure size 432x288 with 1 Axes>"
      ]
     },
     "metadata": {
      "needs_background": "light"
     },
     "output_type": "display_data"
    }
   ],
   "source": [
    "budget_vs_boxoffice = data[['budget', 'box_office']].dropna()\n",
    "plt.scatter(budget_vs_boxoffice['budget'], budget_vs_boxoffice['box_office'], alpha=0.5)\n",
    "plt.xlabel('Бюджет')\n",
    "plt.ylabel('Кассовые сборы')\n",
    "plt.title('Связь между бюджетом и кассовыми сборами')\n",
    "plt.show()\n",
    "\n"
   ]
  },
  {
   "cell_type": "markdown",
   "metadata": {},
   "source": [
    "Видно, что есть некоторая положительная связь между бюджетом фильма и его кассовыми сборами. Однако, это не означает, что больший бюджет гарантирует большие кассовые сборы. Также, можно заметить, что есть несколько фильмов с очень большим бюджетом, но с небольшими кассовыми сборами, что может указывать на неэффективное использование бюджета."
   ]
  },
  {
   "cell_type": "markdown",
   "metadata": {},
   "source": [
    "____________"
   ]
  },
  {
   "cell_type": "markdown",
   "metadata": {},
   "source": [
    "Какое соотношение между возвратной и невозвратной государственной поддержкой?"
   ]
  },
  {
   "cell_type": "code",
   "execution_count": 67,
   "metadata": {},
   "outputs": [
    {
     "data": {
      "image/png": "[encoded data removed]",
      "text/plain": [
       "<Figure size 432x288 with 1 Axes>"
      ]
     },
     "metadata": {
      "needs_background": "light"
     },
     "output_type": "display_data"
    }
   ],
   "source": [
    "refundable_support = data['refundable_support']\n",
    "nonrefundable_support = data['nonrefundable_support']\n",
    "\n",
    "plt.hist([refundable_support, nonrefundable_support], color=['blue', 'orange'], bins=20, label=['Возвратная поддержка', 'Невозвратная поддержка'])\n",
    "plt.legend()\n",
    "plt.xlabel('Сумма поддержки')\n",
    "plt.ylabel('Число фильмов')\n",
    "plt.title('Соотношение возвратной и невозвратной поддержки')\n",
    "plt.show()\n"
   ]
  },
  {
   "cell_type": "markdown",
   "metadata": {},
   "source": [
    "Из гистограммы видно, что большинство фильмов получили невозвратную поддержку, тогда как возвратную поддержку получило гораздо меньше фильмов. Однако, это не означает, что возвратная поддержка менее значима, потому что суммы возвратной поддержки могут быть значительно больше, чем суммы невозвратной поддержки."
   ]
  },
  {
   "cell_type": "markdown",
   "metadata": {},
   "source": [
    "_________"
   ]
  },
  {
   "cell_type": "markdown",
   "metadata": {},
   "source": [
    "Как распределяется государственная поддержка между студиями?"
   ]
  },
  {
   "cell_type": "code",
   "execution_count": 68,
   "metadata": {},
   "outputs": [
    {
     "data": {
      "image/png": "[encoded data removed]",
      "text/plain": [
       "<Figure size 720x432 with 1 Axes>"
      ]
     },
     "metadata": {
      "needs_background": "light"
     },
     "output_type": "display_data"
    }
   ],
   "source": [
    "support_by_studio = data.groupby('film_studio').agg({'refundable_support': 'sum', 'nonrefundable_support': 'sum'})\n",
    "support_by_studio['total_support'] = support_by_studio['refundable_support'] + support_by_studio['nonrefundable_support']\n",
    "support_by_studio = support_by_studio.sort_values(by='total_support', ascending=False).head(10)\n",
    "\n",
    "support_by_studio[['refundable_support', 'nonrefundable_support']].plot(kind='bar', stacked=True, figsize=(10,6))\n",
    "plt.xlabel('Студия')\n",
    "plt.ylabel('Сумма поддержки')\n",
    "plt.title('Распределение государственной поддержки по студиям')\n",
    "plt.show()\n"
   ]
  },
  {
   "cell_type": "markdown",
   "metadata": {},
   "source": [
    "Из графика видно, что большую часть государственной поддержки получили несколько крупных студий, в то время как большинство студий получили небольшие суммы поддержки. Кроме того, большая часть поддержки была невозвратной."
   ]
  },
  {
   "cell_type": "markdown",
   "metadata": {},
   "source": [
    "________________"
   ]
  },
  {
   "cell_type": "markdown",
   "metadata": {},
   "source": [
    "Как связаны бюджет фильма и сумма государственной поддержки?"
   ]
  },
  {
   "cell_type": "code",
   "execution_count": 70,
   "metadata": {},
   "outputs": [
    {
     "data": {
      "image/png": "[encoded data removed]",
      "text/plain": [
       "<Figure size 720x432 with 1 Axes>"
      ]
     },
     "metadata": {
      "needs_background": "light"
     },
     "output_type": "display_data"
    }
   ],
   "source": [
    "plt.figure(figsize=(10,6))\n",
    "plt.scatter(data['budget'], data['total_support'], alpha=0.5)\n",
    "plt.xlabel('Бюджет фильма')\n",
    "plt.ylabel('Сумма государственной поддержки')\n",
    "plt.title('Связь между бюджетом фильма и государственной поддержкой')\n",
    "plt.show()\n"
   ]
  },
  {
   "cell_type": "markdown",
   "metadata": {},
   "source": [
    "Из графика можно увидеть, что есть положительная корреляция между бюджетом фильма и суммой государственной поддержки. То есть, в целом, чем больше бюджет у фильма, тем больше поддержки он получает. Однако, в то же время, есть много фильмов с небольшим бюджетом, но высокой суммой поддержки, что говорит о том, что поддержка не зависит только от бюджета, а может быть связана и с другими факторами, такими как режиссер, жанр и т.д."
   ]
  },
  {
   "cell_type": "markdown",
   "metadata": {},
   "source": [
    "______________"
   ]
  },
  {
   "cell_type": "markdown",
   "metadata": {},
   "source": [
    "Какой процент фильмов, получивших государственную поддержку, окупился?"
   ]
  },
  {
   "cell_type": "code",
   "execution_count": 71,
   "metadata": {},
   "outputs": [
    {
     "name": "stdout",
     "output_type": "stream",
     "text": [
      "Процент фильмов, получивших государственную поддержку, которые окупились: 22.71%\n"
     ]
    }
   ],
   "source": [
    "# Выбираем только те фильмы, у которых известен бюджет и сборы\n",
    "profitable_films = data.dropna(subset=['budget', 'box_office'])\n",
    "\n",
    "# Считаем процент фильмов, у которых сборы превысили бюджет\n",
    "percent_profitable = round(100 * len(profitable_films[profitable_films['box_office'] > profitable_films['budget']]) / len(profitable_films), 2)\n",
    "\n",
    "print(f\"Процент фильмов, получивших государственную поддержку, которые окупились: {percent_profitable}%\")\n",
    "\n"
   ]
  },
  {
   "cell_type": "markdown",
   "metadata": {},
   "source": [
    "Из этого можно сделать вывод, что большинство фильмов, получивших государственную поддержку, не окупаются. Однако, стоит учитывать, что такой анализ не учитывает другие факторы, которые могут повлиять на окупаемость фильма, такие как качество фильма, конкуренция на рынке и т.д."
   ]
  },
  {
   "cell_type": "markdown",
   "metadata": {},
   "source": [
    "_____________"
   ]
  },
  {
   "cell_type": "markdown",
   "metadata": {},
   "source": [
    "Какова средняя оценка фильмов по жанрам?"
   ]
  },
  {
   "cell_type": "code",
   "execution_count": 72,
   "metadata": {},
   "outputs": [
    {
     "data": {
      "image/png": "[encoded data removed]",
      "text/plain": [
       "<Figure size 864x432 with 1 Axes>"
      ]
     },
     "metadata": {
      "needs_background": "light"
     },
     "output_type": "display_data"
    }
   ],
   "source": [
    "# сгруппировать данные по жанрам и посчитать среднюю оценку, отсортировать по убыванию\n",
    "genre_ratings = data.groupby('main_genre')['ratings'].mean().sort_values(ascending=False)\n",
    "\n",
    "# создать гистограмму\n",
    "fig, ax = plt.subplots(figsize=(12,6))\n",
    "ax.bar(genre_ratings.index, genre_ratings.values)\n",
    "\n",
    "# добавить названия осей и заголовок\n",
    "plt.xticks(rotation=90)\n",
    "ax.set_xlabel('Жанр')\n",
    "ax.set_ylabel('Средняя оценка')\n",
    "ax.set_title('Средняя оценка фильмов по жанрам (отсортировано по убыванию)')\n",
    "\n",
    "plt.show()\n",
    "\n"
   ]
  },
  {
   "cell_type": "code",
   "execution_count": null,
   "metadata": {},
   "outputs": [],
   "source": []
  },
  {
   "cell_type": "markdown",
   "metadata": {},
   "source": [
    "_____________"
   ]
  },
  {
   "cell_type": "code",
   "execution_count": 73,
   "metadata": {},
   "outputs": [
    {
     "data": {
      "image/png": "[encoded data removed]",
      "text/plain": [
       "<Figure size 432x288 with 1 Axes>"
      ]
     },
     "metadata": {
      "needs_background": "light"
     },
     "output_type": "display_data"
    }
   ],
   "source": [
    "age_restr_counts = data['age_restriction'].value_counts()\n",
    "plt.bar(age_restr_counts.index, age_restr_counts.values)\n",
    "plt.xticks(rotation=90)\n",
    "plt.title('Количество фильмов для каждой возрастной категории')\n",
    "plt.xlabel('Возрастная категория')\n",
    "plt.ylabel('Количество фильмов')\n",
    "plt.show()\n",
    "\n"
   ]
  },
  {
   "cell_type": "markdown",
   "metadata": {},
   "source": [
    "Столбчатая диаграмма показывает, что больше всего фильмов с государственной поддержкой было снято для возрастной категории \"16+\". Вторым по популярности является возрастная категория \"18+\", а затем идут категории \"12+\" и \"0+\". Можно предположить, что это связано с тем, что фильмы для взрослых (16+) в большинстве случаев обладают большей кассовой выручкой, что делает их более привлекательными для государственной поддержки."
   ]
  },
  {
   "cell_type": "code",
   "execution_count": null,
   "metadata": {},
   "outputs": [],
   "source": []
  },
  {
   "cell_type": "code",
   "execution_count": null,
   "metadata": {},
   "outputs": [],
   "source": []
  },
  {
   "cell_type": "code",
   "execution_count": null,
   "metadata": {},
   "outputs": [],
   "source": []
  },
  {
   "cell_type": "code",
   "execution_count": null,
   "metadata": {},
   "outputs": [],
   "source": []
  },
  {
   "cell_type": "markdown",
   "metadata": {
    "id": "V2gYwMcPgFyd"
   },
   "source": [
    "### Шаг 5. Напишите общий вывод"
   ]
  },
  {
   "cell_type": "markdown",
   "metadata": {
    "id": "AYRg3dzXgFye"
   },
   "source": []
  }
 ],
 "metadata": {
  "ExecuteTimeLog": [
   {
    "duration": 537,
    "start_time": "2021-07-07T10:12:08.634Z"
   },
   {
    "duration": 206,
    "start_time": "2021-07-07T10:12:30.191Z"
   },
   {
    "duration": 227,
    "start_time": "2021-07-07T10:12:33.078Z"
   },
   {
    "duration": 153,
    "start_time": "2021-07-07T10:13:42.146Z"
   },
   {
    "duration": 233,
    "start_time": "2021-07-07T10:30:09.252Z"
   },
   {
    "duration": 19,
    "start_time": "2021-07-07T10:30:15.577Z"
   },
   {
    "duration": 18,
    "start_time": "2021-07-07T10:30:57.348Z"
   },
   {
    "duration": 19,
    "start_time": "2021-07-07T10:31:17.452Z"
   },
   {
    "duration": 21,
    "start_time": "2021-07-07T10:31:32.227Z"
   },
   {
    "duration": 27,
    "start_time": "2021-07-07T10:32:06.588Z"
   },
   {
    "duration": 23,
    "start_time": "2021-07-07T10:32:43.645Z"
   },
   {
    "duration": 24,
    "start_time": "2021-07-07T10:33:06.948Z"
   },
   {
    "duration": 7,
    "start_time": "2021-07-07T10:33:28.558Z"
   },
   {
    "duration": 23,
    "start_time": "2021-07-07T10:33:43.761Z"
   },
   {
    "duration": 28,
    "start_time": "2021-07-07T10:34:13.466Z"
   },
   {
    "duration": 23,
    "start_time": "2021-07-07T10:35:56.187Z"
   },
   {
    "duration": 6,
    "start_time": "2021-07-07T10:36:48.182Z"
   },
   {
    "duration": 14,
    "start_time": "2021-07-07T10:37:49.641Z"
   },
   {
    "duration": 6,
    "start_time": "2021-07-07T10:38:06.694Z"
   },
   {
    "duration": 6,
    "start_time": "2021-07-07T10:38:13.493Z"
   },
   {
    "duration": 19,
    "start_time": "2021-07-07T10:38:44.056Z"
   },
   {
    "duration": 186,
    "start_time": "2021-07-07T10:48:35.618Z"
   },
   {
    "duration": 24,
    "start_time": "2021-07-07T10:48:51.498Z"
   },
   {
    "duration": 20,
    "start_time": "2021-07-07T10:48:59.415Z"
   },
   {
    "duration": 20,
    "start_time": "2021-07-07T10:53:02.195Z"
   },
   {
    "duration": 188,
    "start_time": "2021-07-07T10:54:40.486Z"
   },
   {
    "duration": 115,
    "start_time": "2021-07-07T10:54:52.552Z"
   },
   {
    "duration": 214,
    "start_time": "2021-07-07T10:54:56.354Z"
   },
   {
    "duration": 47,
    "start_time": "2021-07-07T10:54:58.282Z"
   },
   {
    "duration": 217,
    "start_time": "2021-07-07T10:59:16.075Z"
   },
   {
    "duration": 51,
    "start_time": "2021-07-07T10:59:16.243Z"
   },
   {
    "duration": 578,
    "start_time": "2021-07-07T10:59:18.774Z"
   },
   {
    "duration": 161,
    "start_time": "2021-07-07T10:59:21.238Z"
   },
   {
    "duration": 59,
    "start_time": "2021-07-07T10:59:21.453Z"
   },
   {
    "duration": 3,
    "start_time": "2021-07-07T11:02:10.786Z"
   },
   {
    "duration": 13,
    "start_time": "2021-07-07T11:07:07.722Z"
   },
   {
    "duration": 26,
    "start_time": "2021-07-07T11:07:17.958Z"
   },
   {
    "duration": 22,
    "start_time": "2021-07-07T11:08:17.939Z"
   },
   {
    "duration": 212,
    "start_time": "2021-07-07T11:08:19.665Z"
   },
   {
    "duration": 21,
    "start_time": "2021-07-07T11:08:29.945Z"
   },
   {
    "duration": 31,
    "start_time": "2021-07-07T11:08:38.899Z"
   },
   {
    "duration": 23,
    "start_time": "2021-07-07T11:08:54.527Z"
   },
   {
    "duration": 8,
    "start_time": "2021-07-07T11:18:55.974Z"
   },
   {
    "duration": 7,
    "start_time": "2021-07-07T11:19:03.639Z"
   },
   {
    "duration": 7,
    "start_time": "2021-07-07T11:19:06.444Z"
   },
   {
    "duration": 578,
    "start_time": "2021-07-07T12:09:59.576Z"
   },
   {
    "duration": 195,
    "start_time": "2021-07-07T12:10:00.156Z"
   },
   {
    "duration": 115,
    "start_time": "2021-07-07T12:10:00.353Z"
   },
   {
    "duration": 3,
    "start_time": "2021-07-07T12:10:00.470Z"
   },
   {
    "duration": 32,
    "start_time": "2021-07-07T12:10:00.474Z"
   },
   {
    "duration": 23,
    "start_time": "2021-07-07T12:10:00.508Z"
   },
   {
    "duration": 19,
    "start_time": "2021-07-07T12:10:00.533Z"
   },
   {
    "duration": 44,
    "start_time": "2021-07-07T12:10:00.553Z"
   },
   {
    "duration": 7,
    "start_time": "2021-07-07T12:10:00.600Z"
   },
   {
    "duration": 7,
    "start_time": "2021-07-07T12:19:45.761Z"
   },
   {
    "duration": 21,
    "start_time": "2021-07-07T12:21:35.482Z"
   },
   {
    "duration": 21,
    "start_time": "2021-07-07T12:29:23.569Z"
   },
   {
    "duration": 525,
    "start_time": "2021-07-07T12:29:44.542Z"
   },
   {
    "duration": 214,
    "start_time": "2021-07-07T12:29:45.069Z"
   },
   {
    "duration": 92,
    "start_time": "2021-07-07T12:29:45.285Z"
   },
   {
    "duration": 3,
    "start_time": "2021-07-07T12:29:45.379Z"
   },
   {
    "duration": 28,
    "start_time": "2021-07-07T12:29:45.384Z"
   },
   {
    "duration": 23,
    "start_time": "2021-07-07T12:29:45.413Z"
   },
   {
    "duration": 21,
    "start_time": "2021-07-07T12:29:45.437Z"
   },
   {
    "duration": 41,
    "start_time": "2021-07-07T12:29:45.460Z"
   },
   {
    "duration": 7,
    "start_time": "2021-07-07T12:29:45.502Z"
   },
   {
    "duration": 20,
    "start_time": "2021-07-07T12:29:45.511Z"
   },
   {
    "duration": 12,
    "start_time": "2021-07-07T12:34:02.800Z"
   },
   {
    "duration": 7,
    "start_time": "2021-07-07T12:35:10.479Z"
   },
   {
    "duration": 8,
    "start_time": "2021-07-07T12:35:22.440Z"
   },
   {
    "duration": 6,
    "start_time": "2021-07-07T12:35:35.649Z"
   },
   {
    "duration": 6,
    "start_time": "2021-07-07T12:35:43.107Z"
   },
   {
    "duration": 22,
    "start_time": "2021-07-07T12:38:03.029Z"
   },
   {
    "duration": 10,
    "start_time": "2021-07-07T12:38:06.592Z"
   },
   {
    "duration": 563,
    "start_time": "2021-07-07T12:38:46.493Z"
   },
   {
    "duration": 265,
    "start_time": "2021-07-07T12:38:47.058Z"
   },
   {
    "duration": 94,
    "start_time": "2021-07-07T12:38:47.325Z"
   },
   {
    "duration": 3,
    "start_time": "2021-07-07T12:38:47.422Z"
   },
   {
    "duration": 30,
    "start_time": "2021-07-07T12:38:47.427Z"
   },
   {
    "duration": 16,
    "start_time": "2021-07-07T12:38:53.305Z"
   },
   {
    "duration": 10,
    "start_time": "2021-07-07T12:38:53.499Z"
   },
   {
    "duration": 8,
    "start_time": "2021-07-07T12:39:48.161Z"
   },
   {
    "duration": 27,
    "start_time": "2021-07-07T12:41:17.629Z"
   },
   {
    "duration": 17,
    "start_time": "2021-07-07T12:41:17.867Z"
   },
   {
    "duration": 21,
    "start_time": "2021-07-07T12:41:19.310Z"
   },
   {
    "duration": 7,
    "start_time": "2021-07-07T12:41:19.544Z"
   },
   {
    "duration": 20,
    "start_time": "2021-07-07T12:41:20.504Z"
   },
   {
    "duration": 554,
    "start_time": "2021-07-07T12:56:23.696Z"
   },
   {
    "duration": 200,
    "start_time": "2021-07-07T12:56:25.234Z"
   },
   {
    "duration": 119,
    "start_time": "2021-07-07T12:56:25.480Z"
   },
   {
    "duration": 4,
    "start_time": "2021-07-07T12:56:25.762Z"
   },
   {
    "duration": 26,
    "start_time": "2021-07-07T12:56:27.172Z"
   },
   {
    "duration": 12,
    "start_time": "2021-07-07T12:56:29.051Z"
   },
   {
    "duration": 10,
    "start_time": "2021-07-07T12:56:29.291Z"
   },
   {
    "duration": 8,
    "start_time": "2021-07-07T12:56:29.623Z"
   },
   {
    "duration": 28,
    "start_time": "2021-07-07T12:56:32.137Z"
   },
   {
    "duration": 19,
    "start_time": "2021-07-07T12:56:39.785Z"
   },
   {
    "duration": 20,
    "start_time": "2021-07-07T12:56:44.297Z"
   },
   {
    "duration": 7,
    "start_time": "2021-07-07T12:56:45.392Z"
   },
   {
    "duration": 23,
    "start_time": "2021-07-07T12:56:46.615Z"
   },
   {
    "duration": 4,
    "start_time": "2021-07-07T12:57:06.625Z"
   },
   {
    "duration": 32,
    "start_time": "2021-07-07T12:57:36.690Z"
   },
   {
    "duration": 18,
    "start_time": "2021-07-07T12:58:00.149Z"
   },
   {
    "duration": 15,
    "start_time": "2021-07-07T12:59:16.793Z"
   },
   {
    "duration": 7,
    "start_time": "2021-07-07T13:19:22.624Z"
   },
   {
    "duration": 6,
    "start_time": "2021-07-07T14:17:33.527Z"
   },
   {
    "duration": 9,
    "start_time": "2021-07-07T14:17:48.409Z"
   },
   {
    "duration": 8,
    "start_time": "2021-07-07T14:20:13.060Z"
   },
   {
    "duration": 8,
    "start_time": "2021-07-07T14:20:37.957Z"
   },
   {
    "duration": 8,
    "start_time": "2021-07-07T14:20:47.470Z"
   },
   {
    "duration": 9,
    "start_time": "2021-07-07T14:20:54.503Z"
   },
   {
    "duration": 10,
    "start_time": "2021-07-07T14:28:57.763Z"
   },
   {
    "duration": 3,
    "start_time": "2021-07-07T14:30:23.377Z"
   },
   {
    "duration": 3,
    "start_time": "2021-07-07T14:30:36.489Z"
   },
   {
    "duration": 103,
    "start_time": "2021-07-07T14:30:52.351Z"
   },
   {
    "duration": 8,
    "start_time": "2021-07-07T14:30:54.763Z"
   },
   {
    "duration": 8,
    "start_time": "2021-07-07T14:31:29.301Z"
   },
   {
    "duration": 13,
    "start_time": "2021-07-07T14:31:44.516Z"
   },
   {
    "duration": 7,
    "start_time": "2021-07-07T14:33:10.972Z"
   },
   {
    "duration": 11,
    "start_time": "2021-07-07T14:33:27.780Z"
   },
   {
    "duration": 8,
    "start_time": "2021-07-07T14:34:44.588Z"
   },
   {
    "duration": 57,
    "start_time": "2021-07-07T14:35:59.042Z"
   },
   {
    "duration": 3,
    "start_time": "2021-07-07T14:36:28.168Z"
   },
   {
    "duration": 5,
    "start_time": "2021-07-07T14:36:46.254Z"
   },
   {
    "duration": 4,
    "start_time": "2021-07-07T14:36:52.714Z"
   },
   {
    "duration": 3,
    "start_time": "2021-07-07T14:36:56.612Z"
   },
   {
    "duration": 4,
    "start_time": "2021-07-07T14:36:57.049Z"
   },
   {
    "duration": 3,
    "start_time": "2021-07-07T14:39:21.214Z"
   },
   {
    "duration": 7,
    "start_time": "2021-07-07T14:39:52.406Z"
   },
   {
    "duration": 11,
    "start_time": "2021-07-07T14:39:58.576Z"
   },
   {
    "duration": 9,
    "start_time": "2021-07-07T14:40:26.301Z"
   },
   {
    "duration": 10,
    "start_time": "2021-07-07T14:40:31.704Z"
   },
   {
    "duration": 11,
    "start_time": "2021-07-07T14:40:36.249Z"
   },
   {
    "duration": 10,
    "start_time": "2021-07-07T14:40:39.783Z"
   },
   {
    "duration": 9,
    "start_time": "2021-07-07T14:40:48.558Z"
   },
   {
    "duration": 10,
    "start_time": "2021-07-07T14:40:57.143Z"
   },
   {
    "duration": 9,
    "start_time": "2021-07-07T14:41:06.074Z"
   },
   {
    "duration": 4324,
    "start_time": "2021-07-07T14:41:22.004Z"
   },
   {
    "duration": 11,
    "start_time": "2021-07-07T14:41:33.392Z"
   },
   {
    "duration": 9,
    "start_time": "2021-07-07T14:41:39.288Z"
   },
   {
    "duration": 569,
    "start_time": "2021-07-07T14:42:14.387Z"
   },
   {
    "duration": 197,
    "start_time": "2021-07-07T14:42:14.959Z"
   },
   {
    "duration": 84,
    "start_time": "2021-07-07T14:42:16.052Z"
   },
   {
    "duration": 4,
    "start_time": "2021-07-07T14:42:16.900Z"
   },
   {
    "duration": 27,
    "start_time": "2021-07-07T14:42:19.898Z"
   },
   {
    "duration": 12,
    "start_time": "2021-07-07T14:42:21.577Z"
   },
   {
    "duration": 9,
    "start_time": "2021-07-07T14:42:21.813Z"
   },
   {
    "duration": 9,
    "start_time": "2021-07-07T14:42:22.569Z"
   },
   {
    "duration": 29,
    "start_time": "2021-07-07T14:42:25.837Z"
   },
   {
    "duration": 20,
    "start_time": "2021-07-07T14:42:27.003Z"
   },
   {
    "duration": 21,
    "start_time": "2021-07-07T14:42:28.767Z"
   },
   {
    "duration": 7,
    "start_time": "2021-07-07T14:42:29.838Z"
   },
   {
    "duration": 4,
    "start_time": "2021-07-07T14:43:25.493Z"
   },
   {
    "duration": 7,
    "start_time": "2021-07-07T14:43:26.573Z"
   },
   {
    "duration": 10,
    "start_time": "2021-07-07T14:43:31.639Z"
   },
   {
    "duration": 9,
    "start_time": "2021-07-07T14:43:32.046Z"
   },
   {
    "duration": 10,
    "start_time": "2021-07-07T14:43:33.301Z"
   },
   {
    "duration": 12,
    "start_time": "2021-07-07T14:43:33.658Z"
   },
   {
    "duration": 8,
    "start_time": "2021-07-07T14:43:34.552Z"
   },
   {
    "duration": 9,
    "start_time": "2021-07-07T14:43:35.058Z"
   },
   {
    "duration": 12,
    "start_time": "2021-07-07T14:43:35.914Z"
   },
   {
    "duration": 17,
    "start_time": "2021-07-07T14:45:34.368Z"
   },
   {
    "duration": 512,
    "start_time": "2021-07-07T14:51:58.236Z"
   },
   {
    "duration": 223,
    "start_time": "2021-07-07T14:51:58.750Z"
   },
   {
    "duration": 93,
    "start_time": "2021-07-07T14:51:58.977Z"
   },
   {
    "duration": 4,
    "start_time": "2021-07-07T14:51:59.071Z"
   },
   {
    "duration": 37,
    "start_time": "2021-07-07T14:51:59.077Z"
   },
   {
    "duration": 18,
    "start_time": "2021-07-07T14:51:59.116Z"
   },
   {
    "duration": 10,
    "start_time": "2021-07-07T14:51:59.137Z"
   },
   {
    "duration": 8,
    "start_time": "2021-07-07T14:51:59.149Z"
   },
   {
    "duration": 54,
    "start_time": "2021-07-07T14:51:59.158Z"
   },
   {
    "duration": 18,
    "start_time": "2021-07-07T14:51:59.213Z"
   },
   {
    "duration": 22,
    "start_time": "2021-07-07T14:51:59.232Z"
   },
   {
    "duration": 36,
    "start_time": "2021-07-07T14:51:59.255Z"
   },
   {
    "duration": 7,
    "start_time": "2021-07-07T14:51:59.293Z"
   },
   {
    "duration": 10,
    "start_time": "2021-07-07T14:51:59.302Z"
   },
   {
    "duration": 9,
    "start_time": "2021-07-07T14:51:59.313Z"
   },
   {
    "duration": 11,
    "start_time": "2021-07-07T14:51:59.324Z"
   },
   {
    "duration": 8,
    "start_time": "2021-07-07T14:51:59.337Z"
   },
   {
    "duration": 46,
    "start_time": "2021-07-07T14:51:59.347Z"
   },
   {
    "duration": 22,
    "start_time": "2021-07-07T14:51:59.395Z"
   },
   {
    "duration": 24,
    "start_time": "2021-07-07T14:57:32.911Z"
   },
   {
    "duration": 7,
    "start_time": "2021-07-07T14:58:22.070Z"
   },
   {
    "duration": 4,
    "start_time": "2021-07-07T14:59:11.239Z"
   },
   {
    "duration": 25,
    "start_time": "2021-07-07T15:07:22.208Z"
   },
   {
    "duration": 16,
    "start_time": "2021-07-07T15:08:25.560Z"
   },
   {
    "duration": 15,
    "start_time": "2021-07-07T15:08:40.647Z"
   },
   {
    "duration": 14,
    "start_time": "2021-07-07T15:08:46.669Z"
   },
   {
    "duration": 533,
    "start_time": "2021-07-07T15:18:07.440Z"
   },
   {
    "duration": 173,
    "start_time": "2021-07-07T15:18:07.974Z"
   },
   {
    "duration": 84,
    "start_time": "2021-07-07T15:18:08.149Z"
   },
   {
    "duration": 3,
    "start_time": "2021-07-07T15:18:08.235Z"
   },
   {
    "duration": 30,
    "start_time": "2021-07-07T15:18:08.240Z"
   },
   {
    "duration": 22,
    "start_time": "2021-07-07T15:18:08.272Z"
   },
   {
    "duration": 11,
    "start_time": "2021-07-07T15:18:08.295Z"
   },
   {
    "duration": 11,
    "start_time": "2021-07-07T15:18:08.309Z"
   },
   {
    "duration": 40,
    "start_time": "2021-07-07T15:18:08.322Z"
   },
   {
    "duration": 42,
    "start_time": "2021-07-07T15:18:08.364Z"
   },
   {
    "duration": 22,
    "start_time": "2021-07-07T15:18:08.408Z"
   },
   {
    "duration": 5,
    "start_time": "2021-07-07T15:18:08.432Z"
   },
   {
    "duration": 13,
    "start_time": "2021-07-07T15:18:08.439Z"
   },
   {
    "duration": 9,
    "start_time": "2021-07-07T15:18:08.454Z"
   },
   {
    "duration": 32,
    "start_time": "2021-07-07T15:18:08.465Z"
   },
   {
    "duration": 10,
    "start_time": "2021-07-07T15:18:08.501Z"
   },
   {
    "duration": 7,
    "start_time": "2021-07-07T15:18:08.513Z"
   },
   {
    "duration": 11,
    "start_time": "2021-07-07T15:18:08.521Z"
   },
   {
    "duration": 17,
    "start_time": "2021-07-07T15:18:08.534Z"
   },
   {
    "duration": 44,
    "start_time": "2021-07-07T15:18:08.553Z"
   },
   {
    "duration": 22,
    "start_time": "2021-07-07T15:18:08.599Z"
   },
   {
    "duration": 61,
    "start_time": "2021-07-07T15:18:08.622Z"
   },
   {
    "duration": 7,
    "start_time": "2021-07-07T15:18:39.457Z"
   },
   {
    "duration": 5,
    "start_time": "2021-07-07T16:05:17.020Z"
   },
   {
    "duration": 5,
    "start_time": "2021-07-07T16:51:28.794Z"
   },
   {
    "duration": 546,
    "start_time": "2021-07-07T16:52:26.306Z"
   },
   {
    "duration": 203,
    "start_time": "2021-07-07T16:52:27.523Z"
   },
   {
    "duration": 85,
    "start_time": "2021-07-07T16:52:27.736Z"
   },
   {
    "duration": 4,
    "start_time": "2021-07-07T16:52:27.899Z"
   },
   {
    "duration": 25,
    "start_time": "2021-07-07T16:52:28.674Z"
   },
   {
    "duration": 8,
    "start_time": "2021-07-07T16:52:32.956Z"
   },
   {
    "duration": 18,
    "start_time": "2021-07-07T16:52:35.616Z"
   },
   {
    "duration": 6,
    "start_time": "2021-07-07T16:52:36.913Z"
   },
   {
    "duration": 11,
    "start_time": "2021-07-07T16:52:40.258Z"
   },
   {
    "duration": 10,
    "start_time": "2021-07-07T16:52:46.251Z"
   },
   {
    "duration": 8,
    "start_time": "2021-07-07T16:52:47.182Z"
   },
   {
    "duration": 27,
    "start_time": "2021-07-07T16:53:20.391Z"
   },
   {
    "duration": 20,
    "start_time": "2021-07-07T16:53:22.022Z"
   },
   {
    "duration": 23,
    "start_time": "2021-07-07T16:53:23.690Z"
   },
   {
    "duration": 8,
    "start_time": "2021-07-07T16:53:24.261Z"
   },
   {
    "duration": 4,
    "start_time": "2021-07-07T16:53:38.733Z"
   },
   {
    "duration": 7,
    "start_time": "2021-07-07T16:53:40.445Z"
   },
   {
    "duration": 11,
    "start_time": "2021-07-07T16:53:41.348Z"
   },
   {
    "duration": 13,
    "start_time": "2021-07-07T16:53:45.250Z"
   },
   {
    "duration": 12,
    "start_time": "2021-07-07T16:53:45.467Z"
   },
   {
    "duration": 4,
    "start_time": "2021-07-07T16:55:32.704Z"
   },
   {
    "duration": 12,
    "start_time": "2021-07-07T16:55:49.012Z"
   },
   {
    "duration": 18,
    "start_time": "2021-07-07T16:55:49.547Z"
   },
   {
    "duration": 611,
    "start_time": "2021-07-07T16:58:35.156Z"
   },
   {
    "duration": 200,
    "start_time": "2021-07-07T16:58:35.770Z"
   },
   {
    "duration": 86,
    "start_time": "2021-07-07T16:58:35.972Z"
   },
   {
    "duration": 3,
    "start_time": "2021-07-07T16:58:36.060Z"
   },
   {
    "duration": 27,
    "start_time": "2021-07-07T16:58:36.065Z"
   },
   {
    "duration": 8,
    "start_time": "2021-07-07T16:58:36.094Z"
   },
   {
    "duration": 17,
    "start_time": "2021-07-07T16:58:36.103Z"
   },
   {
    "duration": 5,
    "start_time": "2021-07-07T16:58:36.123Z"
   },
   {
    "duration": 11,
    "start_time": "2021-07-07T16:58:36.130Z"
   },
   {
    "duration": 7,
    "start_time": "2021-07-07T16:58:36.143Z"
   },
   {
    "duration": 37,
    "start_time": "2021-07-07T16:58:36.152Z"
   },
   {
    "duration": 27,
    "start_time": "2021-07-07T16:58:36.191Z"
   },
   {
    "duration": 19,
    "start_time": "2021-07-07T16:58:36.219Z"
   },
   {
    "duration": 49,
    "start_time": "2021-07-07T16:58:36.240Z"
   },
   {
    "duration": 6,
    "start_time": "2021-07-07T16:58:36.291Z"
   },
   {
    "duration": 3,
    "start_time": "2021-07-07T16:58:36.299Z"
   },
   {
    "duration": 13,
    "start_time": "2021-07-07T16:58:36.304Z"
   },
   {
    "duration": 10,
    "start_time": "2021-07-07T16:58:36.319Z"
   },
   {
    "duration": 10,
    "start_time": "2021-07-07T16:58:36.331Z"
   },
   {
    "duration": 44,
    "start_time": "2021-07-07T16:58:36.343Z"
   },
   {
    "duration": 4,
    "start_time": "2021-07-07T16:58:36.388Z"
   },
   {
    "duration": 13,
    "start_time": "2021-07-07T16:58:36.394Z"
   },
   {
    "duration": 16,
    "start_time": "2021-07-07T16:58:36.410Z"
   },
   {
    "duration": 8,
    "start_time": "2021-07-07T17:02:31.629Z"
   },
   {
    "duration": 8,
    "start_time": "2021-07-07T17:02:34.308Z"
   },
   {
    "duration": 6,
    "start_time": "2021-07-07T17:05:13.483Z"
   },
   {
    "duration": 17,
    "start_time": "2021-07-07T17:05:20.606Z"
   },
   {
    "duration": 7,
    "start_time": "2021-07-07T17:05:34.638Z"
   },
   {
    "duration": 3,
    "start_time": "2021-07-07T17:06:31.883Z"
   },
   {
    "duration": 570,
    "start_time": "2021-07-07T17:06:37.165Z"
   },
   {
    "duration": 174,
    "start_time": "2021-07-07T17:06:37.737Z"
   },
   {
    "duration": 47,
    "start_time": "2021-07-07T17:06:37.913Z"
   },
   {
    "duration": 3,
    "start_time": "2021-07-07T17:06:37.962Z"
   },
   {
    "duration": 27,
    "start_time": "2021-07-07T17:06:37.967Z"
   },
   {
    "duration": 7,
    "start_time": "2021-07-07T17:06:37.996Z"
   },
   {
    "duration": 16,
    "start_time": "2021-07-07T17:06:38.005Z"
   },
   {
    "duration": 6,
    "start_time": "2021-07-07T17:06:38.024Z"
   },
   {
    "duration": 12,
    "start_time": "2021-07-07T17:06:38.031Z"
   },
   {
    "duration": 41,
    "start_time": "2021-07-07T17:06:38.045Z"
   },
   {
    "duration": 8,
    "start_time": "2021-07-07T17:06:38.088Z"
   },
   {
    "duration": 26,
    "start_time": "2021-07-07T17:06:38.098Z"
   },
   {
    "duration": 17,
    "start_time": "2021-07-07T17:06:38.126Z"
   },
   {
    "duration": 43,
    "start_time": "2021-07-07T17:06:38.144Z"
   },
   {
    "duration": 6,
    "start_time": "2021-07-07T17:06:38.188Z"
   },
   {
    "duration": 5,
    "start_time": "2021-07-07T17:06:38.195Z"
   },
   {
    "duration": 9,
    "start_time": "2021-07-07T17:06:38.201Z"
   },
   {
    "duration": 12,
    "start_time": "2021-07-07T17:06:38.212Z"
   },
   {
    "duration": 11,
    "start_time": "2021-07-07T17:06:38.226Z"
   },
   {
    "duration": 47,
    "start_time": "2021-07-07T17:06:38.239Z"
   },
   {
    "duration": 4,
    "start_time": "2021-07-07T17:06:38.288Z"
   },
   {
    "duration": 13,
    "start_time": "2021-07-07T17:06:38.293Z"
   },
   {
    "duration": 5,
    "start_time": "2021-07-07T17:06:38.309Z"
   },
   {
    "duration": 18,
    "start_time": "2021-07-07T17:06:38.325Z"
   },
   {
    "duration": 20,
    "start_time": "2021-07-07T17:07:02.805Z"
   },
   {
    "duration": 19,
    "start_time": "2021-07-07T17:07:08.527Z"
   },
   {
    "duration": 19,
    "start_time": "2021-07-07T17:07:12.758Z"
   },
   {
    "duration": 22,
    "start_time": "2021-07-07T17:07:17.497Z"
   },
   {
    "duration": 19,
    "start_time": "2021-07-07T17:07:19.645Z"
   },
   {
    "duration": 10,
    "start_time": "2021-07-07T17:07:34.239Z"
   },
   {
    "duration": 17,
    "start_time": "2021-07-07T17:07:54.144Z"
   },
   {
    "duration": 14,
    "start_time": "2021-07-07T17:08:14.357Z"
   },
   {
    "duration": 616,
    "start_time": "2021-07-07T17:08:45.254Z"
   },
   {
    "duration": 178,
    "start_time": "2021-07-07T17:08:45.872Z"
   },
   {
    "duration": 60,
    "start_time": "2021-07-07T17:08:46.054Z"
   },
   {
    "duration": 3,
    "start_time": "2021-07-07T17:08:46.116Z"
   },
   {
    "duration": 26,
    "start_time": "2021-07-07T17:08:46.121Z"
   },
   {
    "duration": 7,
    "start_time": "2021-07-07T17:08:46.149Z"
   },
   {
    "duration": 17,
    "start_time": "2021-07-07T17:08:46.158Z"
   },
   {
    "duration": 14,
    "start_time": "2021-07-07T17:08:46.176Z"
   },
   {
    "duration": 17,
    "start_time": "2021-07-07T17:08:46.193Z"
   },
   {
    "duration": 9,
    "start_time": "2021-07-07T17:08:46.211Z"
   },
   {
    "duration": 21,
    "start_time": "2021-07-07T17:08:46.221Z"
   },
   {
    "duration": 49,
    "start_time": "2021-07-07T17:08:46.244Z"
   },
   {
    "duration": 24,
    "start_time": "2021-07-07T17:08:46.295Z"
   },
   {
    "duration": 22,
    "start_time": "2021-07-07T17:08:46.321Z"
   },
   {
    "duration": 6,
    "start_time": "2021-07-07T17:08:46.345Z"
   },
   {
    "duration": 5,
    "start_time": "2021-07-07T17:08:46.353Z"
   },
   {
    "duration": 13,
    "start_time": "2021-07-07T17:08:46.386Z"
   },
   {
    "duration": 12,
    "start_time": "2021-07-07T17:08:46.402Z"
   },
   {
    "duration": 10,
    "start_time": "2021-07-07T17:08:46.415Z"
   },
   {
    "duration": 7,
    "start_time": "2021-07-07T17:08:46.427Z"
   },
   {
    "duration": 8,
    "start_time": "2021-07-07T17:08:46.435Z"
   },
   {
    "duration": 68,
    "start_time": "2021-07-07T17:08:46.446Z"
   },
   {
    "duration": 13,
    "start_time": "2021-07-07T17:08:46.516Z"
   },
   {
    "duration": 78,
    "start_time": "2021-07-07T17:08:46.530Z"
   },
   {
    "duration": 40,
    "start_time": "2021-07-07T17:09:08.185Z"
   },
   {
    "duration": 16,
    "start_time": "2021-07-07T17:09:19.324Z"
   },
   {
    "duration": 21,
    "start_time": "2021-07-07T17:09:23.290Z"
   },
   {
    "duration": 13,
    "start_time": "2021-07-07T17:09:54.812Z"
   },
   {
    "duration": 13,
    "start_time": "2021-07-07T17:10:02.039Z"
   },
   {
    "duration": 10,
    "start_time": "2021-07-07T17:10:29.632Z"
   },
   {
    "duration": 13,
    "start_time": "2021-07-07T17:10:52.372Z"
   },
   {
    "duration": 13,
    "start_time": "2021-07-07T17:11:17.270Z"
   },
   {
    "duration": 13,
    "start_time": "2021-07-07T17:14:59.284Z"
   },
   {
    "duration": 547,
    "start_time": "2021-07-07T17:18:52.403Z"
   },
   {
    "duration": 163,
    "start_time": "2021-07-07T17:18:52.952Z"
   },
   {
    "duration": 44,
    "start_time": "2021-07-07T17:18:53.117Z"
   },
   {
    "duration": 3,
    "start_time": "2021-07-07T17:18:53.162Z"
   },
   {
    "duration": 26,
    "start_time": "2021-07-07T17:18:53.167Z"
   },
   {
    "duration": 6,
    "start_time": "2021-07-07T17:18:53.195Z"
   },
   {
    "duration": 15,
    "start_time": "2021-07-07T17:18:53.203Z"
   },
   {
    "duration": 5,
    "start_time": "2021-07-07T17:18:53.220Z"
   },
   {
    "duration": 11,
    "start_time": "2021-07-07T17:18:53.228Z"
   },
   {
    "duration": 9,
    "start_time": "2021-07-07T17:18:53.241Z"
   },
   {
    "duration": 41,
    "start_time": "2021-07-07T17:18:53.252Z"
   },
   {
    "duration": 33,
    "start_time": "2021-07-07T17:18:53.295Z"
   },
   {
    "duration": 19,
    "start_time": "2021-07-07T17:18:53.330Z"
   },
   {
    "duration": 49,
    "start_time": "2021-07-07T17:18:53.350Z"
   },
   {
    "duration": 5,
    "start_time": "2021-07-07T17:18:53.401Z"
   },
   {
    "duration": 5,
    "start_time": "2021-07-07T17:18:53.408Z"
   },
   {
    "duration": 11,
    "start_time": "2021-07-07T17:18:53.414Z"
   },
   {
    "duration": 9,
    "start_time": "2021-07-07T17:18:53.427Z"
   },
   {
    "duration": 10,
    "start_time": "2021-07-07T17:18:53.437Z"
   },
   {
    "duration": 39,
    "start_time": "2021-07-07T17:18:53.448Z"
   },
   {
    "duration": 26,
    "start_time": "2021-07-07T17:18:55.799Z"
   },
   {
    "duration": 598,
    "start_time": "2021-07-07T17:20:17.862Z"
   },
   {
    "duration": 161,
    "start_time": "2021-07-07T17:20:18.462Z"
   },
   {
    "duration": 45,
    "start_time": "2021-07-07T17:20:18.626Z"
   },
   {
    "duration": 4,
    "start_time": "2021-07-07T17:20:18.673Z"
   },
   {
    "duration": 38,
    "start_time": "2021-07-07T17:20:26.877Z"
   },
   {
    "duration": 7,
    "start_time": "2021-07-07T17:20:37.405Z"
   },
   {
    "duration": 19,
    "start_time": "2021-07-07T17:20:51.534Z"
   },
   {
    "duration": 5,
    "start_time": "2021-07-07T17:20:57.228Z"
   },
   {
    "duration": 7,
    "start_time": "2021-07-07T17:21:08.235Z"
   },
   {
    "duration": 19,
    "start_time": "2021-07-07T17:21:42.158Z"
   },
   {
    "duration": 14,
    "start_time": "2021-07-07T17:21:50.225Z"
   },
   {
    "duration": 22,
    "start_time": "2021-07-07T17:22:54.104Z"
   },
   {
    "duration": 5,
    "start_time": "2021-07-07T17:22:56.371Z"
   },
   {
    "duration": 14,
    "start_time": "2021-07-07T17:22:58.316Z"
   },
   {
    "duration": 5,
    "start_time": "2021-07-07T17:22:58.493Z"
   },
   {
    "duration": 35,
    "start_time": "2021-07-07T17:22:59.666Z"
   },
   {
    "duration": 6,
    "start_time": "2021-07-07T17:23:02.410Z"
   },
   {
    "duration": 611,
    "start_time": "2021-07-07T17:24:59.664Z"
   },
   {
    "duration": 178,
    "start_time": "2021-07-07T17:25:01.945Z"
   },
   {
    "duration": 47,
    "start_time": "2021-07-07T17:25:02.125Z"
   },
   {
    "duration": 2,
    "start_time": "2021-07-07T17:25:07.903Z"
   },
   {
    "duration": 254,
    "start_time": "2021-07-07T17:25:08.232Z"
   },
   {
    "duration": 182,
    "start_time": "2021-07-07T17:25:08.671Z"
   },
   {
    "duration": 6,
    "start_time": "2021-07-07T17:25:13.104Z"
   },
   {
    "duration": 36,
    "start_time": "2021-07-07T17:25:13.662Z"
   },
   {
    "duration": 7,
    "start_time": "2021-07-07T17:25:14.528Z"
   },
   {
    "duration": 24,
    "start_time": "2021-07-07T17:25:27.982Z"
   },
   {
    "duration": 3,
    "start_time": "2021-07-07T17:25:48.982Z"
   },
   {
    "duration": 165,
    "start_time": "2021-07-07T17:25:48.987Z"
   },
   {
    "duration": 50,
    "start_time": "2021-07-07T17:25:49.154Z"
   },
   {
    "duration": 4,
    "start_time": "2021-07-07T17:25:49.206Z"
   },
   {
    "duration": 26,
    "start_time": "2021-07-07T17:25:49.212Z"
   },
   {
    "duration": 7,
    "start_time": "2021-07-07T17:25:49.240Z"
   },
   {
    "duration": 16,
    "start_time": "2021-07-07T17:25:49.249Z"
   },
   {
    "duration": 22,
    "start_time": "2021-07-07T17:25:49.266Z"
   },
   {
    "duration": 16,
    "start_time": "2021-07-07T17:25:49.291Z"
   },
   {
    "duration": 9,
    "start_time": "2021-07-07T17:25:49.309Z"
   },
   {
    "duration": 7,
    "start_time": "2021-07-07T17:25:49.319Z"
   },
   {
    "duration": 28,
    "start_time": "2021-07-07T17:25:49.328Z"
   },
   {
    "duration": 44,
    "start_time": "2021-07-07T17:25:49.357Z"
   },
   {
    "duration": 22,
    "start_time": "2021-07-07T17:25:49.403Z"
   },
   {
    "duration": 7,
    "start_time": "2021-07-07T17:25:49.427Z"
   },
   {
    "duration": 3,
    "start_time": "2021-07-07T17:25:49.436Z"
   },
   {
    "duration": 44,
    "start_time": "2021-07-07T17:25:49.441Z"
   },
   {
    "duration": 12,
    "start_time": "2021-07-07T17:25:49.488Z"
   },
   {
    "duration": 13,
    "start_time": "2021-07-07T17:25:49.502Z"
   },
   {
    "duration": 10,
    "start_time": "2021-07-07T17:25:49.516Z"
   },
   {
    "duration": 62,
    "start_time": "2021-07-07T17:25:49.527Z"
   },
   {
    "duration": 26,
    "start_time": "2021-07-07T17:26:51.809Z"
   },
   {
    "duration": 26,
    "start_time": "2021-07-07T17:26:55.759Z"
   },
   {
    "duration": 26,
    "start_time": "2021-07-07T17:27:04.501Z"
   },
   {
    "duration": 25,
    "start_time": "2021-07-07T17:28:24.859Z"
   },
   {
    "duration": 21,
    "start_time": "2021-07-07T17:28:55.250Z"
   },
   {
    "duration": 21,
    "start_time": "2021-07-07T17:28:58.885Z"
   },
   {
    "duration": 7,
    "start_time": "2021-07-07T17:45:40.972Z"
   },
   {
    "duration": 13,
    "start_time": "2021-07-07T17:45:42.529Z"
   },
   {
    "duration": 27,
    "start_time": "2021-07-07T17:45:51.026Z"
   },
   {
    "duration": 518,
    "start_time": "2021-07-07T17:46:15.532Z"
   },
   {
    "duration": 235,
    "start_time": "2021-07-07T17:46:16.053Z"
   },
   {
    "duration": 80,
    "start_time": "2021-07-07T17:46:16.292Z"
   },
   {
    "duration": 5,
    "start_time": "2021-07-07T17:46:16.373Z"
   },
   {
    "duration": 26,
    "start_time": "2021-07-07T17:46:16.380Z"
   },
   {
    "duration": 7,
    "start_time": "2021-07-07T17:46:16.408Z"
   },
   {
    "duration": 16,
    "start_time": "2021-07-07T17:46:16.418Z"
   },
   {
    "duration": 5,
    "start_time": "2021-07-07T17:46:16.436Z"
   },
   {
    "duration": 13,
    "start_time": "2021-07-07T17:46:16.442Z"
   },
   {
    "duration": 35,
    "start_time": "2021-07-07T17:46:16.456Z"
   },
   {
    "duration": 8,
    "start_time": "2021-07-07T17:46:16.493Z"
   },
   {
    "duration": 28,
    "start_time": "2021-07-07T17:46:16.502Z"
   },
   {
    "duration": 17,
    "start_time": "2021-07-07T17:46:16.532Z"
   },
   {
    "duration": 44,
    "start_time": "2021-07-07T17:46:16.551Z"
   },
   {
    "duration": 6,
    "start_time": "2021-07-07T17:46:16.597Z"
   },
   {
    "duration": 4,
    "start_time": "2021-07-07T17:46:16.605Z"
   },
   {
    "duration": 9,
    "start_time": "2021-07-07T17:46:16.610Z"
   },
   {
    "duration": 9,
    "start_time": "2021-07-07T17:46:16.621Z"
   },
   {
    "duration": 10,
    "start_time": "2021-07-07T17:46:16.632Z"
   },
   {
    "duration": 43,
    "start_time": "2021-07-07T17:46:16.644Z"
   },
   {
    "duration": 26,
    "start_time": "2021-07-07T17:46:16.689Z"
   },
   {
    "duration": 19,
    "start_time": "2021-07-07T17:46:16.718Z"
   },
   {
    "duration": 8,
    "start_time": "2021-07-07T17:46:16.738Z"
   },
   {
    "duration": 43,
    "start_time": "2021-07-07T17:46:16.747Z"
   },
   {
    "duration": 19,
    "start_time": "2021-07-07T17:46:16.791Z"
   },
   {
    "duration": 9,
    "start_time": "2021-07-07T17:46:16.812Z"
   },
   {
    "duration": 60,
    "start_time": "2021-07-07T17:46:16.822Z"
   },
   {
    "duration": -8,
    "start_time": "2021-07-07T17:46:16.892Z"
   },
   {
    "duration": 12,
    "start_time": "2021-07-07T17:48:47.707Z"
   },
   {
    "duration": 553,
    "start_time": "2021-07-07T18:10:09.350Z"
   },
   {
    "duration": 230,
    "start_time": "2021-07-07T18:10:09.905Z"
   },
   {
    "duration": 97,
    "start_time": "2021-07-07T18:10:10.137Z"
   },
   {
    "duration": 5,
    "start_time": "2021-07-07T18:10:10.236Z"
   },
   {
    "duration": 29,
    "start_time": "2021-07-07T18:10:10.242Z"
   },
   {
    "duration": 7,
    "start_time": "2021-07-07T18:10:10.272Z"
   },
   {
    "duration": 15,
    "start_time": "2021-07-07T18:10:10.281Z"
   },
   {
    "duration": 4,
    "start_time": "2021-07-07T18:10:10.299Z"
   },
   {
    "duration": 14,
    "start_time": "2021-07-07T18:10:10.305Z"
   },
   {
    "duration": 8,
    "start_time": "2021-07-07T18:10:10.321Z"
   },
   {
    "duration": 8,
    "start_time": "2021-07-07T18:10:10.331Z"
   },
   {
    "duration": 56,
    "start_time": "2021-07-07T18:10:10.341Z"
   },
   {
    "duration": 19,
    "start_time": "2021-07-07T18:10:10.399Z"
   },
   {
    "duration": 23,
    "start_time": "2021-07-07T18:10:10.419Z"
   },
   {
    "duration": 6,
    "start_time": "2021-07-07T18:10:10.444Z"
   },
   {
    "duration": 9,
    "start_time": "2021-07-07T18:10:10.451Z"
   },
   {
    "duration": 30,
    "start_time": "2021-07-07T18:10:10.462Z"
   },
   {
    "duration": 9,
    "start_time": "2021-07-07T18:10:10.494Z"
   },
   {
    "duration": 14,
    "start_time": "2021-07-07T18:10:10.505Z"
   },
   {
    "duration": 7,
    "start_time": "2021-07-07T18:10:10.521Z"
   },
   {
    "duration": 26,
    "start_time": "2021-07-07T18:10:10.530Z"
   },
   {
    "duration": 44,
    "start_time": "2021-07-07T18:10:10.558Z"
   },
   {
    "duration": 7,
    "start_time": "2021-07-07T18:10:10.605Z"
   },
   {
    "duration": 11,
    "start_time": "2021-07-07T18:10:10.614Z"
   },
   {
    "duration": 19,
    "start_time": "2021-07-07T18:10:10.626Z"
   },
   {
    "duration": 44,
    "start_time": "2021-07-07T18:10:10.646Z"
   },
   {
    "duration": 516,
    "start_time": "2021-07-07T18:14:00.826Z"
   },
   {
    "duration": 230,
    "start_time": "2021-07-07T18:14:01.344Z"
   },
   {
    "duration": 105,
    "start_time": "2021-07-07T18:14:01.576Z"
   },
   {
    "duration": 5,
    "start_time": "2021-07-07T18:14:01.683Z"
   },
   {
    "duration": 46,
    "start_time": "2021-07-07T18:14:01.690Z"
   },
   {
    "duration": 7,
    "start_time": "2021-07-07T18:14:01.738Z"
   },
   {
    "duration": 20,
    "start_time": "2021-07-07T18:14:01.747Z"
   },
   {
    "duration": 16,
    "start_time": "2021-07-07T18:14:01.769Z"
   },
   {
    "duration": 14,
    "start_time": "2021-07-07T18:14:01.787Z"
   },
   {
    "duration": 15,
    "start_time": "2021-07-07T18:14:01.803Z"
   },
   {
    "duration": 12,
    "start_time": "2021-07-07T18:14:01.820Z"
   },
   {
    "duration": 35,
    "start_time": "2021-07-07T18:14:01.833Z"
   },
   {
    "duration": 31,
    "start_time": "2021-07-07T18:14:01.869Z"
   },
   {
    "duration": 37,
    "start_time": "2021-07-07T18:14:01.902Z"
   },
   {
    "duration": 8,
    "start_time": "2021-07-07T18:14:01.942Z"
   },
   {
    "duration": 16,
    "start_time": "2021-07-07T18:14:01.952Z"
   },
   {
    "duration": 13,
    "start_time": "2021-07-07T18:14:01.970Z"
   },
   {
    "duration": 32,
    "start_time": "2021-07-07T18:14:01.985Z"
   },
   {
    "duration": 11,
    "start_time": "2021-07-07T18:14:02.019Z"
   },
   {
    "duration": 22,
    "start_time": "2021-07-07T18:14:02.031Z"
   },
   {
    "duration": 27,
    "start_time": "2021-07-07T18:14:02.055Z"
   },
   {
    "duration": 18,
    "start_time": "2021-07-07T18:14:02.084Z"
   },
   {
    "duration": 18,
    "start_time": "2021-07-07T18:14:02.106Z"
   },
   {
    "duration": 11,
    "start_time": "2021-07-07T18:14:02.126Z"
   },
   {
    "duration": 21,
    "start_time": "2021-07-07T18:14:02.138Z"
   },
   {
    "duration": 32,
    "start_time": "2021-07-07T18:14:02.161Z"
   },
   {
    "duration": 28,
    "start_time": "2021-07-07T18:14:44.295Z"
   },
   {
    "duration": 6,
    "start_time": "2021-07-07T18:15:05.834Z"
   },
   {
    "duration": 511,
    "start_time": "2021-07-07T18:15:41.541Z"
   },
   {
    "duration": 183,
    "start_time": "2021-07-07T18:15:42.054Z"
   },
   {
    "duration": 50,
    "start_time": "2021-07-07T18:15:42.239Z"
   },
   {
    "duration": 5,
    "start_time": "2021-07-07T18:15:42.291Z"
   },
   {
    "duration": 48,
    "start_time": "2021-07-07T18:15:42.297Z"
   },
   {
    "duration": 8,
    "start_time": "2021-07-07T18:15:42.346Z"
   },
   {
    "duration": 17,
    "start_time": "2021-07-07T18:15:42.356Z"
   },
   {
    "duration": 15,
    "start_time": "2021-07-07T18:15:42.375Z"
   },
   {
    "duration": 12,
    "start_time": "2021-07-07T18:15:42.392Z"
   },
   {
    "duration": 7,
    "start_time": "2021-07-07T18:15:42.406Z"
   },
   {
    "duration": 7,
    "start_time": "2021-07-07T18:15:42.415Z"
   },
   {
    "duration": 29,
    "start_time": "2021-07-07T18:15:42.423Z"
   },
   {
    "duration": 43,
    "start_time": "2021-07-07T18:15:42.453Z"
   },
   {
    "duration": 18,
    "start_time": "2021-07-07T18:15:42.497Z"
   },
   {
    "duration": 6,
    "start_time": "2021-07-07T18:15:42.516Z"
   },
   {
    "duration": 3,
    "start_time": "2021-07-07T18:15:42.523Z"
   },
   {
    "duration": 18,
    "start_time": "2021-07-07T18:15:42.528Z"
   },
   {
    "duration": 10,
    "start_time": "2021-07-07T18:15:42.547Z"
   },
   {
    "duration": 36,
    "start_time": "2021-07-07T18:15:42.559Z"
   },
   {
    "duration": 8,
    "start_time": "2021-07-07T18:15:42.597Z"
   },
   {
    "duration": 28,
    "start_time": "2021-07-07T18:15:42.606Z"
   },
   {
    "duration": 52,
    "start_time": "2021-07-07T18:15:42.635Z"
   },
   {
    "duration": 7,
    "start_time": "2021-07-07T18:15:42.690Z"
   },
   {
    "duration": 10,
    "start_time": "2021-07-07T18:15:42.699Z"
   },
   {
    "duration": 19,
    "start_time": "2021-07-07T18:15:42.711Z"
   },
   {
    "duration": 9,
    "start_time": "2021-07-07T18:15:42.732Z"
   },
   {
    "duration": 5,
    "start_time": "2021-07-07T18:15:42.743Z"
   },
   {
    "duration": 1450,
    "start_time": "2021-07-07T18:15:51.984Z"
   },
   {
    "duration": 161,
    "start_time": "2021-07-07T18:15:53.435Z"
   },
   {
    "duration": 124,
    "start_time": "2021-07-07T18:15:53.598Z"
   },
   {
    "duration": 5,
    "start_time": "2021-07-07T18:15:53.724Z"
   },
   {
    "duration": 34,
    "start_time": "2021-07-07T18:15:53.730Z"
   },
   {
    "duration": 7,
    "start_time": "2021-07-07T18:15:53.765Z"
   },
   {
    "duration": 15,
    "start_time": "2021-07-07T18:15:53.773Z"
   },
   {
    "duration": 5,
    "start_time": "2021-07-07T18:15:53.791Z"
   },
   {
    "duration": 19,
    "start_time": "2021-07-07T18:15:53.798Z"
   },
   {
    "duration": 9,
    "start_time": "2021-07-07T18:15:53.818Z"
   },
   {
    "duration": 19,
    "start_time": "2021-07-07T18:15:53.828Z"
   },
   {
    "duration": 27,
    "start_time": "2021-07-07T18:15:53.848Z"
   },
   {
    "duration": 16,
    "start_time": "2021-07-07T18:15:53.884Z"
   },
   {
    "duration": 29,
    "start_time": "2021-07-07T18:15:53.901Z"
   },
   {
    "duration": 5,
    "start_time": "2021-07-07T18:15:53.932Z"
   },
   {
    "duration": 15,
    "start_time": "2021-07-07T18:15:53.939Z"
   },
   {
    "duration": 13,
    "start_time": "2021-07-07T18:15:53.956Z"
   },
   {
    "duration": 20,
    "start_time": "2021-07-07T18:15:53.971Z"
   },
   {
    "duration": 14,
    "start_time": "2021-07-07T18:15:53.992Z"
   },
   {
    "duration": 9,
    "start_time": "2021-07-07T18:15:54.009Z"
   },
   {
    "duration": 28,
    "start_time": "2021-07-07T18:15:54.020Z"
   },
   {
    "duration": 50,
    "start_time": "2021-07-07T18:15:54.051Z"
   },
   {
    "duration": 8,
    "start_time": "2021-07-07T18:15:54.105Z"
   },
   {
    "duration": 11,
    "start_time": "2021-07-07T18:15:54.115Z"
   },
   {
    "duration": 20,
    "start_time": "2021-07-07T18:15:54.128Z"
   },
   {
    "duration": 13,
    "start_time": "2021-07-07T18:15:54.184Z"
   },
   {
    "duration": 7,
    "start_time": "2021-07-07T18:15:54.199Z"
   },
   {
    "duration": 7,
    "start_time": "2021-07-07T18:17:08.042Z"
   },
   {
    "duration": 8,
    "start_time": "2021-07-07T18:17:21.008Z"
   },
   {
    "duration": 7,
    "start_time": "2021-07-07T18:17:29.003Z"
   },
   {
    "duration": 8,
    "start_time": "2021-07-07T18:17:32.492Z"
   },
   {
    "duration": 9,
    "start_time": "2021-07-07T18:17:41.758Z"
   },
   {
    "duration": 255,
    "start_time": "2021-07-07T18:20:20.897Z"
   },
   {
    "duration": 173,
    "start_time": "2021-07-07T18:20:26.636Z"
   },
   {
    "duration": 7,
    "start_time": "2021-07-07T18:21:47.164Z"
   },
   {
    "duration": 254,
    "start_time": "2021-07-07T18:23:08.703Z"
   },
   {
    "duration": 21,
    "start_time": "2021-07-07T18:23:22.506Z"
   },
   {
    "duration": 315,
    "start_time": "2021-07-07T18:25:54.801Z"
   },
   {
    "duration": 34,
    "start_time": "2021-07-07T18:26:51.817Z"
   },
   {
    "duration": 327,
    "start_time": "2021-07-07T18:26:56.147Z"
   },
   {
    "duration": 342,
    "start_time": "2021-07-07T18:27:15.887Z"
   },
   {
    "duration": 302,
    "start_time": "2021-07-07T18:28:18.569Z"
   },
   {
    "duration": 226,
    "start_time": "2021-07-07T18:29:20.879Z"
   },
   {
    "duration": 207,
    "start_time": "2021-07-07T18:29:58.114Z"
   },
   {
    "duration": 140,
    "start_time": "2021-07-07T18:32:04.372Z"
   },
   {
    "duration": 158,
    "start_time": "2021-07-07T18:32:32.508Z"
   },
   {
    "duration": 145,
    "start_time": "2021-07-07T18:32:41.365Z"
   },
   {
    "duration": 132,
    "start_time": "2021-07-07T18:32:45.199Z"
   },
   {
    "duration": 11,
    "start_time": "2021-07-07T18:35:24.679Z"
   },
   {
    "duration": 268,
    "start_time": "2021-07-07T18:36:16.145Z"
   },
   {
    "duration": 227,
    "start_time": "2021-07-07T18:37:04.918Z"
   },
   {
    "duration": 3,
    "start_time": "2021-07-07T18:37:33.012Z"
   },
   {
    "duration": 671,
    "start_time": "2021-07-07T18:37:38.295Z"
   },
   {
    "duration": 54,
    "start_time": "2021-07-07T18:37:53.406Z"
   },
   {
    "duration": 631,
    "start_time": "2021-07-07T18:37:56.463Z"
   },
   {
    "duration": 19,
    "start_time": "2021-07-07T18:39:40.535Z"
   },
   {
    "duration": 20,
    "start_time": "2021-07-07T18:40:12.236Z"
   },
   {
    "duration": 633,
    "start_time": "2021-07-07T18:42:00.398Z"
   },
   {
    "duration": 218,
    "start_time": "2021-07-07T18:42:01.033Z"
   },
   {
    "duration": 49,
    "start_time": "2021-07-07T18:42:01.253Z"
   },
   {
    "duration": 5,
    "start_time": "2021-07-07T18:42:01.303Z"
   },
   {
    "duration": 27,
    "start_time": "2021-07-07T18:42:01.310Z"
   },
   {
    "duration": 8,
    "start_time": "2021-07-07T18:42:01.339Z"
   },
   {
    "duration": 20,
    "start_time": "2021-07-07T18:42:01.348Z"
   },
   {
    "duration": 6,
    "start_time": "2021-07-07T18:42:01.386Z"
   },
   {
    "duration": 16,
    "start_time": "2021-07-07T18:42:01.394Z"
   },
   {
    "duration": 9,
    "start_time": "2021-07-07T18:42:01.411Z"
   },
   {
    "duration": 11,
    "start_time": "2021-07-07T18:42:01.421Z"
   },
   {
    "duration": 31,
    "start_time": "2021-07-07T18:42:01.434Z"
   },
   {
    "duration": 18,
    "start_time": "2021-07-07T18:42:01.485Z"
   },
   {
    "duration": 23,
    "start_time": "2021-07-07T18:42:01.505Z"
   },
   {
    "duration": 6,
    "start_time": "2021-07-07T18:42:01.530Z"
   },
   {
    "duration": 10,
    "start_time": "2021-07-07T18:42:01.538Z"
   },
   {
    "duration": 13,
    "start_time": "2021-07-07T18:42:01.550Z"
   },
   {
    "duration": 24,
    "start_time": "2021-07-07T18:42:01.564Z"
   },
   {
    "duration": 20,
    "start_time": "2021-07-07T18:42:01.590Z"
   },
   {
    "duration": 8,
    "start_time": "2021-07-07T18:42:01.611Z"
   },
   {
    "duration": 31,
    "start_time": "2021-07-07T18:42:01.620Z"
   },
   {
    "duration": 39,
    "start_time": "2021-07-07T18:42:01.653Z"
   },
   {
    "duration": 8,
    "start_time": "2021-07-07T18:42:01.696Z"
   },
   {
    "duration": 13,
    "start_time": "2021-07-07T18:42:01.705Z"
   },
   {
    "duration": 20,
    "start_time": "2021-07-07T18:42:01.720Z"
   },
   {
    "duration": 12,
    "start_time": "2021-07-07T18:42:01.741Z"
   },
   {
    "duration": 35,
    "start_time": "2021-07-07T18:42:01.755Z"
   },
   {
    "duration": 14,
    "start_time": "2021-07-07T18:42:01.792Z"
   },
   {
    "duration": 188,
    "start_time": "2021-07-07T18:42:01.808Z"
   },
   {
    "duration": 19,
    "start_time": "2021-07-07T18:42:01.998Z"
   },
   {
    "duration": 175,
    "start_time": "2021-07-07T18:42:02.019Z"
   },
   {
    "duration": 134,
    "start_time": "2021-07-07T18:42:02.196Z"
   },
   {
    "duration": 10,
    "start_time": "2021-07-07T18:42:02.331Z"
   },
   {
    "duration": 19,
    "start_time": "2021-07-07T18:42:02.343Z"
   },
   {
    "duration": 628,
    "start_time": "2021-07-07T18:46:30.701Z"
   },
   {
    "duration": 183,
    "start_time": "2021-07-07T18:46:31.331Z"
   },
   {
    "duration": 48,
    "start_time": "2021-07-07T18:46:31.516Z"
   },
   {
    "duration": 5,
    "start_time": "2021-07-07T18:46:31.566Z"
   },
   {
    "duration": 28,
    "start_time": "2021-07-07T18:46:31.572Z"
   },
   {
    "duration": 8,
    "start_time": "2021-07-07T18:46:31.602Z"
   },
   {
    "duration": 19,
    "start_time": "2021-07-07T18:46:31.611Z"
   },
   {
    "duration": 6,
    "start_time": "2021-07-07T18:46:31.633Z"
   },
   {
    "duration": 17,
    "start_time": "2021-07-07T18:46:31.642Z"
   },
   {
    "duration": 10,
    "start_time": "2021-07-07T18:46:31.684Z"
   },
   {
    "duration": 9,
    "start_time": "2021-07-07T18:46:31.695Z"
   },
   {
    "duration": 28,
    "start_time": "2021-07-07T18:46:31.705Z"
   },
   {
    "duration": 18,
    "start_time": "2021-07-07T18:46:31.735Z"
   },
   {
    "duration": 48,
    "start_time": "2021-07-07T18:46:31.755Z"
   },
   {
    "duration": 6,
    "start_time": "2021-07-07T18:46:31.804Z"
   },
   {
    "duration": 4,
    "start_time": "2021-07-07T18:46:31.812Z"
   },
   {
    "duration": 9,
    "start_time": "2021-07-07T18:46:31.817Z"
   },
   {
    "duration": 10,
    "start_time": "2021-07-07T18:46:31.827Z"
   },
   {
    "duration": 12,
    "start_time": "2021-07-07T18:46:31.838Z"
   },
   {
    "duration": 39,
    "start_time": "2021-07-07T18:46:31.851Z"
   },
   {
    "duration": 24,
    "start_time": "2021-07-07T18:46:31.892Z"
   },
   {
    "duration": 15,
    "start_time": "2021-07-07T18:46:31.918Z"
   },
   {
    "duration": 7,
    "start_time": "2021-07-07T18:46:31.936Z"
   },
   {
    "duration": 8,
    "start_time": "2021-07-07T18:46:31.944Z"
   },
   {
    "duration": 19,
    "start_time": "2021-07-07T18:46:31.984Z"
   },
   {
    "duration": 10,
    "start_time": "2021-07-07T18:46:32.004Z"
   },
   {
    "duration": 5,
    "start_time": "2021-07-07T18:46:32.016Z"
   },
   {
    "duration": 9,
    "start_time": "2021-07-07T18:46:32.023Z"
   },
   {
    "duration": 199,
    "start_time": "2021-07-07T18:46:32.033Z"
   },
   {
    "duration": 19,
    "start_time": "2021-07-07T18:46:32.234Z"
   },
   {
    "duration": 159,
    "start_time": "2021-07-07T18:46:32.255Z"
   },
   {
    "duration": 134,
    "start_time": "2021-07-07T18:46:32.416Z"
   },
   {
    "duration": 10,
    "start_time": "2021-07-07T18:46:32.552Z"
   },
   {
    "duration": 34,
    "start_time": "2021-07-07T18:46:32.563Z"
   },
   {
    "duration": 1039,
    "start_time": "2021-07-08T08:41:09.419Z"
   },
   {
    "duration": 333,
    "start_time": "2021-07-08T08:41:10.459Z"
   },
   {
    "duration": 173,
    "start_time": "2021-07-08T08:41:10.794Z"
   },
   {
    "duration": 5,
    "start_time": "2021-07-08T08:41:10.968Z"
   },
   {
    "duration": 25,
    "start_time": "2021-07-08T08:41:10.975Z"
   },
   {
    "duration": 9,
    "start_time": "2021-07-08T08:41:11.002Z"
   },
   {
    "duration": 18,
    "start_time": "2021-07-08T08:41:11.013Z"
   },
   {
    "duration": 6,
    "start_time": "2021-07-08T08:41:11.033Z"
   },
   {
    "duration": 44,
    "start_time": "2021-07-08T08:41:11.042Z"
   },
   {
    "duration": 10,
    "start_time": "2021-07-08T08:41:11.088Z"
   },
   {
    "duration": 9,
    "start_time": "2021-07-08T08:41:11.100Z"
   },
   {
    "duration": 27,
    "start_time": "2021-07-08T08:41:11.111Z"
   },
   {
    "duration": 46,
    "start_time": "2021-07-08T08:41:11.140Z"
   },
   {
    "duration": 17,
    "start_time": "2021-07-08T08:41:11.187Z"
   },
   {
    "duration": 6,
    "start_time": "2021-07-08T08:41:11.206Z"
   },
   {
    "duration": 5,
    "start_time": "2021-07-08T08:41:11.213Z"
   },
   {
    "duration": 10,
    "start_time": "2021-07-08T08:41:11.219Z"
   },
   {
    "duration": 9,
    "start_time": "2021-07-08T08:41:11.230Z"
   },
   {
    "duration": 45,
    "start_time": "2021-07-08T08:41:11.241Z"
   },
   {
    "duration": 7,
    "start_time": "2021-07-08T08:41:11.287Z"
   },
   {
    "duration": 24,
    "start_time": "2021-07-08T08:41:11.296Z"
   },
   {
    "duration": 16,
    "start_time": "2021-07-08T08:41:11.322Z"
   },
   {
    "duration": 7,
    "start_time": "2021-07-08T08:41:11.341Z"
   },
   {
    "duration": 41,
    "start_time": "2021-07-08T08:41:11.349Z"
   },
   {
    "duration": 17,
    "start_time": "2021-07-08T08:41:11.391Z"
   },
   {
    "duration": 9,
    "start_time": "2021-07-08T08:41:11.410Z"
   },
   {
    "duration": 5,
    "start_time": "2021-07-08T08:41:11.421Z"
   },
   {
    "duration": 6,
    "start_time": "2021-07-08T08:41:11.428Z"
   },
   {
    "duration": 198,
    "start_time": "2021-07-08T08:41:11.435Z"
   },
   {
    "duration": 18,
    "start_time": "2021-07-08T08:41:11.635Z"
   },
   {
    "duration": 155,
    "start_time": "2021-07-08T08:41:11.655Z"
   },
   {
    "duration": 138,
    "start_time": "2021-07-08T08:41:11.811Z"
   },
   {
    "duration": 10,
    "start_time": "2021-07-08T08:41:11.950Z"
   },
   {
    "duration": 29,
    "start_time": "2021-07-08T08:41:11.961Z"
   },
   {
    "duration": 171,
    "start_time": "2021-07-08T08:47:44.522Z"
   },
   {
    "duration": 124,
    "start_time": "2021-07-08T08:47:46.872Z"
   },
   {
    "duration": 191,
    "start_time": "2021-07-08T08:47:58.148Z"
   },
   {
    "duration": 191,
    "start_time": "2021-07-08T08:48:07.412Z"
   },
   {
    "duration": 261,
    "start_time": "2021-07-08T08:48:10.385Z"
   },
   {
    "duration": 255,
    "start_time": "2021-07-08T08:48:14.494Z"
   },
   {
    "duration": 219,
    "start_time": "2021-07-08T08:48:22.752Z"
   },
   {
    "duration": 173,
    "start_time": "2021-07-08T08:49:06.395Z"
   },
   {
    "duration": 180,
    "start_time": "2021-07-08T08:49:21.011Z"
   },
   {
    "duration": 6,
    "start_time": "2021-07-08T08:50:31.697Z"
   },
   {
    "duration": 10,
    "start_time": "2021-07-08T08:50:47.394Z"
   },
   {
    "duration": 11,
    "start_time": "2021-07-08T08:53:49.332Z"
   },
   {
    "duration": 171,
    "start_time": "2021-07-08T08:54:28.408Z"
   },
   {
    "duration": 636,
    "start_time": "2021-07-08T09:02:48.385Z"
   },
   {
    "duration": 227,
    "start_time": "2021-07-08T09:02:49.023Z"
   },
   {
    "duration": 104,
    "start_time": "2021-07-08T09:02:49.252Z"
   },
   {
    "duration": 5,
    "start_time": "2021-07-08T09:02:49.358Z"
   },
   {
    "duration": 27,
    "start_time": "2021-07-08T09:02:49.365Z"
   },
   {
    "duration": 8,
    "start_time": "2021-07-08T09:02:49.394Z"
   },
   {
    "duration": 18,
    "start_time": "2021-07-08T09:02:49.404Z"
   },
   {
    "duration": 6,
    "start_time": "2021-07-08T09:02:49.424Z"
   },
   {
    "duration": 11,
    "start_time": "2021-07-08T09:02:49.433Z"
   },
   {
    "duration": 13,
    "start_time": "2021-07-08T09:02:49.485Z"
   },
   {
    "duration": 9,
    "start_time": "2021-07-08T09:02:49.500Z"
   },
   {
    "duration": 38,
    "start_time": "2021-07-08T09:02:49.511Z"
   },
   {
    "duration": 42,
    "start_time": "2021-07-08T09:02:49.551Z"
   },
   {
    "duration": 21,
    "start_time": "2021-07-08T09:02:49.594Z"
   },
   {
    "duration": 6,
    "start_time": "2021-07-08T09:02:49.616Z"
   },
   {
    "duration": 3,
    "start_time": "2021-07-08T09:02:49.623Z"
   },
   {
    "duration": 9,
    "start_time": "2021-07-08T09:02:49.628Z"
   },
   {
    "duration": 52,
    "start_time": "2021-07-08T09:02:49.638Z"
   },
   {
    "duration": 11,
    "start_time": "2021-07-08T09:02:49.692Z"
   },
   {
    "duration": 8,
    "start_time": "2021-07-08T09:02:49.704Z"
   },
   {
    "duration": 27,
    "start_time": "2021-07-08T09:02:49.713Z"
   },
   {
    "duration": 59,
    "start_time": "2021-07-08T09:02:49.741Z"
   },
   {
    "duration": 8,
    "start_time": "2021-07-08T09:02:49.803Z"
   },
   {
    "duration": 14,
    "start_time": "2021-07-08T09:02:49.813Z"
   },
   {
    "duration": 20,
    "start_time": "2021-07-08T09:02:49.829Z"
   },
   {
    "duration": 44,
    "start_time": "2021-07-08T09:02:49.851Z"
   },
   {
    "duration": 14,
    "start_time": "2021-07-08T09:02:49.896Z"
   },
   {
    "duration": 221,
    "start_time": "2021-07-08T09:02:49.912Z"
   },
   {
    "duration": 6,
    "start_time": "2021-07-08T09:02:50.134Z"
   },
   {
    "duration": 206,
    "start_time": "2021-07-08T09:02:50.142Z"
   },
   {
    "duration": 19,
    "start_time": "2021-07-08T09:02:50.350Z"
   },
   {
    "duration": 21,
    "start_time": "2021-07-08T09:02:50.370Z"
   },
   {
    "duration": 20,
    "start_time": "2021-07-08T09:02:50.393Z"
   },
   {
    "duration": 5,
    "start_time": "2021-07-08T09:02:50.414Z"
   },
   {
    "duration": 5,
    "start_time": "2021-07-08T09:03:34.173Z"
   },
   {
    "duration": 6,
    "start_time": "2021-07-08T09:04:49.062Z"
   },
   {
    "duration": 9,
    "start_time": "2021-07-08T09:04:50.118Z"
   },
   {
    "duration": 14,
    "start_time": "2021-07-08T09:04:58.512Z"
   },
   {
    "duration": 9,
    "start_time": "2021-07-08T09:05:10.988Z"
   },
   {
    "duration": 11,
    "start_time": "2021-07-08T09:05:11.743Z"
   },
   {
    "duration": 7,
    "start_time": "2021-07-08T09:05:25.677Z"
   },
   {
    "duration": 13,
    "start_time": "2021-07-08T09:05:47.189Z"
   },
   {
    "duration": 13,
    "start_time": "2021-07-08T09:05:54.755Z"
   },
   {
    "duration": 4,
    "start_time": "2021-07-08T09:06:29.189Z"
   },
   {
    "duration": 244,
    "start_time": "2021-07-08T09:06:29.195Z"
   },
   {
    "duration": 91,
    "start_time": "2021-07-08T09:06:29.441Z"
   },
   {
    "duration": 4,
    "start_time": "2021-07-08T09:06:29.534Z"
   },
   {
    "duration": 28,
    "start_time": "2021-07-08T09:06:29.540Z"
   },
   {
    "duration": 6,
    "start_time": "2021-07-08T09:06:29.570Z"
   },
   {
    "duration": 18,
    "start_time": "2021-07-08T09:06:29.578Z"
   },
   {
    "duration": 5,
    "start_time": "2021-07-08T09:06:29.597Z"
   },
   {
    "duration": 13,
    "start_time": "2021-07-08T09:06:29.605Z"
   },
   {
    "duration": 8,
    "start_time": "2021-07-08T09:06:29.620Z"
   },
   {
    "duration": 7,
    "start_time": "2021-07-08T09:06:29.630Z"
   },
   {
    "duration": 63,
    "start_time": "2021-07-08T09:06:29.639Z"
   },
   {
    "duration": 17,
    "start_time": "2021-07-08T09:06:29.704Z"
   },
   {
    "duration": 20,
    "start_time": "2021-07-08T09:06:29.723Z"
   },
   {
    "duration": 6,
    "start_time": "2021-07-08T09:06:29.745Z"
   },
   {
    "duration": 3,
    "start_time": "2021-07-08T09:06:29.752Z"
   },
   {
    "duration": 7,
    "start_time": "2021-07-08T09:06:29.785Z"
   },
   {
    "duration": 11,
    "start_time": "2021-07-08T09:06:29.794Z"
   },
   {
    "duration": 15,
    "start_time": "2021-07-08T09:06:29.807Z"
   },
   {
    "duration": 8,
    "start_time": "2021-07-08T09:06:29.823Z"
   },
   {
    "duration": 70,
    "start_time": "2021-07-08T09:06:29.832Z"
   },
   {
    "duration": 17,
    "start_time": "2021-07-08T09:06:29.903Z"
   },
   {
    "duration": 9,
    "start_time": "2021-07-08T09:06:29.921Z"
   },
   {
    "duration": 9,
    "start_time": "2021-07-08T09:06:29.932Z"
   },
   {
    "duration": 57,
    "start_time": "2021-07-08T09:06:29.942Z"
   },
   {
    "duration": 11,
    "start_time": "2021-07-08T09:06:30.001Z"
   },
   {
    "duration": 19,
    "start_time": "2021-07-08T09:06:30.016Z"
   },
   {
    "duration": 217,
    "start_time": "2021-07-08T09:06:30.037Z"
   },
   {
    "duration": 6,
    "start_time": "2021-07-08T09:06:30.255Z"
   },
   {
    "duration": 205,
    "start_time": "2021-07-08T09:06:30.263Z"
   },
   {
    "duration": 27,
    "start_time": "2021-07-08T09:06:30.470Z"
   },
   {
    "duration": 11,
    "start_time": "2021-07-08T09:06:30.500Z"
   },
   {
    "duration": 31,
    "start_time": "2021-07-08T09:06:30.513Z"
   },
   {
    "duration": 18,
    "start_time": "2021-07-08T09:06:30.546Z"
   },
   {
    "duration": 11,
    "start_time": "2021-07-08T09:06:30.566Z"
   },
   {
    "duration": 19,
    "start_time": "2021-07-08T09:06:30.579Z"
   },
   {
    "duration": 20,
    "start_time": "2021-07-08T09:06:49.466Z"
   },
   {
    "duration": 9,
    "start_time": "2021-07-08T09:06:51.994Z"
   },
   {
    "duration": 20,
    "start_time": "2021-07-08T09:06:52.273Z"
   },
   {
    "duration": 246,
    "start_time": "2021-07-08T09:10:21.272Z"
   },
   {
    "duration": 84,
    "start_time": "2021-07-08T09:10:21.436Z"
   },
   {
    "duration": 7,
    "start_time": "2021-07-08T09:10:37.608Z"
   },
   {
    "duration": 189,
    "start_time": "2021-07-08T09:10:38.573Z"
   },
   {
    "duration": 185,
    "start_time": "2021-07-08T09:10:53.181Z"
   },
   {
    "duration": 11,
    "start_time": "2021-07-08T09:10:59.549Z"
   },
   {
    "duration": 42,
    "start_time": "2021-07-08T09:10:59.709Z"
   },
   {
    "duration": 12,
    "start_time": "2021-07-08T09:11:02.857Z"
   },
   {
    "duration": 28,
    "start_time": "2021-07-08T09:11:10.062Z"
   },
   {
    "duration": 249,
    "start_time": "2021-07-08T09:11:37.388Z"
   },
   {
    "duration": 232,
    "start_time": "2021-07-08T09:11:49.485Z"
   },
   {
    "duration": 453,
    "start_time": "2021-07-08T09:12:01.546Z"
   },
   {
    "duration": 440,
    "start_time": "2021-07-08T09:12:12.347Z"
   },
   {
    "duration": 213,
    "start_time": "2021-07-08T09:13:32.196Z"
   },
   {
    "duration": 172,
    "start_time": "2021-07-08T09:14:07.400Z"
   },
   {
    "duration": 185,
    "start_time": "2021-07-08T09:14:14.905Z"
   },
   {
    "duration": 209,
    "start_time": "2021-07-08T09:14:40.109Z"
   },
   {
    "duration": 201,
    "start_time": "2021-07-08T09:14:54.506Z"
   },
   {
    "duration": 622,
    "start_time": "2021-07-08T09:18:14.497Z"
   },
   {
    "duration": 220,
    "start_time": "2021-07-08T09:18:15.121Z"
   },
   {
    "duration": 79,
    "start_time": "2021-07-08T09:18:15.343Z"
   },
   {
    "duration": 4,
    "start_time": "2021-07-08T09:18:15.425Z"
   },
   {
    "duration": 24,
    "start_time": "2021-07-08T09:18:15.431Z"
   },
   {
    "duration": 8,
    "start_time": "2021-07-08T09:18:15.457Z"
   },
   {
    "duration": 16,
    "start_time": "2021-07-08T09:18:15.466Z"
   },
   {
    "duration": 5,
    "start_time": "2021-07-08T09:18:15.484Z"
   },
   {
    "duration": 10,
    "start_time": "2021-07-08T09:18:15.493Z"
   },
   {
    "duration": 8,
    "start_time": "2021-07-08T09:18:15.504Z"
   },
   {
    "duration": 7,
    "start_time": "2021-07-08T09:18:15.513Z"
   },
   {
    "duration": 26,
    "start_time": "2021-07-08T09:18:15.522Z"
   },
   {
    "duration": 49,
    "start_time": "2021-07-08T09:18:15.550Z"
   },
   {
    "duration": 21,
    "start_time": "2021-07-08T09:18:15.601Z"
   },
   {
    "duration": 8,
    "start_time": "2021-07-08T09:18:15.624Z"
   },
   {
    "duration": 3,
    "start_time": "2021-07-08T09:18:15.634Z"
   },
   {
    "duration": 8,
    "start_time": "2021-07-08T09:18:15.639Z"
   },
   {
    "duration": 45,
    "start_time": "2021-07-08T09:18:15.649Z"
   },
   {
    "duration": 13,
    "start_time": "2021-07-08T09:18:15.696Z"
   },
   {
    "duration": 10,
    "start_time": "2021-07-08T09:18:15.711Z"
   },
   {
    "duration": 64,
    "start_time": "2021-07-08T09:18:15.722Z"
   },
   {
    "duration": 19,
    "start_time": "2021-07-08T09:18:15.788Z"
   },
   {
    "duration": 9,
    "start_time": "2021-07-08T09:18:15.809Z"
   },
   {
    "duration": 9,
    "start_time": "2021-07-08T09:18:15.820Z"
   },
   {
    "duration": 18,
    "start_time": "2021-07-08T09:18:15.831Z"
   },
   {
    "duration": 43,
    "start_time": "2021-07-08T09:18:15.851Z"
   },
   {
    "duration": 12,
    "start_time": "2021-07-08T09:18:15.897Z"
   },
   {
    "duration": 219,
    "start_time": "2021-07-08T09:18:15.911Z"
   },
   {
    "duration": 8,
    "start_time": "2021-07-08T09:18:16.132Z"
   },
   {
    "duration": 199,
    "start_time": "2021-07-08T09:18:16.141Z"
   },
   {
    "duration": 18,
    "start_time": "2021-07-08T09:18:16.341Z"
   },
   {
    "duration": 24,
    "start_time": "2021-07-08T09:18:16.361Z"
   },
   {
    "duration": 24,
    "start_time": "2021-07-08T09:18:16.387Z"
   },
   {
    "duration": 211,
    "start_time": "2021-07-08T09:18:16.413Z"
   },
   {
    "duration": 18,
    "start_time": "2021-07-08T09:18:16.626Z"
   },
   {
    "duration": 596,
    "start_time": "2021-07-08T10:06:33.623Z"
   },
   {
    "duration": 181,
    "start_time": "2021-07-08T10:06:34.221Z"
   },
   {
    "duration": 176,
    "start_time": "2021-07-08T10:06:34.635Z"
   },
   {
    "duration": 239,
    "start_time": "2021-07-08T10:06:55.572Z"
   },
   {
    "duration": 6,
    "start_time": "2021-07-08T10:06:57.687Z"
   },
   {
    "duration": 4,
    "start_time": "2021-07-08T10:07:03.956Z"
   },
   {
    "duration": 4,
    "start_time": "2021-07-08T10:07:10.376Z"
   },
   {
    "duration": 4,
    "start_time": "2021-07-08T10:17:19.889Z"
   },
   {
    "duration": 3,
    "start_time": "2021-07-08T10:19:19.407Z"
   },
   {
    "duration": 197,
    "start_time": "2021-07-08T10:19:19.412Z"
   },
   {
    "duration": 127,
    "start_time": "2021-07-08T10:19:19.611Z"
   },
   {
    "duration": 4,
    "start_time": "2021-07-08T10:19:19.740Z"
   },
   {
    "duration": 27,
    "start_time": "2021-07-08T10:19:19.746Z"
   },
   {
    "duration": 7,
    "start_time": "2021-07-08T10:19:19.775Z"
   },
   {
    "duration": 30,
    "start_time": "2021-07-08T10:19:19.784Z"
   },
   {
    "duration": 7,
    "start_time": "2021-07-08T10:19:19.817Z"
   },
   {
    "duration": 26,
    "start_time": "2021-07-08T10:19:19.826Z"
   },
   {
    "duration": 18,
    "start_time": "2021-07-08T10:19:19.854Z"
   },
   {
    "duration": 14,
    "start_time": "2021-07-08T10:19:19.874Z"
   },
   {
    "duration": 48,
    "start_time": "2021-07-08T10:19:19.890Z"
   },
   {
    "duration": 17,
    "start_time": "2021-07-08T10:19:19.940Z"
   },
   {
    "duration": 38,
    "start_time": "2021-07-08T10:19:19.959Z"
   },
   {
    "duration": 8,
    "start_time": "2021-07-08T10:19:19.999Z"
   },
   {
    "duration": 15,
    "start_time": "2021-07-08T10:19:20.009Z"
   },
   {
    "duration": 22,
    "start_time": "2021-07-08T10:19:20.026Z"
   },
   {
    "duration": 10,
    "start_time": "2021-07-08T10:19:20.050Z"
   },
   {
    "duration": 10,
    "start_time": "2021-07-08T10:19:20.062Z"
   },
   {
    "duration": 20,
    "start_time": "2021-07-08T10:19:20.073Z"
   },
   {
    "duration": 29,
    "start_time": "2021-07-08T10:19:20.095Z"
   },
   {
    "duration": 17,
    "start_time": "2021-07-08T10:19:20.126Z"
   },
   {
    "duration": 40,
    "start_time": "2021-07-08T10:19:20.146Z"
   },
   {
    "duration": 15,
    "start_time": "2021-07-08T10:19:20.189Z"
   },
   {
    "duration": 19,
    "start_time": "2021-07-08T10:19:20.206Z"
   },
   {
    "duration": 10,
    "start_time": "2021-07-08T10:19:20.226Z"
   },
   {
    "duration": 11,
    "start_time": "2021-07-08T10:19:20.238Z"
   },
   {
    "duration": 297,
    "start_time": "2021-07-08T10:19:20.250Z"
   },
   {
    "duration": 6,
    "start_time": "2021-07-08T10:19:20.549Z"
   },
   {
    "duration": 191,
    "start_time": "2021-07-08T10:19:20.557Z"
   },
   {
    "duration": 19,
    "start_time": "2021-07-08T10:19:20.750Z"
   },
   {
    "duration": 20,
    "start_time": "2021-07-08T10:19:20.771Z"
   },
   {
    "duration": 15,
    "start_time": "2021-07-08T10:19:20.793Z"
   },
   {
    "duration": 222,
    "start_time": "2021-07-08T10:19:20.809Z"
   },
   {
    "duration": 20,
    "start_time": "2021-07-08T10:19:21.033Z"
   },
   {
    "duration": 27,
    "start_time": "2021-07-08T10:45:04.055Z"
   },
   {
    "duration": 8,
    "start_time": "2021-07-08T10:45:08.478Z"
   },
   {
    "duration": 8,
    "start_time": "2021-07-08T10:45:31.982Z"
   },
   {
    "duration": 10,
    "start_time": "2021-07-08T10:46:01.221Z"
   },
   {
    "duration": 17,
    "start_time": "2021-07-08T10:46:40.011Z"
   },
   {
    "duration": 193,
    "start_time": "2021-07-08T10:48:19.471Z"
   },
   {
    "duration": 225,
    "start_time": "2021-07-08T10:49:26.480Z"
   },
   {
    "duration": 204,
    "start_time": "2021-07-08T10:49:59.992Z"
   },
   {
    "duration": 435,
    "start_time": "2021-07-08T10:50:06.779Z"
   },
   {
    "duration": 199,
    "start_time": "2021-07-08T10:50:14.891Z"
   },
   {
    "duration": 204,
    "start_time": "2021-07-08T10:50:18.501Z"
   },
   {
    "duration": 244,
    "start_time": "2021-07-08T10:50:23.359Z"
   },
   {
    "duration": 192,
    "start_time": "2021-07-08T10:50:29.135Z"
   },
   {
    "duration": 218,
    "start_time": "2021-07-08T10:50:33.092Z"
   },
   {
    "duration": 207,
    "start_time": "2021-07-08T10:52:45.381Z"
   },
   {
    "duration": 5,
    "start_time": "2021-07-08T10:53:34.641Z"
   },
   {
    "duration": 196,
    "start_time": "2021-07-08T10:53:41.478Z"
   },
   {
    "duration": 43,
    "start_time": "2021-07-08T10:53:50.335Z"
   },
   {
    "duration": 32,
    "start_time": "2021-07-08T10:53:55.294Z"
   },
   {
    "duration": 55,
    "start_time": "2021-07-08T10:54:09.675Z"
   },
   {
    "duration": 16,
    "start_time": "2021-07-08T10:54:12.260Z"
   },
   {
    "duration": 15,
    "start_time": "2021-07-08T10:54:49.150Z"
   },
   {
    "duration": 20,
    "start_time": "2021-07-08T10:56:07.596Z"
   },
   {
    "duration": 16,
    "start_time": "2021-07-08T10:58:26.276Z"
   },
   {
    "duration": 22,
    "start_time": "2021-07-08T10:59:00.486Z"
   },
   {
    "duration": 18,
    "start_time": "2021-07-08T11:02:09.653Z"
   },
   {
    "duration": 10,
    "start_time": "2021-07-08T11:03:44.331Z"
   },
   {
    "duration": 10,
    "start_time": "2021-07-08T11:03:54.055Z"
   },
   {
    "duration": 12,
    "start_time": "2021-07-08T11:04:41.967Z"
   },
   {
    "duration": 24,
    "start_time": "2021-07-08T11:07:30.732Z"
   },
   {
    "duration": 6,
    "start_time": "2021-07-08T11:07:37.364Z"
   },
   {
    "duration": 16,
    "start_time": "2021-07-08T11:08:01.819Z"
   },
   {
    "duration": 17,
    "start_time": "2021-07-08T11:09:47.488Z"
   },
   {
    "duration": 246,
    "start_time": "2021-07-08T11:10:00.830Z"
   },
   {
    "duration": 18,
    "start_time": "2021-07-08T11:13:55.195Z"
   },
   {
    "duration": 204,
    "start_time": "2021-07-08T11:14:04.951Z"
   },
   {
    "duration": 19,
    "start_time": "2021-07-08T11:15:10.613Z"
   },
   {
    "duration": 680,
    "start_time": "2021-07-08T11:16:25.793Z"
   },
   {
    "duration": 451,
    "start_time": "2021-07-08T11:16:40.313Z"
   },
   {
    "duration": 469,
    "start_time": "2021-07-08T11:17:21.286Z"
   },
   {
    "duration": 20,
    "start_time": "2021-07-08T11:19:12.554Z"
   },
   {
    "duration": 35,
    "start_time": "2021-07-08T11:20:05.484Z"
   },
   {
    "duration": 53,
    "start_time": "2021-07-08T11:21:40.050Z"
   },
   {
    "duration": 13,
    "start_time": "2021-07-08T11:22:26.059Z"
   },
   {
    "duration": 19,
    "start_time": "2021-07-08T11:22:47.419Z"
   },
   {
    "duration": 25,
    "start_time": "2021-07-08T11:23:19.958Z"
   },
   {
    "duration": 29,
    "start_time": "2021-07-08T11:23:25.415Z"
   },
   {
    "duration": 10,
    "start_time": "2021-07-08T11:24:45.138Z"
   },
   {
    "duration": 19,
    "start_time": "2021-07-08T11:24:54.498Z"
   },
   {
    "duration": 12,
    "start_time": "2021-07-08T11:25:32.225Z"
   },
   {
    "duration": 19,
    "start_time": "2021-07-08T11:25:37.092Z"
   },
   {
    "duration": 17,
    "start_time": "2021-07-08T11:25:58.116Z"
   },
   {
    "duration": 15,
    "start_time": "2021-07-08T11:26:02.258Z"
   },
   {
    "duration": 8,
    "start_time": "2021-07-08T11:26:59.682Z"
   },
   {
    "duration": 184,
    "start_time": "2021-07-08T11:27:21.894Z"
   },
   {
    "duration": 8,
    "start_time": "2021-07-08T11:27:23.824Z"
   },
   {
    "duration": 202,
    "start_time": "2021-07-08T11:27:23.962Z"
   },
   {
    "duration": 360,
    "start_time": "2021-07-08T11:28:33.215Z"
   },
   {
    "duration": 231,
    "start_time": "2021-07-08T11:32:05.542Z"
   },
   {
    "duration": 607,
    "start_time": "2021-07-08T11:36:27.854Z"
   },
   {
    "duration": 241,
    "start_time": "2021-07-08T11:36:28.463Z"
   },
   {
    "duration": 67,
    "start_time": "2021-07-08T11:36:28.709Z"
   },
   {
    "duration": 5,
    "start_time": "2021-07-08T11:36:28.778Z"
   },
   {
    "duration": 32,
    "start_time": "2021-07-08T11:36:28.784Z"
   },
   {
    "duration": 11,
    "start_time": "2021-07-08T11:36:28.819Z"
   },
   {
    "duration": 20,
    "start_time": "2021-07-08T11:36:28.834Z"
   },
   {
    "duration": 36,
    "start_time": "2021-07-08T11:36:28.857Z"
   },
   {
    "duration": 16,
    "start_time": "2021-07-08T11:36:28.895Z"
   },
   {
    "duration": 14,
    "start_time": "2021-07-08T11:36:28.913Z"
   },
   {
    "duration": 9,
    "start_time": "2021-07-08T11:36:28.930Z"
   },
   {
    "duration": 55,
    "start_time": "2021-07-08T11:36:28.941Z"
   },
   {
    "duration": 27,
    "start_time": "2021-07-08T11:36:28.999Z"
   },
   {
    "duration": 30,
    "start_time": "2021-07-08T11:36:29.028Z"
   },
   {
    "duration": 31,
    "start_time": "2021-07-08T11:36:29.060Z"
   },
   {
    "duration": 3,
    "start_time": "2021-07-08T11:36:29.093Z"
   },
   {
    "duration": 12,
    "start_time": "2021-07-08T11:36:29.099Z"
   },
   {
    "duration": 11,
    "start_time": "2021-07-08T11:36:29.112Z"
   },
   {
    "duration": 12,
    "start_time": "2021-07-08T11:36:29.125Z"
   },
   {
    "duration": 9,
    "start_time": "2021-07-08T11:36:29.139Z"
   },
   {
    "duration": 31,
    "start_time": "2021-07-08T11:36:29.191Z"
   },
   {
    "duration": 17,
    "start_time": "2021-07-08T11:36:29.226Z"
   },
   {
    "duration": 7,
    "start_time": "2021-07-08T11:36:29.245Z"
   },
   {
    "duration": 10,
    "start_time": "2021-07-08T11:36:29.254Z"
   },
   {
    "duration": 30,
    "start_time": "2021-07-08T11:36:29.292Z"
   },
   {
    "duration": 11,
    "start_time": "2021-07-08T11:36:29.324Z"
   },
   {
    "duration": 11,
    "start_time": "2021-07-08T11:36:29.337Z"
   },
   {
    "duration": 230,
    "start_time": "2021-07-08T11:36:29.349Z"
   },
   {
    "duration": 13,
    "start_time": "2021-07-08T11:36:29.588Z"
   },
   {
    "duration": 205,
    "start_time": "2021-07-08T11:36:29.603Z"
   },
   {
    "duration": 20,
    "start_time": "2021-07-08T11:36:29.810Z"
   },
   {
    "duration": 9,
    "start_time": "2021-07-08T11:36:29.832Z"
   },
   {
    "duration": 16,
    "start_time": "2021-07-08T11:36:29.843Z"
   },
   {
    "duration": 283,
    "start_time": "2021-07-08T11:36:29.861Z"
   },
   {
    "duration": 50,
    "start_time": "2021-07-08T11:36:30.146Z"
   },
   {
    "duration": 14,
    "start_time": "2021-07-08T11:36:30.198Z"
   },
   {
    "duration": 11,
    "start_time": "2021-07-08T11:36:30.214Z"
   },
   {
    "duration": 245,
    "start_time": "2021-07-08T11:36:30.227Z"
   },
   {
    "duration": 439,
    "start_time": "2021-07-08T11:36:30.474Z"
   },
   {
    "duration": 210,
    "start_time": "2021-07-08T11:36:30.915Z"
   },
   {
    "duration": 15,
    "start_time": "2021-07-08T11:36:31.127Z"
   },
   {
    "duration": 17,
    "start_time": "2021-07-08T11:38:20.451Z"
   },
   {
    "duration": 642,
    "start_time": "2021-07-08T11:46:17.881Z"
   },
   {
    "duration": 210,
    "start_time": "2021-07-08T11:46:18.525Z"
   },
   {
    "duration": 104,
    "start_time": "2021-07-08T11:46:18.741Z"
   },
   {
    "duration": 8,
    "start_time": "2021-07-08T11:46:18.847Z"
   },
   {
    "duration": 25,
    "start_time": "2021-07-08T11:46:18.857Z"
   },
   {
    "duration": 14,
    "start_time": "2021-07-08T11:46:18.884Z"
   },
   {
    "duration": 22,
    "start_time": "2021-07-08T11:46:18.900Z"
   },
   {
    "duration": 5,
    "start_time": "2021-07-08T11:46:18.924Z"
   },
   {
    "duration": 13,
    "start_time": "2021-07-08T11:46:18.931Z"
   },
   {
    "duration": 45,
    "start_time": "2021-07-08T11:46:18.946Z"
   },
   {
    "duration": 12,
    "start_time": "2021-07-08T11:46:18.993Z"
   },
   {
    "duration": 38,
    "start_time": "2021-07-08T11:46:19.006Z"
   },
   {
    "duration": 50,
    "start_time": "2021-07-08T11:46:19.046Z"
   },
   {
    "duration": 29,
    "start_time": "2021-07-08T11:46:19.099Z"
   },
   {
    "duration": 7,
    "start_time": "2021-07-08T11:46:19.130Z"
   },
   {
    "duration": 3,
    "start_time": "2021-07-08T11:46:19.139Z"
   },
   {
    "duration": 11,
    "start_time": "2021-07-08T11:46:19.144Z"
   },
   {
    "duration": 40,
    "start_time": "2021-07-08T11:46:19.157Z"
   },
   {
    "duration": 15,
    "start_time": "2021-07-08T11:46:19.199Z"
   },
   {
    "duration": 10,
    "start_time": "2021-07-08T11:46:19.217Z"
   },
   {
    "duration": 68,
    "start_time": "2021-07-08T11:46:19.230Z"
   },
   {
    "duration": 17,
    "start_time": "2021-07-08T11:46:19.301Z"
   },
   {
    "duration": 7,
    "start_time": "2021-07-08T11:46:19.321Z"
   },
   {
    "duration": 11,
    "start_time": "2021-07-08T11:46:19.330Z"
   },
   {
    "duration": 59,
    "start_time": "2021-07-08T11:46:19.343Z"
   },
   {
    "duration": 17,
    "start_time": "2021-07-08T11:46:19.405Z"
   },
   {
    "duration": 16,
    "start_time": "2021-07-08T11:46:19.424Z"
   },
   {
    "duration": 252,
    "start_time": "2021-07-08T11:46:19.443Z"
   },
   {
    "duration": 9,
    "start_time": "2021-07-08T11:46:19.697Z"
   },
   {
    "duration": 224,
    "start_time": "2021-07-08T11:46:19.708Z"
   },
   {
    "duration": 21,
    "start_time": "2021-07-08T11:46:19.934Z"
   },
   {
    "duration": 9,
    "start_time": "2021-07-08T11:46:19.956Z"
   },
   {
    "duration": 32,
    "start_time": "2021-07-08T11:46:19.967Z"
   },
   {
    "duration": 288,
    "start_time": "2021-07-08T11:46:20.004Z"
   },
   {
    "duration": 23,
    "start_time": "2021-07-08T11:46:20.300Z"
   },
   {
    "duration": 11,
    "start_time": "2021-07-08T11:46:20.325Z"
   },
   {
    "duration": 11,
    "start_time": "2021-07-08T11:46:20.339Z"
   },
   {
    "duration": 259,
    "start_time": "2021-07-08T11:46:20.352Z"
   },
   {
    "duration": 438,
    "start_time": "2021-07-08T11:46:20.613Z"
   },
   {
    "duration": 207,
    "start_time": "2021-07-08T11:46:21.054Z"
   },
   {
    "duration": 27,
    "start_time": "2021-07-08T11:46:21.262Z"
   },
   {
    "duration": 19,
    "start_time": "2021-07-08T11:46:21.291Z"
   },
   {
    "duration": 820,
    "start_time": "2021-07-08T11:49:01.655Z"
   },
   {
    "duration": 372,
    "start_time": "2021-07-08T11:49:02.478Z"
   },
   {
    "duration": 98,
    "start_time": "2021-07-08T11:49:02.853Z"
   },
   {
    "duration": 6,
    "start_time": "2021-07-08T11:49:02.953Z"
   },
   {
    "duration": 39,
    "start_time": "2021-07-08T11:49:02.960Z"
   },
   {
    "duration": 9,
    "start_time": "2021-07-08T11:49:03.003Z"
   },
   {
    "duration": 23,
    "start_time": "2021-07-08T11:49:03.014Z"
   },
   {
    "duration": 6,
    "start_time": "2021-07-08T11:49:03.041Z"
   },
   {
    "duration": 20,
    "start_time": "2021-07-08T11:49:03.049Z"
   },
   {
    "duration": 18,
    "start_time": "2021-07-08T11:49:03.084Z"
   },
   {
    "duration": 14,
    "start_time": "2021-07-08T11:49:03.104Z"
   },
   {
    "duration": 39,
    "start_time": "2021-07-08T11:49:03.119Z"
   },
   {
    "duration": 38,
    "start_time": "2021-07-08T11:49:03.160Z"
   },
   {
    "duration": 26,
    "start_time": "2021-07-08T11:49:03.200Z"
   },
   {
    "duration": 7,
    "start_time": "2021-07-08T11:49:03.227Z"
   },
   {
    "duration": 4,
    "start_time": "2021-07-08T11:49:03.236Z"
   },
   {
    "duration": 15,
    "start_time": "2021-07-08T11:49:03.243Z"
   },
   {
    "duration": 21,
    "start_time": "2021-07-08T11:49:03.285Z"
   },
   {
    "duration": 17,
    "start_time": "2021-07-08T11:49:03.309Z"
   },
   {
    "duration": 10,
    "start_time": "2021-07-08T11:49:03.328Z"
   },
   {
    "duration": 65,
    "start_time": "2021-07-08T11:49:03.340Z"
   },
   {
    "duration": 18,
    "start_time": "2021-07-08T11:49:03.407Z"
   },
   {
    "duration": 8,
    "start_time": "2021-07-08T11:49:03.428Z"
   },
   {
    "duration": 15,
    "start_time": "2021-07-08T11:49:03.438Z"
   },
   {
    "duration": 40,
    "start_time": "2021-07-08T11:49:03.455Z"
   },
   {
    "duration": 12,
    "start_time": "2021-07-08T11:49:03.497Z"
   },
   {
    "duration": 29,
    "start_time": "2021-07-08T11:49:03.511Z"
   },
   {
    "duration": 285,
    "start_time": "2021-07-08T11:49:03.542Z"
   },
   {
    "duration": 8,
    "start_time": "2021-07-08T11:49:03.829Z"
   },
   {
    "duration": 227,
    "start_time": "2021-07-08T11:49:03.838Z"
   },
   {
    "duration": 40,
    "start_time": "2021-07-08T11:49:04.066Z"
   },
   {
    "duration": 10,
    "start_time": "2021-07-08T11:49:04.108Z"
   },
   {
    "duration": 26,
    "start_time": "2021-07-08T11:49:04.121Z"
   },
   {
    "duration": 290,
    "start_time": "2021-07-08T11:49:04.149Z"
   },
   {
    "duration": 26,
    "start_time": "2021-07-08T11:49:04.441Z"
   },
   {
    "duration": 31,
    "start_time": "2021-07-08T11:49:04.470Z"
   },
   {
    "duration": 14,
    "start_time": "2021-07-08T11:49:04.503Z"
   },
   {
    "duration": 259,
    "start_time": "2021-07-08T11:49:04.521Z"
   },
   {
    "duration": 480,
    "start_time": "2021-07-08T11:49:04.782Z"
   },
   {
    "duration": 225,
    "start_time": "2021-07-08T11:49:05.264Z"
   },
   {
    "duration": 22,
    "start_time": "2021-07-08T11:49:05.491Z"
   },
   {
    "duration": 24,
    "start_time": "2021-07-08T11:49:05.515Z"
   },
   {
    "duration": 634,
    "start_time": "2021-07-08T11:52:24.960Z"
   },
   {
    "duration": 199,
    "start_time": "2021-07-08T11:52:25.599Z"
   },
   {
    "duration": 106,
    "start_time": "2021-07-08T11:52:25.803Z"
   },
   {
    "duration": 7,
    "start_time": "2021-07-08T11:52:25.911Z"
   },
   {
    "duration": 29,
    "start_time": "2021-07-08T11:52:25.920Z"
   },
   {
    "duration": 7,
    "start_time": "2021-07-08T11:52:25.951Z"
   },
   {
    "duration": 26,
    "start_time": "2021-07-08T11:52:25.961Z"
   },
   {
    "duration": 11,
    "start_time": "2021-07-08T11:52:25.990Z"
   },
   {
    "duration": 29,
    "start_time": "2021-07-08T11:52:26.005Z"
   },
   {
    "duration": 9,
    "start_time": "2021-07-08T11:52:26.036Z"
   },
   {
    "duration": 8,
    "start_time": "2021-07-08T11:52:26.047Z"
   },
   {
    "duration": 63,
    "start_time": "2021-07-08T11:52:26.057Z"
   },
   {
    "duration": 17,
    "start_time": "2021-07-08T11:52:26.122Z"
   },
   {
    "duration": 43,
    "start_time": "2021-07-08T11:52:26.142Z"
   },
   {
    "duration": 17,
    "start_time": "2021-07-08T11:52:26.187Z"
   },
   {
    "duration": 5,
    "start_time": "2021-07-08T11:52:26.206Z"
   },
   {
    "duration": 12,
    "start_time": "2021-07-08T11:52:26.212Z"
   },
   {
    "duration": 11,
    "start_time": "2021-07-08T11:52:26.226Z"
   },
   {
    "duration": 12,
    "start_time": "2021-07-08T11:52:26.238Z"
   },
   {
    "duration": 38,
    "start_time": "2021-07-08T11:52:26.252Z"
   },
   {
    "duration": 40,
    "start_time": "2021-07-08T11:52:26.292Z"
   },
   {
    "duration": 17,
    "start_time": "2021-07-08T11:52:26.336Z"
   },
   {
    "duration": 39,
    "start_time": "2021-07-08T11:52:26.355Z"
   },
   {
    "duration": 11,
    "start_time": "2021-07-08T11:52:26.395Z"
   },
   {
    "duration": 23,
    "start_time": "2021-07-08T11:52:26.408Z"
   },
   {
    "duration": 12,
    "start_time": "2021-07-08T11:52:26.432Z"
   },
   {
    "duration": 41,
    "start_time": "2021-07-08T11:52:26.446Z"
   },
   {
    "duration": 215,
    "start_time": "2021-07-08T11:52:26.493Z"
   },
   {
    "duration": 8,
    "start_time": "2021-07-08T11:52:26.710Z"
   },
   {
    "duration": 228,
    "start_time": "2021-07-08T11:52:26.720Z"
   },
   {
    "duration": 18,
    "start_time": "2021-07-08T11:52:26.950Z"
   },
   {
    "duration": 35,
    "start_time": "2021-07-08T11:52:26.969Z"
   },
   {
    "duration": 23,
    "start_time": "2021-07-08T11:52:27.006Z"
   },
   {
    "duration": 258,
    "start_time": "2021-07-08T11:52:27.030Z"
   },
   {
    "duration": 24,
    "start_time": "2021-07-08T11:52:27.290Z"
   },
   {
    "duration": 12,
    "start_time": "2021-07-08T11:52:27.316Z"
   },
   {
    "duration": 10,
    "start_time": "2021-07-08T11:52:27.329Z"
   },
   {
    "duration": 298,
    "start_time": "2021-07-08T11:52:27.341Z"
   },
   {
    "duration": 436,
    "start_time": "2021-07-08T11:52:27.641Z"
   },
   {
    "duration": 216,
    "start_time": "2021-07-08T11:52:28.079Z"
   },
   {
    "duration": 20,
    "start_time": "2021-07-08T11:52:28.297Z"
   },
   {
    "duration": 17,
    "start_time": "2021-07-08T11:52:28.319Z"
   },
   {
    "duration": 909,
    "start_time": "2023-04-25T11:42:06.315Z"
   },
   {
    "duration": 158,
    "start_time": "2023-04-25T11:42:22.260Z"
   },
   {
    "duration": 178,
    "start_time": "2023-04-25T11:42:28.609Z"
   },
   {
    "duration": 653,
    "start_time": "2023-04-25T11:42:39.441Z"
   },
   {
    "duration": 163,
    "start_time": "2023-04-25T11:44:04.466Z"
   },
   {
    "duration": 167,
    "start_time": "2023-04-25T11:45:04.824Z"
   },
   {
    "duration": 7,
    "start_time": "2023-04-25T11:45:58.849Z"
   },
   {
    "duration": 6,
    "start_time": "2023-04-25T11:46:18.901Z"
   },
   {
    "duration": 8,
    "start_time": "2023-04-25T11:46:41.306Z"
   },
   {
    "duration": 78,
    "start_time": "2023-04-25T11:47:05.194Z"
   },
   {
    "duration": 6,
    "start_time": "2023-04-25T11:47:14.429Z"
   },
   {
    "duration": 6,
    "start_time": "2023-04-25T11:47:21.224Z"
   },
   {
    "duration": 182,
    "start_time": "2023-04-25T11:49:00.126Z"
   },
   {
    "duration": 6,
    "start_time": "2023-04-25T11:49:44.656Z"
   },
   {
    "duration": 14,
    "start_time": "2023-04-25T11:51:01.038Z"
   },
   {
    "duration": 621,
    "start_time": "2023-04-25T11:56:03.817Z"
   },
   {
    "duration": 414,
    "start_time": "2023-04-25T11:56:06.302Z"
   },
   {
    "duration": 71,
    "start_time": "2023-04-25T12:03:38.155Z"
   },
   {
    "duration": 73,
    "start_time": "2023-04-25T12:03:49.921Z"
   },
   {
    "duration": 142,
    "start_time": "2023-04-25T12:03:54.667Z"
   },
   {
    "duration": 51,
    "start_time": "2023-04-25T12:05:16.162Z"
   },
   {
    "duration": 605,
    "start_time": "2023-04-25T12:05:26.007Z"
   },
   {
    "duration": 173,
    "start_time": "2023-04-25T12:06:14.034Z"
   },
   {
    "duration": 1404,
    "start_time": "2023-04-25T12:07:03.967Z"
   },
   {
    "duration": 153,
    "start_time": "2023-04-25T12:13:13.048Z"
   },
   {
    "duration": 6,
    "start_time": "2023-04-25T12:13:19.858Z"
   },
   {
    "duration": 157,
    "start_time": "2023-04-25T12:16:46.305Z"
   },
   {
    "duration": 153,
    "start_time": "2023-04-25T12:17:02.071Z"
   },
   {
    "duration": 186,
    "start_time": "2023-04-25T12:17:13.228Z"
   },
   {
    "duration": 174,
    "start_time": "2023-04-25T12:18:04.908Z"
   },
   {
    "duration": 152,
    "start_time": "2023-04-25T12:18:36.365Z"
   },
   {
    "duration": 127,
    "start_time": "2023-04-25T12:19:35.154Z"
   },
   {
    "duration": 170,
    "start_time": "2023-04-25T12:20:25.203Z"
   },
   {
    "duration": 5,
    "start_time": "2023-04-25T12:21:57.850Z"
   },
   {
    "duration": 18,
    "start_time": "2023-04-25T12:23:39.251Z"
   },
   {
    "duration": 3417,
    "start_time": "2023-04-25T12:29:43.623Z"
   },
   {
    "duration": 2494,
    "start_time": "2023-04-25T12:30:06.692Z"
   },
   {
    "duration": 1920,
    "start_time": "2023-04-25T12:34:03.550Z"
   },
   {
    "duration": 157,
    "start_time": "2023-04-25T12:34:14.793Z"
   },
   {
    "duration": 1226,
    "start_time": "2023-04-25T12:36:12.057Z"
   },
   {
    "duration": 173,
    "start_time": "2023-04-25T12:37:14.953Z"
   },
   {
    "duration": 146,
    "start_time": "2023-04-25T12:37:24.929Z"
   },
   {
    "duration": 144,
    "start_time": "2023-04-25T12:37:44.464Z"
   },
   {
    "duration": 240,
    "start_time": "2023-04-25T12:38:36.853Z"
   },
   {
    "duration": 173,
    "start_time": "2023-04-25T12:38:52.955Z"
   },
   {
    "duration": 1584,
    "start_time": "2023-04-25T12:40:27.400Z"
   },
   {
    "duration": 174,
    "start_time": "2023-04-25T12:40:49.657Z"
   },
   {
    "duration": 170,
    "start_time": "2023-04-25T12:42:37.905Z"
   },
   {
    "duration": 13,
    "start_time": "2023-04-25T12:46:23.199Z"
   },
   {
    "duration": 33,
    "start_time": "2023-04-25T12:47:50.420Z"
   },
   {
    "duration": 19,
    "start_time": "2023-04-25T12:59:03.426Z"
   },
   {
    "duration": 24,
    "start_time": "2023-04-25T13:00:11.605Z"
   },
   {
    "duration": 3,
    "start_time": "2023-04-25T13:01:32.354Z"
   },
   {
    "duration": 9,
    "start_time": "2023-04-25T13:01:46.109Z"
   },
   {
    "duration": 7,
    "start_time": "2023-04-25T13:09:55.034Z"
   },
   {
    "duration": 6,
    "start_time": "2023-04-25T13:24:32.957Z"
   },
   {
    "duration": 13,
    "start_time": "2023-04-25T13:25:17.007Z"
   },
   {
    "duration": 15,
    "start_time": "2023-04-25T13:28:31.194Z"
   },
   {
    "duration": 13,
    "start_time": "2023-04-25T13:28:43.035Z"
   },
   {
    "duration": 8,
    "start_time": "2023-04-25T13:30:15.982Z"
   },
   {
    "duration": 15,
    "start_time": "2023-04-25T13:32:07.829Z"
   },
   {
    "duration": 16,
    "start_time": "2023-04-25T13:33:22.732Z"
   },
   {
    "duration": 1493,
    "start_time": "2023-04-25T13:33:31.334Z"
   },
   {
    "duration": 26,
    "start_time": "2023-04-25T13:33:33.216Z"
   },
   {
    "duration": 22,
    "start_time": "2023-04-25T13:33:35.245Z"
   },
   {
    "duration": 6,
    "start_time": "2023-04-25T13:33:37.429Z"
   },
   {
    "duration": 7,
    "start_time": "2023-04-25T13:33:39.917Z"
   },
   {
    "duration": 1504,
    "start_time": "2023-04-25T13:35:09.190Z"
   },
   {
    "duration": 25,
    "start_time": "2023-04-25T13:35:10.696Z"
   },
   {
    "duration": 23,
    "start_time": "2023-04-25T13:35:11.308Z"
   },
   {
    "duration": 6,
    "start_time": "2023-04-25T13:35:12.152Z"
   },
   {
    "duration": 6,
    "start_time": "2023-04-25T13:35:14.144Z"
   },
   {
    "duration": 672,
    "start_time": "2023-04-25T13:35:15.200Z"
   },
   {
    "duration": 6,
    "start_time": "2023-04-25T13:36:13.786Z"
   },
   {
    "duration": 22,
    "start_time": "2023-04-25T13:36:16.145Z"
   },
   {
    "duration": 5,
    "start_time": "2023-04-25T13:36:17.949Z"
   },
   {
    "duration": 55,
    "start_time": "2023-04-25T13:40:21.754Z"
   },
   {
    "duration": 1491,
    "start_time": "2023-04-25T13:40:38.155Z"
   },
   {
    "duration": 35,
    "start_time": "2023-04-25T13:40:42.179Z"
   },
   {
    "duration": 3,
    "start_time": "2023-04-25T13:40:44.920Z"
   },
   {
    "duration": 8,
    "start_time": "2023-04-25T13:40:46.727Z"
   },
   {
    "duration": 7,
    "start_time": "2023-04-25T13:40:49.283Z"
   },
   {
    "duration": 5,
    "start_time": "2023-04-25T13:41:28.423Z"
   },
   {
    "duration": 122,
    "start_time": "2023-04-25T13:41:59.755Z"
   },
   {
    "duration": 22,
    "start_time": "2023-04-25T13:43:35.411Z"
   },
   {
    "duration": 9,
    "start_time": "2023-04-25T13:45:27.982Z"
   },
   {
    "duration": 3,
    "start_time": "2023-04-25T13:45:31.045Z"
   },
   {
    "duration": 13,
    "start_time": "2023-04-25T13:45:33.209Z"
   },
   {
    "duration": 11,
    "start_time": "2023-04-25T13:45:59.883Z"
   },
   {
    "duration": 20,
    "start_time": "2023-04-25T13:46:13.621Z"
   },
   {
    "duration": 1876,
    "start_time": "2023-04-25T19:23:10.629Z"
   },
   {
    "duration": 24,
    "start_time": "2023-04-25T19:23:13.962Z"
   },
   {
    "duration": 2,
    "start_time": "2023-04-25T19:23:15.546Z"
   },
   {
    "duration": 13,
    "start_time": "2023-04-25T19:23:16.888Z"
   },
   {
    "duration": 5,
    "start_time": "2023-04-25T19:23:18.486Z"
   },
   {
    "duration": 5,
    "start_time": "2023-04-25T19:23:18.959Z"
   },
   {
    "duration": 14,
    "start_time": "2023-04-25T19:23:20.659Z"
   },
   {
    "duration": 27,
    "start_time": "2023-04-25T19:23:21.184Z"
   },
   {
    "duration": 19,
    "start_time": "2023-04-25T19:23:22.892Z"
   },
   {
    "duration": 5,
    "start_time": "2023-04-25T19:46:29.381Z"
   },
   {
    "duration": 381,
    "start_time": "2023-04-25T21:27:48.969Z"
   },
   {
    "duration": 9,
    "start_time": "2023-04-25T21:44:39.749Z"
   },
   {
    "duration": 3,
    "start_time": "2023-04-25T21:44:49.578Z"
   },
   {
    "duration": 18,
    "start_time": "2023-04-25T21:44:51.532Z"
   },
   {
    "duration": 3,
    "start_time": "2023-04-25T21:44:59.543Z"
   },
   {
    "duration": 14,
    "start_time": "2023-04-25T21:45:00.246Z"
   },
   {
    "duration": 11,
    "start_time": "2023-04-25T21:45:02.000Z"
   },
   {
    "duration": 1181,
    "start_time": "2023-04-25T21:45:21.014Z"
   },
   {
    "duration": 1468,
    "start_time": "2023-04-25T21:45:36.745Z"
   },
   {
    "duration": 32,
    "start_time": "2023-04-25T21:45:38.215Z"
   },
   {
    "duration": 2,
    "start_time": "2023-04-25T21:45:39.644Z"
   },
   {
    "duration": 6,
    "start_time": "2023-04-25T21:45:40.082Z"
   },
   {
    "duration": 8,
    "start_time": "2023-04-25T21:45:41.034Z"
   },
   {
    "duration": 5,
    "start_time": "2023-04-25T21:45:41.575Z"
   },
   {
    "duration": 22,
    "start_time": "2023-04-25T21:45:44.684Z"
   },
   {
    "duration": 4,
    "start_time": "2023-04-25T21:45:45.326Z"
   },
   {
    "duration": 16,
    "start_time": "2023-04-25T21:45:46.722Z"
   },
   {
    "duration": 4,
    "start_time": "2023-04-25T21:45:48.916Z"
   },
   {
    "duration": 14,
    "start_time": "2023-04-25T21:45:50.021Z"
   },
   {
    "duration": 5,
    "start_time": "2023-04-25T21:45:51.752Z"
   },
   {
    "duration": 1131,
    "start_time": "2023-04-25T21:45:53.949Z"
   },
   {
    "duration": 4,
    "start_time": "2023-04-25T21:46:30.979Z"
   },
   {
    "duration": 17,
    "start_time": "2023-04-25T21:46:35.014Z"
   },
   {
    "duration": 10,
    "start_time": "2023-04-25T21:47:22.148Z"
   },
   {
    "duration": 5,
    "start_time": "2023-04-25T21:47:56.076Z"
   },
   {
    "duration": 29,
    "start_time": "2023-04-25T21:48:21.685Z"
   },
   {
    "duration": 11,
    "start_time": "2023-04-25T22:00:34.148Z"
   },
   {
    "duration": 11,
    "start_time": "2023-04-25T22:00:46.732Z"
   },
   {
    "duration": 1370,
    "start_time": "2023-04-26T13:17:32.333Z"
   },
   {
    "duration": 23,
    "start_time": "2023-04-26T13:17:34.320Z"
   },
   {
    "duration": 2,
    "start_time": "2023-04-26T13:17:35.495Z"
   },
   {
    "duration": 7,
    "start_time": "2023-04-26T13:17:36.207Z"
   },
   {
    "duration": 5,
    "start_time": "2023-04-26T13:17:39.237Z"
   },
   {
    "duration": 7,
    "start_time": "2023-04-26T13:17:39.758Z"
   },
   {
    "duration": 14,
    "start_time": "2023-04-26T13:17:43.608Z"
   },
   {
    "duration": 3,
    "start_time": "2023-04-26T13:17:44.198Z"
   },
   {
    "duration": 16,
    "start_time": "2023-04-26T13:17:45.049Z"
   },
   {
    "duration": 4,
    "start_time": "2023-04-26T13:17:48.054Z"
   },
   {
    "duration": 13,
    "start_time": "2023-04-26T13:17:48.815Z"
   },
   {
    "duration": 5,
    "start_time": "2023-04-26T13:17:52.856Z"
   },
   {
    "duration": 407,
    "start_time": "2023-04-26T13:25:01.906Z"
   },
   {
    "duration": 201,
    "start_time": "2023-04-26T13:30:24.213Z"
   },
   {
    "duration": 209,
    "start_time": "2023-04-26T13:31:48.149Z"
   },
   {
    "duration": 205,
    "start_time": "2023-04-26T13:32:28.033Z"
   },
   {
    "duration": 1250,
    "start_time": "2023-04-26T13:54:31.108Z"
   },
   {
    "duration": 23,
    "start_time": "2023-04-26T13:54:32.360Z"
   },
   {
    "duration": 3,
    "start_time": "2023-04-26T13:54:35.446Z"
   },
   {
    "duration": 5,
    "start_time": "2023-04-26T13:54:36.135Z"
   },
   {
    "duration": 5,
    "start_time": "2023-04-26T13:54:37.317Z"
   },
   {
    "duration": 5,
    "start_time": "2023-04-26T13:54:37.910Z"
   },
   {
    "duration": 14,
    "start_time": "2023-04-26T13:54:41.004Z"
   },
   {
    "duration": 3,
    "start_time": "2023-04-26T13:54:41.739Z"
   },
   {
    "duration": 16,
    "start_time": "2023-04-26T13:54:43.575Z"
   },
   {
    "duration": 4,
    "start_time": "2023-04-26T13:54:45.213Z"
   },
   {
    "duration": 13,
    "start_time": "2023-04-26T13:54:45.853Z"
   },
   {
    "duration": 5,
    "start_time": "2023-04-26T13:54:48.751Z"
   },
   {
    "duration": 22,
    "start_time": "2023-04-26T13:54:51.974Z"
   },
   {
    "duration": 113,
    "start_time": "2023-04-26T13:54:58.862Z"
   },
   {
    "duration": 10,
    "start_time": "2023-04-26T13:56:52.200Z"
   },
   {
    "duration": 15,
    "start_time": "2023-04-26T13:59:16.095Z"
   },
   {
    "duration": 8,
    "start_time": "2023-04-26T17:56:31.706Z"
   },
   {
    "duration": 10,
    "start_time": "2023-04-26T18:18:51.227Z"
   },
   {
    "duration": 1381,
    "start_time": "2023-04-26T18:59:30.658Z"
   },
   {
    "duration": 22,
    "start_time": "2023-04-26T18:59:32.041Z"
   },
   {
    "duration": 23,
    "start_time": "2023-04-26T18:59:32.065Z"
   },
   {
    "duration": 5,
    "start_time": "2023-04-26T18:59:32.327Z"
   },
   {
    "duration": 6,
    "start_time": "2023-04-26T18:59:33.033Z"
   },
   {
    "duration": 5,
    "start_time": "2023-04-26T18:59:33.353Z"
   },
   {
    "duration": 102,
    "start_time": "2023-04-26T18:59:37.395Z"
   },
   {
    "duration": 9,
    "start_time": "2023-04-26T18:59:37.725Z"
   },
   {
    "duration": 9,
    "start_time": "2023-04-26T18:59:38.892Z"
   },
   {
    "duration": 14,
    "start_time": "2023-04-26T18:59:39.214Z"
   },
   {
    "duration": 1325,
    "start_time": "2023-04-26T18:59:55.543Z"
   },
   {
    "duration": 25,
    "start_time": "2023-04-26T18:59:59.057Z"
   },
   {
    "duration": 3,
    "start_time": "2023-04-26T19:00:00.784Z"
   },
   {
    "duration": 7,
    "start_time": "2023-04-26T19:00:02.271Z"
   },
   {
    "duration": 6,
    "start_time": "2023-04-26T19:00:04.295Z"
   },
   {
    "duration": 5,
    "start_time": "2023-04-26T19:00:04.975Z"
   },
   {
    "duration": 14,
    "start_time": "2023-04-26T19:00:07.480Z"
   },
   {
    "duration": 3,
    "start_time": "2023-04-26T19:00:08.869Z"
   },
   {
    "duration": 21,
    "start_time": "2023-04-26T19:00:37.848Z"
   },
   {
    "duration": 4,
    "start_time": "2023-04-26T19:00:49.779Z"
   },
   {
    "duration": 21,
    "start_time": "2023-04-26T19:00:49.827Z"
   },
   {
    "duration": 3,
    "start_time": "2023-04-26T19:00:51.542Z"
   },
   {
    "duration": 15,
    "start_time": "2023-04-26T19:00:52.444Z"
   },
   {
    "duration": 5,
    "start_time": "2023-04-26T19:00:56.028Z"
   },
   {
    "duration": 22,
    "start_time": "2023-04-26T19:00:58.694Z"
   },
   {
    "duration": 12,
    "start_time": "2023-04-26T19:01:00.390Z"
   },
   {
    "duration": 18,
    "start_time": "2023-04-26T19:01:02.127Z"
   },
   {
    "duration": 10,
    "start_time": "2023-04-26T19:01:05.493Z"
   },
   {
    "duration": 7,
    "start_time": "2023-04-26T19:01:09.800Z"
   },
   {
    "duration": 8,
    "start_time": "2023-04-26T19:01:11.121Z"
   },
   {
    "duration": 4,
    "start_time": "2023-04-26T19:01:12.925Z"
   },
   {
    "duration": 6,
    "start_time": "2023-04-26T19:01:14.372Z"
   },
   {
    "duration": 3,
    "start_time": "2023-04-26T19:01:17.992Z"
   },
   {
    "duration": 16,
    "start_time": "2023-04-26T19:01:21.376Z"
   },
   {
    "duration": 13,
    "start_time": "2023-04-26T19:03:22.032Z"
   },
   {
    "duration": 13,
    "start_time": "2023-04-26T19:04:08.136Z"
   },
   {
    "duration": 5,
    "start_time": "2023-04-26T19:08:56.171Z"
   },
   {
    "duration": 20,
    "start_time": "2023-04-26T19:20:45.395Z"
   },
   {
    "duration": 6,
    "start_time": "2023-04-26T19:21:01.322Z"
   },
   {
    "duration": 30,
    "start_time": "2023-04-26T19:39:30.267Z"
   },
   {
    "duration": 14,
    "start_time": "2023-04-26T19:52:45.407Z"
   },
   {
    "duration": 20,
    "start_time": "2023-04-26T19:52:47.208Z"
   },
   {
    "duration": 5,
    "start_time": "2023-04-26T19:52:50.607Z"
   },
   {
    "duration": 30,
    "start_time": "2023-04-26T19:52:51.814Z"
   },
   {
    "duration": 573,
    "start_time": "2023-04-26T19:52:54.832Z"
   },
   {
    "duration": 4,
    "start_time": "2023-04-26T20:07:25.300Z"
   },
   {
    "duration": 6,
    "start_time": "2023-04-26T20:09:21.468Z"
   },
   {
    "duration": 22,
    "start_time": "2023-04-26T20:13:39.352Z"
   },
   {
    "duration": 315,
    "start_time": "2023-04-26T20:21:47.100Z"
   },
   {
    "duration": 881,
    "start_time": "2023-04-26T20:25:50.387Z"
   },
   {
    "duration": 8,
    "start_time": "2023-04-26T20:26:20.602Z"
   },
   {
    "duration": 12,
    "start_time": "2023-04-26T20:28:10.529Z"
   },
   {
    "duration": 6,
    "start_time": "2023-04-26T20:28:17.110Z"
   },
   {
    "duration": 10,
    "start_time": "2023-04-26T20:28:19.812Z"
   },
   {
    "duration": 5,
    "start_time": "2023-04-26T20:28:53.077Z"
   },
   {
    "duration": 6,
    "start_time": "2023-04-26T20:28:53.544Z"
   },
   {
    "duration": 23,
    "start_time": "2023-04-26T20:29:22.115Z"
   },
   {
    "duration": 33,
    "start_time": "2023-04-26T20:30:18.942Z"
   },
   {
    "duration": 9,
    "start_time": "2023-04-26T20:30:21.403Z"
   },
   {
    "duration": 13,
    "start_time": "2023-04-26T20:30:41.319Z"
   },
   {
    "duration": 6,
    "start_time": "2023-04-26T20:30:41.938Z"
   },
   {
    "duration": 700,
    "start_time": "2023-04-26T20:31:48.050Z"
   },
   {
    "duration": 8,
    "start_time": "2023-04-26T20:31:59.406Z"
   },
   {
    "duration": 737,
    "start_time": "2023-04-26T20:33:24.214Z"
   },
   {
    "duration": 10,
    "start_time": "2023-04-26T20:33:32.345Z"
   },
   {
    "duration": 13,
    "start_time": "2023-04-26T20:34:03.781Z"
   },
   {
    "duration": 713,
    "start_time": "2023-04-26T20:34:18.871Z"
   },
   {
    "duration": 727,
    "start_time": "2023-04-26T20:35:27.258Z"
   },
   {
    "duration": 6,
    "start_time": "2023-04-26T20:36:36.632Z"
   },
   {
    "duration": 17,
    "start_time": "2023-04-26T20:37:52.947Z"
   },
   {
    "duration": 764,
    "start_time": "2023-04-26T20:43:49.044Z"
   },
   {
    "duration": 8,
    "start_time": "2023-04-26T20:46:12.042Z"
   },
   {
    "duration": 21,
    "start_time": "2023-04-26T20:46:18.437Z"
   },
   {
    "duration": 739,
    "start_time": "2023-04-26T20:47:22.710Z"
   },
   {
    "duration": 8,
    "start_time": "2023-04-26T20:51:28.188Z"
   },
   {
    "duration": 11,
    "start_time": "2023-04-26T20:51:49.999Z"
   },
   {
    "duration": 710,
    "start_time": "2023-04-26T20:52:07.952Z"
   },
   {
    "duration": 818,
    "start_time": "2023-04-26T20:53:52.990Z"
   },
   {
    "duration": 16,
    "start_time": "2023-04-26T20:57:55.202Z"
   },
   {
    "duration": 13,
    "start_time": "2023-04-26T20:58:19.478Z"
   },
   {
    "duration": 4,
    "start_time": "2023-04-26T20:59:16.291Z"
   },
   {
    "duration": 10,
    "start_time": "2023-04-26T21:00:17.180Z"
   },
   {
    "duration": 4,
    "start_time": "2023-04-26T21:00:42.496Z"
   },
   {
    "duration": 10,
    "start_time": "2023-04-26T21:02:48.260Z"
   },
   {
    "duration": 9,
    "start_time": "2023-04-26T21:03:12.450Z"
   },
   {
    "duration": 1481,
    "start_time": "2023-04-26T21:03:27.018Z"
   },
   {
    "duration": 34,
    "start_time": "2023-04-26T21:03:29.257Z"
   },
   {
    "duration": 3,
    "start_time": "2023-04-26T21:03:30.531Z"
   },
   {
    "duration": 6,
    "start_time": "2023-04-26T21:03:31.036Z"
   },
   {
    "duration": 7,
    "start_time": "2023-04-26T21:03:32.300Z"
   },
   {
    "duration": 11,
    "start_time": "2023-04-26T21:03:33.358Z"
   },
   {
    "duration": 16,
    "start_time": "2023-04-26T21:03:36.179Z"
   },
   {
    "duration": 4,
    "start_time": "2023-04-26T21:03:38.961Z"
   },
   {
    "duration": 21,
    "start_time": "2023-04-26T21:03:39.602Z"
   },
   {
    "duration": 4,
    "start_time": "2023-04-26T21:03:40.377Z"
   },
   {
    "duration": 15,
    "start_time": "2023-04-26T21:03:42.162Z"
   },
   {
    "duration": 6,
    "start_time": "2023-04-26T21:03:43.705Z"
   },
   {
    "duration": 27,
    "start_time": "2023-04-26T21:03:46.308Z"
   },
   {
    "duration": 24,
    "start_time": "2023-04-26T21:03:47.056Z"
   },
   {
    "duration": 19,
    "start_time": "2023-04-26T21:03:48.277Z"
   },
   {
    "duration": 10,
    "start_time": "2023-04-26T21:03:51.876Z"
   },
   {
    "duration": 5,
    "start_time": "2023-04-26T21:03:55.114Z"
   },
   {
    "duration": 8,
    "start_time": "2023-04-26T21:03:56.332Z"
   },
   {
    "duration": 5,
    "start_time": "2023-04-26T21:03:57.317Z"
   },
   {
    "duration": 7,
    "start_time": "2023-04-26T21:03:58.476Z"
   },
   {
    "duration": 4,
    "start_time": "2023-04-26T21:04:01.602Z"
   },
   {
    "duration": 22,
    "start_time": "2023-04-26T21:04:03.472Z"
   },
   {
    "duration": 12,
    "start_time": "2023-04-26T21:04:05.521Z"
   },
   {
    "duration": 22,
    "start_time": "2023-04-26T21:04:07.634Z"
   },
   {
    "duration": 5,
    "start_time": "2023-04-26T21:04:11.104Z"
   },
   {
    "duration": 34,
    "start_time": "2023-04-26T21:04:14.923Z"
   },
   {
    "duration": 554,
    "start_time": "2023-04-26T21:04:17.092Z"
   },
   {
    "duration": 4,
    "start_time": "2023-04-26T21:04:22.243Z"
   },
   {
    "duration": 964,
    "start_time": "2023-04-26T21:04:23.996Z"
   },
   {
    "duration": 10,
    "start_time": "2023-04-26T21:04:31.029Z"
   },
   {
    "duration": 6,
    "start_time": "2023-04-26T21:04:34.161Z"
   },
   {
    "duration": 21,
    "start_time": "2023-04-26T21:04:35.120Z"
   },
   {
    "duration": 5,
    "start_time": "2023-04-26T21:04:37.078Z"
   },
   {
    "duration": 16,
    "start_time": "2023-04-26T21:04:43.177Z"
   },
   {
    "duration": 8,
    "start_time": "2023-04-26T21:04:43.896Z"
   },
   {
    "duration": 12,
    "start_time": "2023-04-26T21:05:56.239Z"
   },
   {
    "duration": 10,
    "start_time": "2023-04-26T21:07:53.370Z"
   },
   {
    "duration": 51,
    "start_time": "2023-04-26T21:08:20.195Z"
   },
   {
    "duration": 807,
    "start_time": "2023-04-26T21:08:54.734Z"
   },
   {
    "duration": 11,
    "start_time": "2023-04-26T21:09:57.456Z"
   },
   {
    "duration": 8,
    "start_time": "2023-04-26T21:11:59.757Z"
   },
   {
    "duration": 4,
    "start_time": "2023-04-26T21:14:58.748Z"
   },
   {
    "duration": 179,
    "start_time": "2023-04-27T13:24:53.879Z"
   },
   {
    "duration": 23,
    "start_time": "2023-04-27T13:24:58.755Z"
   },
   {
    "duration": 5,
    "start_time": "2023-04-27T13:25:05.014Z"
   },
   {
    "duration": 6,
    "start_time": "2023-04-27T13:25:05.699Z"
   },
   {
    "duration": 10,
    "start_time": "2023-04-27T13:41:21.296Z"
   },
   {
    "duration": 6,
    "start_time": "2023-04-27T13:43:20.466Z"
   },
   {
    "duration": 749,
    "start_time": "2023-04-27T13:46:43.810Z"
   },
   {
    "duration": 1242,
    "start_time": "2023-04-27T13:47:47.507Z"
   },
   {
    "duration": 25,
    "start_time": "2023-04-27T13:47:56.836Z"
   },
   {
    "duration": 5,
    "start_time": "2023-04-27T13:48:01.576Z"
   },
   {
    "duration": 100,
    "start_time": "2023-04-27T13:48:22.405Z"
   },
   {
    "duration": 8,
    "start_time": "2023-04-27T13:49:22.406Z"
   },
   {
    "duration": 3,
    "start_time": "2023-04-27T13:50:12.405Z"
   },
   {
    "duration": 17,
    "start_time": "2023-04-27T13:50:15.467Z"
   },
   {
    "duration": 4,
    "start_time": "2023-04-27T13:50:20.562Z"
   },
   {
    "duration": 24,
    "start_time": "2023-04-27T13:50:21.698Z"
   },
   {
    "duration": 4,
    "start_time": "2023-04-27T13:50:31.772Z"
   },
   {
    "duration": 12,
    "start_time": "2023-04-27T13:50:32.612Z"
   },
   {
    "duration": 6,
    "start_time": "2023-04-27T13:50:36.243Z"
   },
   {
    "duration": 2,
    "start_time": "2023-04-27T13:53:33.164Z"
   },
   {
    "duration": 3,
    "start_time": "2023-04-27T13:53:36.442Z"
   },
   {
    "duration": 3,
    "start_time": "2023-04-27T13:54:02.643Z"
   },
   {
    "duration": 15,
    "start_time": "2023-04-27T13:54:03.798Z"
   },
   {
    "duration": 4,
    "start_time": "2023-04-27T13:54:04.525Z"
   },
   {
    "duration": 24,
    "start_time": "2023-04-27T13:54:05.206Z"
   },
   {
    "duration": 16,
    "start_time": "2023-04-27T13:58:07.285Z"
   },
   {
    "duration": 30,
    "start_time": "2023-04-27T13:58:31.136Z"
   },
   {
    "duration": 4,
    "start_time": "2023-04-27T14:00:48.815Z"
   },
   {
    "duration": 4,
    "start_time": "2023-04-27T14:00:58.044Z"
   },
   {
    "duration": 3,
    "start_time": "2023-04-27T14:01:08.259Z"
   },
   {
    "duration": 50,
    "start_time": "2023-04-27T14:03:29.414Z"
   },
   {
    "duration": 25,
    "start_time": "2023-04-27T14:03:38.950Z"
   },
   {
    "duration": 2356,
    "start_time": "2023-05-01T08:17:40.174Z"
   },
   {
    "duration": 54,
    "start_time": "2023-05-01T08:17:42.532Z"
   },
   {
    "duration": 21,
    "start_time": "2023-05-01T08:17:42.596Z"
   },
   {
    "duration": 8,
    "start_time": "2023-05-01T08:17:44.209Z"
   },
   {
    "duration": 32,
    "start_time": "2023-05-01T08:17:44.871Z"
   },
   {
    "duration": 37,
    "start_time": "2023-05-01T08:17:45.517Z"
   },
   {
    "duration": 7,
    "start_time": "2023-05-01T08:17:47.706Z"
   },
   {
    "duration": 41,
    "start_time": "2023-05-01T08:17:49.887Z"
   },
   {
    "duration": 14,
    "start_time": "2023-05-01T08:17:51.604Z"
   },
   {
    "duration": 19,
    "start_time": "2023-05-01T08:17:52.317Z"
   },
   {
    "duration": 13,
    "start_time": "2023-05-01T08:17:56.328Z"
   },
   {
    "duration": 4,
    "start_time": "2023-05-01T08:17:59.517Z"
   },
   {
    "duration": 18,
    "start_time": "2023-05-01T08:18:01.679Z"
   },
   {
    "duration": 7,
    "start_time": "2023-05-01T08:18:02.586Z"
   },
   {
    "duration": 7,
    "start_time": "2023-05-01T08:18:03.508Z"
   },
   {
    "duration": 7,
    "start_time": "2023-05-01T08:18:05.262Z"
   },
   {
    "duration": 30,
    "start_time": "2023-05-01T08:18:07.868Z"
   },
   {
    "duration": 24,
    "start_time": "2023-05-01T08:18:09.233Z"
   },
   {
    "duration": 37,
    "start_time": "2023-05-01T08:18:15.380Z"
   },
   {
    "duration": 6,
    "start_time": "2023-05-01T08:18:18.767Z"
   },
   {
    "duration": 48,
    "start_time": "2023-05-01T08:18:22.179Z"
   },
   {
    "duration": 970,
    "start_time": "2023-05-01T08:18:24.832Z"
   },
   {
    "duration": 6,
    "start_time": "2023-05-01T08:18:29.627Z"
   },
   {
    "duration": 6,
    "start_time": "2023-05-01T08:18:30.789Z"
   },
   {
    "duration": 15,
    "start_time": "2023-05-01T08:18:31.211Z"
   },
   {
    "duration": 8,
    "start_time": "2023-05-01T08:18:35.484Z"
   },
   {
    "duration": 68,
    "start_time": "2023-05-01T08:18:36.883Z"
   },
   {
    "duration": 5,
    "start_time": "2023-05-01T08:18:40.514Z"
   },
   {
    "duration": 16,
    "start_time": "2023-05-01T08:18:47.628Z"
   },
   {
    "duration": 8,
    "start_time": "2023-05-01T08:18:54.613Z"
   },
   {
    "duration": 1756,
    "start_time": "2023-05-01T08:47:17.418Z"
   },
   {
    "duration": 34,
    "start_time": "2023-05-01T08:47:19.180Z"
   },
   {
    "duration": 39,
    "start_time": "2023-05-01T08:48:23.527Z"
   },
   {
    "duration": 5,
    "start_time": "2023-05-01T08:49:27.485Z"
   },
   {
    "duration": 5,
    "start_time": "2023-05-01T08:51:13.767Z"
   },
   {
    "duration": 4,
    "start_time": "2023-05-01T08:51:56.820Z"
   },
   {
    "duration": 125,
    "start_time": "2023-05-01T08:52:03.309Z"
   },
   {
    "duration": 2259,
    "start_time": "2023-05-01T08:52:19.668Z"
   },
   {
    "duration": 7,
    "start_time": "2023-05-01T08:55:13.392Z"
   },
   {
    "duration": 28,
    "start_time": "2023-05-01T09:02:02.066Z"
   },
   {
    "duration": 8,
    "start_time": "2023-05-01T09:02:16.030Z"
   },
   {
    "duration": 5,
    "start_time": "2023-05-01T09:06:51.635Z"
   },
   {
    "duration": 5,
    "start_time": "2023-05-01T09:06:52.144Z"
   },
   {
    "duration": 10,
    "start_time": "2023-05-01T09:11:14.003Z"
   },
   {
    "duration": 13,
    "start_time": "2023-05-01T13:06:15.797Z"
   },
   {
    "duration": 10,
    "start_time": "2023-05-01T13:08:12.917Z"
   },
   {
    "duration": 20,
    "start_time": "2023-05-01T13:08:22.811Z"
   },
   {
    "duration": 1471,
    "start_time": "2023-05-01T13:08:48.288Z"
   },
   {
    "duration": 28,
    "start_time": "2023-05-01T13:08:50.220Z"
   },
   {
    "duration": 8,
    "start_time": "2023-05-01T13:08:52.311Z"
   },
   {
    "duration": 8,
    "start_time": "2023-05-01T13:08:53.645Z"
   },
   {
    "duration": 5,
    "start_time": "2023-05-01T13:08:54.850Z"
   },
   {
    "duration": 3,
    "start_time": "2023-05-01T13:08:55.792Z"
   },
   {
    "duration": 11,
    "start_time": "2023-05-01T13:08:56.919Z"
   },
   {
    "duration": 12,
    "start_time": "2023-05-01T13:08:59.591Z"
   },
   {
    "duration": 19,
    "start_time": "2023-05-01T13:09:00.214Z"
   },
   {
    "duration": 33,
    "start_time": "2023-05-01T13:09:30.818Z"
   },
   {
    "duration": 30,
    "start_time": "2023-05-01T13:09:58.939Z"
   },
   {
    "duration": 7,
    "start_time": "2023-05-01T13:10:08.107Z"
   },
   {
    "duration": 10,
    "start_time": "2023-05-01T13:14:21.934Z"
   },
   {
    "duration": 16,
    "start_time": "2023-05-01T13:14:26.779Z"
   },
   {
    "duration": 14,
    "start_time": "2023-05-01T13:16:20.458Z"
   },
   {
    "duration": 1653,
    "start_time": "2023-05-01T13:17:59.356Z"
   },
   {
    "duration": 31,
    "start_time": "2023-05-01T13:18:01.012Z"
   },
   {
    "duration": 6,
    "start_time": "2023-05-01T13:18:05.490Z"
   },
   {
    "duration": 8,
    "start_time": "2023-05-01T13:18:15.378Z"
   },
   {
    "duration": 7,
    "start_time": "2023-05-01T13:18:17.455Z"
   },
   {
    "duration": 2,
    "start_time": "2023-05-01T13:18:18.530Z"
   },
   {
    "duration": 20,
    "start_time": "2023-05-01T13:18:23.343Z"
   },
   {
    "duration": 12,
    "start_time": "2023-05-01T13:18:27.495Z"
   },
   {
    "duration": 33,
    "start_time": "2023-05-01T13:18:35.611Z"
   },
   {
    "duration": 6,
    "start_time": "2023-05-01T13:18:41.500Z"
   },
   {
    "duration": 10,
    "start_time": "2023-05-01T13:18:45.213Z"
   },
   {
    "duration": 116,
    "start_time": "2023-05-01T13:21:38.598Z"
   },
   {
    "duration": 20,
    "start_time": "2023-05-01T13:21:44.942Z"
   },
   {
    "duration": 10,
    "start_time": "2023-05-01T13:21:53.413Z"
   },
   {
    "duration": 24,
    "start_time": "2023-05-01T13:22:05.306Z"
   },
   {
    "duration": 1637,
    "start_time": "2023-05-01T13:22:23.068Z"
   },
   {
    "duration": 26,
    "start_time": "2023-05-01T13:22:24.708Z"
   },
   {
    "duration": 8,
    "start_time": "2023-05-01T13:22:25.301Z"
   },
   {
    "duration": 7,
    "start_time": "2023-05-01T13:22:28.180Z"
   },
   {
    "duration": 5,
    "start_time": "2023-05-01T13:22:29.687Z"
   },
   {
    "duration": 4,
    "start_time": "2023-05-01T13:22:31.066Z"
   },
   {
    "duration": 25,
    "start_time": "2023-05-01T13:22:31.840Z"
   },
   {
    "duration": 13,
    "start_time": "2023-05-01T13:22:33.309Z"
   },
   {
    "duration": 32,
    "start_time": "2023-05-01T13:22:34.395Z"
   },
   {
    "duration": 7,
    "start_time": "2023-05-01T13:22:37.438Z"
   },
   {
    "duration": 10,
    "start_time": "2023-05-01T13:22:47.420Z"
   },
   {
    "duration": 23,
    "start_time": "2023-05-01T13:22:48.010Z"
   },
   {
    "duration": 160,
    "start_time": "2023-05-01T13:23:53.485Z"
   },
   {
    "duration": 23,
    "start_time": "2023-05-01T13:23:54.387Z"
   },
   {
    "duration": 9,
    "start_time": "2023-05-01T13:23:57.369Z"
   },
   {
    "duration": 3,
    "start_time": "2023-05-01T13:23:58.991Z"
   },
   {
    "duration": 135,
    "start_time": "2023-05-01T13:24:00.002Z"
   },
   {
    "duration": 20,
    "start_time": "2023-05-01T13:24:23.837Z"
   },
   {
    "duration": 25,
    "start_time": "2023-05-01T13:24:34.439Z"
   },
   {
    "duration": 12,
    "start_time": "2023-05-01T13:24:36.821Z"
   },
   {
    "duration": 41,
    "start_time": "2023-05-01T13:24:40.954Z"
   },
   {
    "duration": 7,
    "start_time": "2023-05-01T13:24:45.931Z"
   },
   {
    "duration": 7,
    "start_time": "2023-05-01T13:24:56.456Z"
   },
   {
    "duration": 23,
    "start_time": "2023-05-01T13:24:57.003Z"
   },
   {
    "duration": 17,
    "start_time": "2023-05-01T13:26:06.852Z"
   },
   {
    "duration": 25,
    "start_time": "2023-05-01T13:26:22.105Z"
   },
   {
    "duration": 1413,
    "start_time": "2023-05-01T13:27:10.597Z"
   },
   {
    "duration": 23,
    "start_time": "2023-05-01T13:27:26.033Z"
   },
   {
    "duration": 14,
    "start_time": "2023-05-01T13:27:39.790Z"
   },
   {
    "duration": 7,
    "start_time": "2023-05-01T13:28:18.057Z"
   },
   {
    "duration": 6,
    "start_time": "2023-05-01T13:28:51.290Z"
   },
   {
    "duration": 6,
    "start_time": "2023-05-01T13:29:59.737Z"
   },
   {
    "duration": 5,
    "start_time": "2023-05-01T13:30:32.817Z"
   },
   {
    "duration": 39,
    "start_time": "2023-05-01T13:36:08.121Z"
   },
   {
    "duration": 32,
    "start_time": "2023-05-01T13:36:31.841Z"
   },
   {
    "duration": 18,
    "start_time": "2023-05-01T13:36:54.758Z"
   },
   {
    "duration": 19,
    "start_time": "2023-05-01T14:16:23.156Z"
   },
   {
    "duration": 28,
    "start_time": "2023-05-01T14:17:05.817Z"
   },
   {
    "duration": 15,
    "start_time": "2023-05-01T14:22:29.982Z"
   },
   {
    "duration": 18,
    "start_time": "2023-05-01T14:23:06.790Z"
   },
   {
    "duration": 38,
    "start_time": "2023-05-01T14:23:26.654Z"
   },
   {
    "duration": 22,
    "start_time": "2023-05-01T14:24:12.791Z"
   },
   {
    "duration": 8,
    "start_time": "2023-05-01T14:24:55.814Z"
   },
   {
    "duration": 8,
    "start_time": "2023-05-01T14:25:01.751Z"
   },
   {
    "duration": 13,
    "start_time": "2023-05-01T14:25:16.703Z"
   },
   {
    "duration": 17,
    "start_time": "2023-05-01T14:25:29.719Z"
   },
   {
    "duration": 24,
    "start_time": "2023-05-01T14:25:48.872Z"
   },
   {
    "duration": 66,
    "start_time": "2023-05-01T14:26:01.800Z"
   },
   {
    "duration": 55,
    "start_time": "2023-05-01T14:26:08.786Z"
   },
   {
    "duration": 5,
    "start_time": "2023-05-01T14:26:54.175Z"
   },
   {
    "duration": 6,
    "start_time": "2023-05-01T14:27:38.250Z"
   },
   {
    "duration": 1366,
    "start_time": "2023-05-05T10:47:46.949Z"
   },
   {
    "duration": 33,
    "start_time": "2023-05-05T10:48:09.633Z"
   },
   {
    "duration": 10,
    "start_time": "2023-05-05T10:48:24.996Z"
   },
   {
    "duration": 6,
    "start_time": "2023-05-05T10:48:32.160Z"
   },
   {
    "duration": 5,
    "start_time": "2023-05-05T10:49:27.640Z"
   },
   {
    "duration": 10,
    "start_time": "2023-05-05T10:49:42.360Z"
   },
   {
    "duration": 13,
    "start_time": "2023-05-05T10:49:56.624Z"
   },
   {
    "duration": 48,
    "start_time": "2023-05-05T10:50:14.609Z"
   },
   {
    "duration": 43,
    "start_time": "2023-05-05T10:51:14.761Z"
   },
   {
    "duration": 14,
    "start_time": "2023-05-05T10:51:18.161Z"
   },
   {
    "duration": 8,
    "start_time": "2023-05-05T10:51:50.249Z"
   },
   {
    "duration": 17,
    "start_time": "2023-05-05T10:52:16.689Z"
   },
   {
    "duration": 5,
    "start_time": "2023-05-05T10:52:34.216Z"
   },
   {
    "duration": 6,
    "start_time": "2023-05-05T10:53:11.073Z"
   },
   {
    "duration": 20,
    "start_time": "2023-05-05T10:53:18.488Z"
   },
   {
    "duration": 1016,
    "start_time": "2023-05-05T10:54:05.159Z"
   },
   {
    "duration": 21,
    "start_time": "2023-05-05T10:57:30.777Z"
   },
   {
    "duration": 19,
    "start_time": "2023-05-05T10:57:50.960Z"
   },
   {
    "duration": 72,
    "start_time": "2023-05-05T10:58:15.224Z"
   },
   {
    "duration": 38,
    "start_time": "2023-05-05T10:58:50.328Z"
   },
   {
    "duration": 6,
    "start_time": "2023-05-05T10:59:57.049Z"
   },
   {
    "duration": 4,
    "start_time": "2023-05-05T11:00:17.154Z"
   },
   {
    "duration": 43,
    "start_time": "2023-05-05T11:00:43.862Z"
   },
   {
    "duration": 6,
    "start_time": "2023-05-05T11:01:12.163Z"
   },
   {
    "duration": 15,
    "start_time": "2023-05-05T11:01:33.689Z"
   },
   {
    "duration": 5,
    "start_time": "2023-05-05T11:01:57.378Z"
   },
   {
    "duration": 10,
    "start_time": "2023-05-05T11:02:04.632Z"
   },
   {
    "duration": 6,
    "start_time": "2023-05-05T11:02:20.408Z"
   },
   {
    "duration": 4,
    "start_time": "2023-05-05T11:02:39.683Z"
   },
   {
    "duration": 77,
    "start_time": "2023-05-05T11:02:51.682Z"
   },
   {
    "duration": 38,
    "start_time": "2023-05-05T11:03:00.412Z"
   },
   {
    "duration": 7,
    "start_time": "2023-05-05T11:04:11.857Z"
   },
   {
    "duration": 5,
    "start_time": "2023-05-05T11:04:44.068Z"
   },
   {
    "duration": 23,
    "start_time": "2023-05-05T11:05:05.104Z"
   },
   {
    "duration": 117,
    "start_time": "2023-05-05T11:05:13.776Z"
   },
   {
    "duration": 5,
    "start_time": "2023-05-05T11:05:23.144Z"
   },
   {
    "duration": 180,
    "start_time": "2023-05-05T11:05:42.771Z"
   },
   {
    "duration": 338,
    "start_time": "2023-05-05T11:05:57.220Z"
   },
   {
    "duration": 5,
    "start_time": "2023-05-05T11:06:09.234Z"
   },
   {
    "duration": 214,
    "start_time": "2023-05-05T11:06:22.921Z"
   },
   {
    "duration": 341,
    "start_time": "2023-05-05T11:06:45.838Z"
   },
   {
    "duration": 18,
    "start_time": "2023-05-05T11:07:05.736Z"
   },
   {
    "duration": 190,
    "start_time": "2023-05-05T11:07:17.560Z"
   },
   {
    "duration": 23,
    "start_time": "2023-05-05T11:07:43.946Z"
   },
   {
    "duration": 290,
    "start_time": "2023-05-05T11:07:59.258Z"
   },
   {
    "duration": 16,
    "start_time": "2023-05-05T11:08:19.622Z"
   },
   {
    "duration": 203,
    "start_time": "2023-05-05T11:08:32.225Z"
   },
   {
    "duration": 12,
    "start_time": "2023-05-05T11:16:57.240Z"
   },
   {
    "duration": 9,
    "start_time": "2023-05-05T11:21:33.950Z"
   },
   {
    "duration": 9,
    "start_time": "2023-05-05T11:29:53.377Z"
   },
   {
    "duration": 8,
    "start_time": "2023-05-05T11:30:05.122Z"
   },
   {
    "duration": 15,
    "start_time": "2023-05-05T11:39:59.186Z"
   },
   {
    "duration": 260,
    "start_time": "2023-05-05T11:40:15.921Z"
   },
   {
    "duration": 980,
    "start_time": "2023-05-05T11:54:46.252Z"
   },
   {
    "duration": 147,
    "start_time": "2023-05-05T11:57:28.636Z"
   },
   {
    "duration": 157,
    "start_time": "2023-05-05T11:59:50.381Z"
   },
   {
    "duration": 275,
    "start_time": "2023-05-05T12:00:13.661Z"
   },
   {
    "duration": 10,
    "start_time": "2023-05-05T12:07:27.069Z"
   },
   {
    "duration": 32,
    "start_time": "2023-05-05T12:07:36.878Z"
   },
   {
    "duration": 331,
    "start_time": "2023-05-05T12:19:01.428Z"
   },
   {
    "duration": 10,
    "start_time": "2023-05-05T12:23:20.738Z"
   },
   {
    "duration": 172,
    "start_time": "2023-05-05T12:23:31.553Z"
   },
   {
    "duration": 348,
    "start_time": "2023-05-05T12:24:04.153Z"
   },
   {
    "duration": 1820,
    "start_time": "2023-05-05T16:28:26.065Z"
   },
   {
    "duration": 24,
    "start_time": "2023-05-05T16:28:27.888Z"
   },
   {
    "duration": 7,
    "start_time": "2023-05-05T16:28:27.913Z"
   },
   {
    "duration": 8,
    "start_time": "2023-05-05T16:28:28.124Z"
   },
   {
    "duration": 5,
    "start_time": "2023-05-05T16:28:28.491Z"
   },
   {
    "duration": 12,
    "start_time": "2023-05-05T16:28:28.827Z"
   },
   {
    "duration": 12,
    "start_time": "2023-05-05T16:28:29.191Z"
   },
   {
    "duration": 48,
    "start_time": "2023-05-05T16:28:29.569Z"
   },
   {
    "duration": 14,
    "start_time": "2023-05-05T16:28:31.090Z"
   },
   {
    "duration": 9,
    "start_time": "2023-05-05T16:28:31.444Z"
   },
   {
    "duration": 17,
    "start_time": "2023-05-05T16:28:31.846Z"
   },
   {
    "duration": 6,
    "start_time": "2023-05-05T16:28:32.003Z"
   },
   {
    "duration": 4,
    "start_time": "2023-05-05T16:28:32.403Z"
   },
   {
    "duration": 22,
    "start_time": "2023-05-05T16:28:33.806Z"
   },
   {
    "duration": 1100,
    "start_time": "2023-05-05T16:28:34.405Z"
   },
   {
    "duration": 16,
    "start_time": "2023-05-05T16:28:35.507Z"
   },
   {
    "duration": 29,
    "start_time": "2023-05-05T16:28:36.332Z"
   },
   {
    "duration": 70,
    "start_time": "2023-05-05T16:28:36.793Z"
   },
   {
    "duration": 64,
    "start_time": "2023-05-05T16:28:38.330Z"
   },
   {
    "duration": 8,
    "start_time": "2023-05-05T16:28:38.925Z"
   },
   {
    "duration": 4,
    "start_time": "2023-05-05T16:28:39.356Z"
   },
   {
    "duration": 26,
    "start_time": "2023-05-05T16:28:39.963Z"
   },
   {
    "duration": 7,
    "start_time": "2023-05-05T16:28:41.358Z"
   },
   {
    "duration": 7,
    "start_time": "2023-05-05T16:28:41.809Z"
   },
   {
    "duration": 4,
    "start_time": "2023-05-05T16:28:43.420Z"
   },
   {
    "duration": 8,
    "start_time": "2023-05-05T16:28:43.625Z"
   },
   {
    "duration": 10,
    "start_time": "2023-05-05T16:28:44.838Z"
   },
   {
    "duration": 5,
    "start_time": "2023-05-05T16:28:45.654Z"
   },
   {
    "duration": 46,
    "start_time": "2023-05-05T16:28:46.055Z"
   },
   {
    "duration": 26,
    "start_time": "2023-05-05T16:28:46.873Z"
   },
   {
    "duration": 6,
    "start_time": "2023-05-05T16:28:47.294Z"
   },
   {
    "duration": 4,
    "start_time": "2023-05-05T16:28:47.691Z"
   },
   {
    "duration": 20,
    "start_time": "2023-05-05T16:28:48.903Z"
   },
   {
    "duration": 5,
    "start_time": "2023-05-05T16:28:49.113Z"
   },
   {
    "duration": 154,
    "start_time": "2023-05-05T16:28:50.648Z"
   },
   {
    "duration": 301,
    "start_time": "2023-05-05T16:28:50.870Z"
   },
   {
    "duration": 5,
    "start_time": "2023-05-05T16:28:51.173Z"
   },
   {
    "duration": 213,
    "start_time": "2023-05-05T16:28:51.302Z"
   },
   {
    "duration": 276,
    "start_time": "2023-05-05T16:28:51.712Z"
   },
   {
    "duration": 15,
    "start_time": "2023-05-05T16:28:52.863Z"
   },
   {
    "duration": 155,
    "start_time": "2023-05-05T16:28:53.074Z"
   },
   {
    "duration": 217,
    "start_time": "2023-05-05T16:28:53.690Z"
   },
   {
    "duration": 21,
    "start_time": "2023-05-05T16:28:54.951Z"
   },
   {
    "duration": 250,
    "start_time": "2023-05-05T16:28:55.147Z"
   },
   {
    "duration": 11,
    "start_time": "2023-05-05T16:28:58.008Z"
   },
   {
    "duration": 165,
    "start_time": "2023-05-05T16:28:58.428Z"
   },
   {
    "duration": 11,
    "start_time": "2023-05-05T18:26:51.603Z"
   },
   {
    "duration": 113,
    "start_time": "2023-05-05T18:27:11.365Z"
   },
   {
    "duration": 15,
    "start_time": "2023-05-05T18:27:19.065Z"
   },
   {
    "duration": 3,
    "start_time": "2023-05-05T18:28:18.907Z"
   },
   {
    "duration": 241,
    "start_time": "2023-05-05T18:28:58.730Z"
   },
   {
    "duration": 1462,
    "start_time": "2023-05-05T18:29:47.113Z"
   },
   {
    "duration": 198,
    "start_time": "2023-05-05T18:30:09.996Z"
   },
   {
    "duration": 224,
    "start_time": "2023-05-05T18:34:32.196Z"
   },
   {
    "duration": 2754,
    "start_time": "2023-05-05T18:40:04.385Z"
   },
   {
    "duration": 15,
    "start_time": "2023-05-05T18:46:26.782Z"
   },
   {
    "duration": 4,
    "start_time": "2023-05-05T18:47:00.072Z"
   },
   {
    "duration": 359,
    "start_time": "2023-05-05T18:47:26.414Z"
   },
   {
    "duration": 9,
    "start_time": "2023-05-05T18:47:49.367Z"
   },
   {
    "duration": 1532,
    "start_time": "2023-05-05T18:48:04.995Z"
   },
   {
    "duration": 13,
    "start_time": "2023-05-05T18:48:40.783Z"
   },
   {
    "duration": 24,
    "start_time": "2023-05-05T18:48:55.159Z"
   },
   {
    "duration": 6,
    "start_time": "2023-05-05T18:50:53.194Z"
   },
   {
    "duration": 14,
    "start_time": "2023-05-05T18:51:18.599Z"
   },
   {
    "duration": 22,
    "start_time": "2023-05-05T18:51:29.493Z"
   },
   {
    "duration": 27,
    "start_time": "2023-05-05T18:54:09.177Z"
   },
   {
    "duration": 1367,
    "start_time": "2023-05-05T18:55:28.805Z"
   },
   {
    "duration": 21,
    "start_time": "2023-05-05T18:55:30.174Z"
   },
   {
    "duration": 5,
    "start_time": "2023-05-05T18:55:30.197Z"
   },
   {
    "duration": 11,
    "start_time": "2023-05-05T18:55:30.204Z"
   },
   {
    "duration": 10,
    "start_time": "2023-05-05T18:55:30.216Z"
   },
   {
    "duration": 26,
    "start_time": "2023-05-05T18:55:30.227Z"
   },
   {
    "duration": 25,
    "start_time": "2023-05-05T18:55:30.254Z"
   },
   {
    "duration": 30,
    "start_time": "2023-05-05T18:55:30.281Z"
   },
   {
    "duration": 14,
    "start_time": "2023-05-05T18:55:30.313Z"
   },
   {
    "duration": 22,
    "start_time": "2023-05-05T18:55:30.329Z"
   },
   {
    "duration": 58,
    "start_time": "2023-05-05T18:55:30.353Z"
   },
   {
    "duration": 26,
    "start_time": "2023-05-05T18:55:30.413Z"
   },
   {
    "duration": 54,
    "start_time": "2023-05-05T18:55:30.443Z"
   },
   {
    "duration": 31,
    "start_time": "2023-05-05T18:55:30.498Z"
   },
   {
    "duration": 1067,
    "start_time": "2023-05-05T18:55:30.532Z"
   },
   {
    "duration": 14,
    "start_time": "2023-05-05T18:55:31.601Z"
   },
   {
    "duration": 46,
    "start_time": "2023-05-05T18:55:31.616Z"
   },
   {
    "duration": 89,
    "start_time": "2023-05-05T18:55:31.664Z"
   },
   {
    "duration": 39,
    "start_time": "2023-05-05T18:55:31.755Z"
   },
   {
    "duration": 6,
    "start_time": "2023-05-05T18:55:31.795Z"
   },
   {
    "duration": 21,
    "start_time": "2023-05-05T18:55:31.802Z"
   },
   {
    "duration": 66,
    "start_time": "2023-05-05T18:55:31.825Z"
   },
   {
    "duration": 6,
    "start_time": "2023-05-05T18:55:31.892Z"
   },
   {
    "duration": 11,
    "start_time": "2023-05-05T18:55:31.900Z"
   },
   {
    "duration": 5,
    "start_time": "2023-05-05T18:55:31.913Z"
   },
   {
    "duration": 13,
    "start_time": "2023-05-05T18:55:31.920Z"
   },
   {
    "duration": 42,
    "start_time": "2023-05-05T18:55:31.935Z"
   },
   {
    "duration": 9,
    "start_time": "2023-05-05T18:55:31.980Z"
   },
   {
    "duration": 54,
    "start_time": "2023-05-05T18:55:31.990Z"
   },
   {
    "duration": 40,
    "start_time": "2023-05-05T18:55:32.046Z"
   },
   {
    "duration": 8,
    "start_time": "2023-05-05T18:55:32.087Z"
   },
   {
    "duration": 17,
    "start_time": "2023-05-05T18:55:32.096Z"
   },
   {
    "duration": 30,
    "start_time": "2023-05-05T18:55:32.115Z"
   },
   {
    "duration": 28,
    "start_time": "2023-05-05T18:55:32.147Z"
   },
   {
    "duration": 160,
    "start_time": "2023-05-05T18:55:32.176Z"
   },
   {
    "duration": 311,
    "start_time": "2023-05-05T18:55:32.338Z"
   },
   {
    "duration": 4,
    "start_time": "2023-05-05T18:55:32.661Z"
   },
   {
    "duration": 264,
    "start_time": "2023-05-05T18:55:32.670Z"
   },
   {
    "duration": 230,
    "start_time": "2023-05-05T18:55:32.936Z"
   },
   {
    "duration": 17,
    "start_time": "2023-05-05T18:55:33.170Z"
   },
   {
    "duration": 188,
    "start_time": "2023-05-05T18:55:33.189Z"
   },
   {
    "duration": 239,
    "start_time": "2023-05-05T18:55:33.379Z"
   },
   {
    "duration": 31,
    "start_time": "2023-05-05T18:55:33.620Z"
   },
   {
    "duration": 253,
    "start_time": "2023-05-05T18:55:33.652Z"
   },
   {
    "duration": 12,
    "start_time": "2023-05-05T18:55:33.906Z"
   },
   {
    "duration": 210,
    "start_time": "2023-05-05T18:55:33.920Z"
   },
   {
    "duration": 31,
    "start_time": "2023-05-05T18:55:34.135Z"
   },
   {
    "duration": 24,
    "start_time": "2023-05-05T18:55:34.168Z"
   },
   {
    "duration": 19,
    "start_time": "2023-05-05T18:56:00.869Z"
   },
   {
    "duration": 21,
    "start_time": "2023-05-05T18:56:12.461Z"
   },
   {
    "duration": 4,
    "start_time": "2023-05-05T18:59:06.728Z"
   },
   {
    "duration": 4,
    "start_time": "2023-05-05T18:59:28.597Z"
   },
   {
    "duration": 19,
    "start_time": "2023-05-05T18:59:55.153Z"
   },
   {
    "duration": 294,
    "start_time": "2023-05-05T19:01:13.963Z"
   },
   {
    "duration": 207,
    "start_time": "2023-05-05T19:01:37.093Z"
   },
   {
    "duration": 7,
    "start_time": "2023-05-05T19:04:20.759Z"
   },
   {
    "duration": 179,
    "start_time": "2023-05-05T19:04:36.386Z"
   },
   {
    "duration": 141,
    "start_time": "2023-05-05T19:04:48.979Z"
   },
   {
    "duration": 237,
    "start_time": "2023-05-05T19:04:54.476Z"
   },
   {
    "duration": 184,
    "start_time": "2023-05-05T19:04:59.459Z"
   },
   {
    "duration": 166,
    "start_time": "2023-05-05T19:05:08.467Z"
   },
   {
    "duration": 151,
    "start_time": "2023-05-05T19:05:12.002Z"
   },
   {
    "duration": 29,
    "start_time": "2023-05-05T19:05:26.760Z"
   },
   {
    "duration": 36,
    "start_time": "2023-05-05T19:06:34.556Z"
   },
   {
    "duration": 33,
    "start_time": "2023-05-05T19:07:03.774Z"
   },
   {
    "duration": 277,
    "start_time": "2023-05-05T19:07:50.086Z"
   },
   {
    "duration": 148,
    "start_time": "2023-05-05T19:09:05.095Z"
   },
   {
    "duration": 154,
    "start_time": "2023-05-05T19:10:41.298Z"
   },
   {
    "duration": 106,
    "start_time": "2023-05-05T19:12:06.699Z"
   },
   {
    "duration": 2791,
    "start_time": "2023-05-05T19:13:54.087Z"
   },
   {
    "duration": 277,
    "start_time": "2023-05-05T19:16:25.711Z"
   },
   {
    "duration": 4,
    "start_time": "2023-05-05T19:18:04.305Z"
   },
   {
    "duration": 4,
    "start_time": "2023-05-05T19:18:05.598Z"
   },
   {
    "duration": 19,
    "start_time": "2023-05-05T19:18:28.214Z"
   },
   {
    "duration": 317,
    "start_time": "2023-05-05T19:19:24.693Z"
   },
   {
    "duration": 215,
    "start_time": "2023-05-05T19:20:28.968Z"
   },
   {
    "duration": 210,
    "start_time": "2023-05-05T19:20:41.902Z"
   },
   {
    "duration": 8,
    "start_time": "2023-05-05T19:22:17.545Z"
   },
   {
    "duration": 82,
    "start_time": "2023-05-05T19:27:50.342Z"
   },
   {
    "duration": 22,
    "start_time": "2023-05-05T19:30:42.229Z"
   },
   {
    "duration": 17,
    "start_time": "2023-05-05T19:32:01.941Z"
   },
   {
    "duration": 18,
    "start_time": "2023-05-05T19:32:51.111Z"
   },
   {
    "duration": 31,
    "start_time": "2023-05-05T19:37:24.077Z"
   },
   {
    "duration": 34,
    "start_time": "2023-05-05T19:37:35.357Z"
   },
   {
    "duration": 24,
    "start_time": "2023-05-05T19:41:11.683Z"
   },
   {
    "duration": 25,
    "start_time": "2023-05-05T19:44:50.281Z"
   },
   {
    "duration": 126,
    "start_time": "2023-05-05T19:47:19.105Z"
   },
   {
    "duration": 5,
    "start_time": "2023-05-05T19:51:05.612Z"
   },
   {
    "duration": 10,
    "start_time": "2023-05-05T19:54:58.031Z"
   },
   {
    "duration": 10,
    "start_time": "2023-05-05T19:56:43.618Z"
   },
   {
    "duration": 11,
    "start_time": "2023-05-05T19:56:50.131Z"
   },
   {
    "duration": 10,
    "start_time": "2023-05-05T19:57:16.553Z"
   },
   {
    "duration": 16,
    "start_time": "2023-05-05T19:59:12.625Z"
   },
   {
    "duration": 11,
    "start_time": "2023-05-05T19:59:26.920Z"
   },
   {
    "duration": 19,
    "start_time": "2023-05-05T20:00:34.835Z"
   },
   {
    "duration": 12,
    "start_time": "2023-05-05T20:01:43.339Z"
   },
   {
    "duration": 10,
    "start_time": "2023-05-05T20:02:28.583Z"
   },
   {
    "duration": 8,
    "start_time": "2023-05-05T20:03:57.796Z"
   },
   {
    "duration": 1250,
    "start_time": "2023-05-05T20:04:14.853Z"
   },
   {
    "duration": 22,
    "start_time": "2023-05-05T20:04:16.105Z"
   },
   {
    "duration": 5,
    "start_time": "2023-05-05T20:04:17.217Z"
   },
   {
    "duration": 5,
    "start_time": "2023-05-05T20:04:21.515Z"
   },
   {
    "duration": 5,
    "start_time": "2023-05-05T20:04:23.596Z"
   },
   {
    "duration": 8,
    "start_time": "2023-05-05T20:04:24.248Z"
   },
   {
    "duration": 11,
    "start_time": "2023-05-05T20:04:26.001Z"
   },
   {
    "duration": 31,
    "start_time": "2023-05-05T20:04:26.795Z"
   },
   {
    "duration": 15,
    "start_time": "2023-05-05T20:04:29.204Z"
   },
   {
    "duration": 7,
    "start_time": "2023-05-05T20:04:29.683Z"
   },
   {
    "duration": 17,
    "start_time": "2023-05-05T20:04:30.794Z"
   },
   {
    "duration": 5,
    "start_time": "2023-05-05T20:04:31.000Z"
   },
   {
    "duration": 3,
    "start_time": "2023-05-05T20:04:31.427Z"
   },
   {
    "duration": 20,
    "start_time": "2023-05-05T20:04:31.653Z"
   },
   {
    "duration": 914,
    "start_time": "2023-05-05T20:04:32.512Z"
   },
   {
    "duration": 18,
    "start_time": "2023-05-05T20:04:34.555Z"
   },
   {
    "duration": 17,
    "start_time": "2023-05-05T20:04:35.195Z"
   },
   {
    "duration": 31,
    "start_time": "2023-05-05T20:04:36.225Z"
   },
   {
    "duration": 41,
    "start_time": "2023-05-05T20:04:37.031Z"
   },
   {
    "duration": 6,
    "start_time": "2023-05-05T20:04:37.714Z"
   },
   {
    "duration": 4,
    "start_time": "2023-05-05T20:04:38.820Z"
   },
   {
    "duration": 33,
    "start_time": "2023-05-05T20:04:39.429Z"
   },
   {
    "duration": 6,
    "start_time": "2023-05-05T20:04:40.606Z"
   },
   {
    "duration": 4,
    "start_time": "2023-05-05T20:04:41.012Z"
   },
   {
    "duration": 3,
    "start_time": "2023-05-05T20:04:41.450Z"
   },
   {
    "duration": 7,
    "start_time": "2023-05-05T20:04:41.810Z"
   },
   {
    "duration": 6,
    "start_time": "2023-05-05T20:04:43.003Z"
   },
   {
    "duration": 5,
    "start_time": "2023-05-05T20:04:43.853Z"
   },
   {
    "duration": 43,
    "start_time": "2023-05-05T20:04:44.350Z"
   },
   {
    "duration": 27,
    "start_time": "2023-05-05T20:04:44.803Z"
   },
   {
    "duration": 6,
    "start_time": "2023-05-05T20:04:46.282Z"
   },
   {
    "duration": 5,
    "start_time": "2023-05-05T20:04:47.761Z"
   },
   {
    "duration": 33,
    "start_time": "2023-05-05T20:04:48.217Z"
   },
   {
    "duration": 4,
    "start_time": "2023-05-05T20:04:49.307Z"
   },
   {
    "duration": 160,
    "start_time": "2023-05-05T20:04:51.618Z"
   },
   {
    "duration": 346,
    "start_time": "2023-05-05T20:04:52.796Z"
   },
   {
    "duration": 8,
    "start_time": "2023-05-05T20:04:53.148Z"
   },
   {
    "duration": 209,
    "start_time": "2023-05-05T20:04:54.196Z"
   },
   {
    "duration": 347,
    "start_time": "2023-05-05T20:04:55.919Z"
   },
   {
    "duration": 19,
    "start_time": "2023-05-05T20:04:58.279Z"
   },
   {
    "duration": 182,
    "start_time": "2023-05-05T20:04:58.460Z"
   },
   {
    "duration": 234,
    "start_time": "2023-05-05T20:04:59.795Z"
   },
   {
    "duration": 20,
    "start_time": "2023-05-05T20:05:00.194Z"
   },
   {
    "duration": 246,
    "start_time": "2023-05-05T20:05:01.196Z"
   },
   {
    "duration": 12,
    "start_time": "2023-05-05T20:05:01.596Z"
   },
   {
    "duration": 160,
    "start_time": "2023-05-05T20:05:02.856Z"
   },
   {
    "duration": 127,
    "start_time": "2023-05-05T20:05:05.300Z"
   },
   {
    "duration": 6,
    "start_time": "2023-05-05T20:05:06.799Z"
   },
   {
    "duration": 12,
    "start_time": "2023-05-05T20:05:08.498Z"
   },
   {
    "duration": 12,
    "start_time": "2023-05-05T20:05:11.814Z"
   },
   {
    "duration": 271,
    "start_time": "2023-05-05T20:05:14.057Z"
   },
   {
    "duration": 10,
    "start_time": "2023-05-05T20:06:06.840Z"
   },
   {
    "duration": 9,
    "start_time": "2023-05-05T20:10:48.155Z"
   },
   {
    "duration": 7,
    "start_time": "2023-05-05T20:11:11.449Z"
   },
   {
    "duration": 7,
    "start_time": "2023-05-05T20:12:02.794Z"
   },
   {
    "duration": 6,
    "start_time": "2023-05-05T20:12:24.955Z"
   },
   {
    "duration": 399,
    "start_time": "2023-05-05T20:16:41.697Z"
   },
   {
    "duration": 19,
    "start_time": "2023-05-05T20:17:31.328Z"
   },
   {
    "duration": 11,
    "start_time": "2023-05-05T20:17:40.406Z"
   },
   {
    "duration": 7,
    "start_time": "2023-05-05T20:18:05.111Z"
   },
   {
    "duration": 418,
    "start_time": "2023-05-05T20:20:35.722Z"
   },
   {
    "duration": 398,
    "start_time": "2023-05-05T20:21:55.171Z"
   },
   {
    "duration": 536,
    "start_time": "2023-05-05T20:22:10.481Z"
   },
   {
    "duration": 129,
    "start_time": "2023-05-05T20:24:34.134Z"
   },
   {
    "duration": 383,
    "start_time": "2023-05-05T20:25:09.989Z"
   },
   {
    "duration": 1804,
    "start_time": "2023-05-05T20:26:01.886Z"
   },
   {
    "duration": 71,
    "start_time": "2023-05-05T20:27:12.625Z"
   },
   {
    "duration": 4,
    "start_time": "2023-05-05T20:29:30.908Z"
   },
   {
    "duration": 15,
    "start_time": "2023-05-05T20:30:20.908Z"
   },
   {
    "duration": 17,
    "start_time": "2023-05-05T20:31:26.229Z"
   },
   {
    "duration": 6,
    "start_time": "2023-05-05T20:34:14.305Z"
   },
   {
    "duration": 215,
    "start_time": "2023-05-05T20:35:24.539Z"
   },
   {
    "duration": 7,
    "start_time": "2023-05-05T20:38:11.253Z"
   },
   {
    "duration": 8,
    "start_time": "2023-05-05T20:38:36.504Z"
   },
   {
    "duration": 4,
    "start_time": "2023-05-05T20:38:55.457Z"
   },
   {
    "duration": 8,
    "start_time": "2023-05-05T20:39:03.087Z"
   },
   {
    "duration": 8,
    "start_time": "2023-05-05T20:42:55.191Z"
   },
   {
    "duration": 10,
    "start_time": "2023-05-05T20:44:24.887Z"
   },
   {
    "duration": 9,
    "start_time": "2023-05-05T20:45:06.550Z"
   },
   {
    "duration": 9,
    "start_time": "2023-05-05T20:46:08.363Z"
   },
   {
    "duration": 8,
    "start_time": "2023-05-05T20:47:33.576Z"
   },
   {
    "duration": 15,
    "start_time": "2023-05-05T20:47:55.294Z"
   },
   {
    "duration": 13,
    "start_time": "2023-05-05T20:48:09.517Z"
   },
   {
    "duration": 12,
    "start_time": "2023-05-05T20:48:19.962Z"
   },
   {
    "duration": 8,
    "start_time": "2023-05-05T20:48:38.988Z"
   },
   {
    "duration": 166,
    "start_time": "2023-05-05T20:48:44.293Z"
   },
   {
    "duration": 11,
    "start_time": "2023-05-05T20:48:45.191Z"
   },
   {
    "duration": 143,
    "start_time": "2023-05-05T20:50:00.953Z"
   },
   {
    "duration": 4,
    "start_time": "2023-05-05T20:50:10.588Z"
   },
   {
    "duration": 16055,
    "start_time": "2023-05-05T20:53:31.853Z"
   },
   {
    "duration": 16593,
    "start_time": "2023-05-05T20:54:38.195Z"
   },
   {
    "duration": 425,
    "start_time": "2023-05-05T20:55:18.186Z"
   },
   {
    "duration": 247,
    "start_time": "2023-05-05T20:55:27.300Z"
   },
   {
    "duration": 167,
    "start_time": "2023-05-05T20:56:23.890Z"
   },
   {
    "duration": 7,
    "start_time": "2023-05-05T20:57:23.977Z"
   },
   {
    "duration": 10,
    "start_time": "2023-05-05T20:57:37.356Z"
   },
   {
    "duration": 390,
    "start_time": "2023-05-05T20:58:42.720Z"
   },
   {
    "duration": 402,
    "start_time": "2023-05-05T21:00:17.487Z"
   },
   {
    "duration": 174,
    "start_time": "2023-05-05T21:01:45.403Z"
   },
   {
    "duration": 23,
    "start_time": "2023-05-05T21:04:04.727Z"
   },
   {
    "duration": 222,
    "start_time": "2023-05-05T21:05:07.185Z"
   },
   {
    "duration": 259,
    "start_time": "2023-05-05T21:06:35.480Z"
   },
   {
    "duration": 246,
    "start_time": "2023-05-05T21:07:28.760Z"
   },
   {
    "duration": 167,
    "start_time": "2023-05-05T21:07:55.063Z"
   },
   {
    "duration": 148,
    "start_time": "2023-05-05T21:08:43.413Z"
   },
   {
    "duration": 150,
    "start_time": "2023-05-05T21:08:55.603Z"
   },
   {
    "duration": 156,
    "start_time": "2023-05-05T21:11:48.726Z"
   },
   {
    "duration": 9,
    "start_time": "2023-05-05T21:14:17.455Z"
   },
   {
    "duration": 6,
    "start_time": "2023-05-05T21:16:42.462Z"
   },
   {
    "duration": 6,
    "start_time": "2023-05-05T21:16:47.184Z"
   },
   {
    "duration": 7,
    "start_time": "2023-05-05T21:16:52.060Z"
   },
   {
    "duration": 10,
    "start_time": "2023-05-05T21:17:23.793Z"
   },
   {
    "duration": 25,
    "start_time": "2023-05-05T21:20:29.557Z"
   },
   {
    "duration": 15213,
    "start_time": "2023-05-05T21:21:34.982Z"
   },
   {
    "duration": 332,
    "start_time": "2023-05-05T21:22:47.011Z"
   },
   {
    "duration": 21,
    "start_time": "2023-05-05T21:26:20.733Z"
   },
   {
    "duration": 146,
    "start_time": "2023-05-05T21:27:00.603Z"
   },
   {
    "duration": 137,
    "start_time": "2023-05-05T21:27:18.452Z"
   },
   {
    "duration": 126,
    "start_time": "2023-05-05T21:27:51.890Z"
   },
   {
    "duration": 9,
    "start_time": "2023-05-05T21:28:39.080Z"
   },
   {
    "duration": 144,
    "start_time": "2023-05-05T21:29:08.715Z"
   },
   {
    "duration": 172,
    "start_time": "2023-05-05T21:29:20.580Z"
   },
   {
    "duration": 2059,
    "start_time": "2023-05-07T13:16:04.816Z"
   },
   {
    "duration": 23,
    "start_time": "2023-05-07T13:16:26.445Z"
   },
   {
    "duration": 20,
    "start_time": "2023-05-07T13:17:54.758Z"
   },
   {
    "duration": 5,
    "start_time": "2023-05-07T13:17:56.265Z"
   },
   {
    "duration": 6,
    "start_time": "2023-05-07T13:17:58.142Z"
   },
   {
    "duration": 4,
    "start_time": "2023-05-07T13:18:00.651Z"
   },
   {
    "duration": 9,
    "start_time": "2023-05-07T13:18:01.247Z"
   },
   {
    "duration": 15,
    "start_time": "2023-05-07T13:18:01.600Z"
   },
   {
    "duration": 35,
    "start_time": "2023-05-07T13:18:03.119Z"
   },
   {
    "duration": 15,
    "start_time": "2023-05-07T13:18:04.835Z"
   },
   {
    "duration": 7,
    "start_time": "2023-05-07T13:18:19.242Z"
   },
   {
    "duration": 15,
    "start_time": "2023-05-07T13:18:25.980Z"
   },
   {
    "duration": 6,
    "start_time": "2023-05-07T13:18:27.403Z"
   },
   {
    "duration": 4,
    "start_time": "2023-05-07T13:18:32.277Z"
   },
   {
    "duration": 21,
    "start_time": "2023-05-07T13:18:33.899Z"
   },
   {
    "duration": 15,
    "start_time": "2023-05-07T13:21:45.287Z"
   },
   {
    "duration": 17,
    "start_time": "2023-05-07T13:24:43.643Z"
   },
   {
    "duration": 68,
    "start_time": "2023-05-07T13:24:48.769Z"
   },
   {
    "duration": 42,
    "start_time": "2023-05-07T13:28:57.717Z"
   },
   {
    "duration": 42,
    "start_time": "2023-05-07T13:29:37.689Z"
   },
   {
    "duration": 8,
    "start_time": "2023-05-07T13:30:34.109Z"
   },
   {
    "duration": 5,
    "start_time": "2023-05-07T13:30:40.953Z"
   },
   {
    "duration": 28,
    "start_time": "2023-05-07T13:43:11.353Z"
   },
   {
    "duration": 29,
    "start_time": "2023-05-07T13:43:45.152Z"
   },
   {
    "duration": 5,
    "start_time": "2023-05-07T13:44:12.742Z"
   },
   {
    "duration": 6,
    "start_time": "2023-05-07T13:44:20.811Z"
   },
   {
    "duration": 4,
    "start_time": "2023-05-07T13:44:22.798Z"
   },
   {
    "duration": 6,
    "start_time": "2023-05-07T13:44:25.608Z"
   },
   {
    "duration": 6,
    "start_time": "2023-05-07T13:44:26.477Z"
   },
   {
    "duration": 5,
    "start_time": "2023-05-07T13:46:11.161Z"
   },
   {
    "duration": 56,
    "start_time": "2023-05-07T13:46:11.650Z"
   },
   {
    "duration": 20,
    "start_time": "2023-05-07T13:46:14.850Z"
   },
   {
    "duration": 6,
    "start_time": "2023-05-07T13:46:34.707Z"
   },
   {
    "duration": 4,
    "start_time": "2023-05-07T13:47:03.230Z"
   },
   {
    "duration": 22,
    "start_time": "2023-05-07T13:47:16.306Z"
   },
   {
    "duration": 176,
    "start_time": "2023-05-07T13:48:58.970Z"
   },
   {
    "duration": 191,
    "start_time": "2023-05-07T13:49:22.835Z"
   },
   {
    "duration": 182,
    "start_time": "2023-05-07T13:49:42.516Z"
   },
   {
    "duration": 315,
    "start_time": "2023-05-07T13:49:57.744Z"
   },
   {
    "duration": 5,
    "start_time": "2023-05-07T13:50:03.147Z"
   },
   {
    "duration": 205,
    "start_time": "2023-05-07T13:50:17.769Z"
   },
   {
    "duration": 276,
    "start_time": "2023-05-07T13:52:05.134Z"
   },
   {
    "duration": 252,
    "start_time": "2023-05-07T13:54:53.825Z"
   },
   {
    "duration": 24,
    "start_time": "2023-05-07T13:55:14.205Z"
   },
   {
    "duration": 262,
    "start_time": "2023-05-07T13:56:04.615Z"
   },
   {
    "duration": 19,
    "start_time": "2023-05-07T13:56:43.747Z"
   },
   {
    "duration": 261,
    "start_time": "2023-05-07T13:56:45.948Z"
   },
   {
    "duration": 13,
    "start_time": "2023-05-07T13:57:02.700Z"
   },
   {
    "duration": 197,
    "start_time": "2023-05-07T13:57:17.557Z"
   },
   {
    "duration": 143,
    "start_time": "2023-05-07T13:59:55.033Z"
   },
   {
    "duration": 5,
    "start_time": "2023-05-07T14:01:11.723Z"
   },
   {
    "duration": 10,
    "start_time": "2023-05-07T14:01:12.044Z"
   },
   {
    "duration": 5,
    "start_time": "2023-05-07T14:01:14.127Z"
   },
   {
    "duration": 17,
    "start_time": "2023-05-07T14:01:15.596Z"
   },
   {
    "duration": 12,
    "start_time": "2023-05-07T14:01:22.005Z"
   },
   {
    "duration": 7,
    "start_time": "2023-05-07T14:01:41.113Z"
   },
   {
    "duration": 169,
    "start_time": "2023-05-07T14:02:10.265Z"
   },
   {
    "duration": 122,
    "start_time": "2023-05-07T14:02:22.945Z"
   },
   {
    "duration": 201,
    "start_time": "2023-05-07T14:02:34.013Z"
   },
   {
    "duration": 12,
    "start_time": "2023-05-07T14:02:36.082Z"
   },
   {
    "duration": 3,
    "start_time": "2023-05-07T14:03:10.617Z"
   },
   {
    "duration": 448,
    "start_time": "2023-05-07T14:03:12.503Z"
   },
   {
    "duration": 336,
    "start_time": "2023-05-07T14:04:11.698Z"
   },
   {
    "duration": 3,
    "start_time": "2023-05-07T14:04:34.560Z"
   },
   {
    "duration": 207,
    "start_time": "2023-05-07T14:04:52.132Z"
   },
   {
    "duration": 149,
    "start_time": "2023-05-07T14:05:16.567Z"
   },
   {
    "duration": 259,
    "start_time": "2023-05-07T14:05:56.654Z"
   },
   {
    "duration": 331,
    "start_time": "2023-05-07T14:06:22.259Z"
   },
   {
    "duration": 11,
    "start_time": "2023-05-07T14:06:38.417Z"
   },
   {
    "duration": 159,
    "start_time": "2023-05-07T14:06:47.859Z"
   },
   {
    "duration": 8,
    "start_time": "2023-05-07T14:06:59.668Z"
   },
   {
    "duration": 296,
    "start_time": "2023-05-07T14:07:11.371Z"
   },
   {
    "duration": 157,
    "start_time": "2023-05-07T14:07:59.593Z"
   }
  ],
  "colab": {
   "name": "DA+. Сборный проект 1. Шаблон (1).ipynb",
   "provenance": []
  },
  "kernelspec": {
   "display_name": "Python 3 (ipykernel)",
   "language": "python",
   "name": "python3"
  },
  "language_info": {
   "codemirror_mode": {
    "name": "ipython",
    "version": 3
   },
   "file_extension": ".py",
   "mimetype": "text/x-python",
   "name": "python",
   "nbconvert_exporter": "python",
   "pygments_lexer": "ipython3",
   "version": "3.9.5"
  },
  "toc": {
   "base_numbering": 1,
   "nav_menu": {},
   "number_sections": true,
   "sideBar": true,
   "skip_h1_title": true,
   "title_cell": "Table of Contents",
   "title_sidebar": "Contents",
   "toc_cell": false,
   "toc_position": {
    "height": "calc(100% - 180px)",
    "left": "10px",
    "top": "150px",
    "width": "375.391px"
   },
   "toc_section_display": true,
   "toc_window_display": false
  }
 },
 "nbformat": 4,
 "nbformat_minor": 1
}
